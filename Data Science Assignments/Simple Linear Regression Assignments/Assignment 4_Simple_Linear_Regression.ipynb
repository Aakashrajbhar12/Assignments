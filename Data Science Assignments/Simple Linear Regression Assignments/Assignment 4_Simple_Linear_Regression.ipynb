{
 "cells": [
  {
   "cell_type": "markdown",
   "id": "cc335fee",
   "metadata": {},
   "source": [
    "### Assignment 4 --Simple Linear Regression"
   ]
  },
  {
   "cell_type": "markdown",
   "id": "0ef77aad",
   "metadata": {},
   "source": [
    "#### Q1. Problem Statement\n",
    "\n",
    "Delivery_time -> Predict delivery time using sorting time \n",
    "\n",
    "Dataset: delivery_time.csv"
   ]
  },
  {
   "cell_type": "code",
   "execution_count": 1,
   "id": "b3710dc7",
   "metadata": {},
   "outputs": [],
   "source": [
    "#Loading the Required Libaries\n",
    "import numpy as np\n",
    "import pandas as pd\n",
    "import seaborn as sns\n",
    "\n",
    "import warnings\n",
    "warnings.filterwarnings(\"ignore\")  #--to ignore warnings"
   ]
  },
  {
   "cell_type": "code",
   "execution_count": 2,
   "id": "ce9754e1",
   "metadata": {
    "scrolled": true
   },
   "outputs": [
    {
     "data": {
      "text/html": [
       "<div>\n",
       "<style scoped>\n",
       "    .dataframe tbody tr th:only-of-type {\n",
       "        vertical-align: middle;\n",
       "    }\n",
       "\n",
       "    .dataframe tbody tr th {\n",
       "        vertical-align: top;\n",
       "    }\n",
       "\n",
       "    .dataframe thead th {\n",
       "        text-align: right;\n",
       "    }\n",
       "</style>\n",
       "<table border=\"1\" class=\"dataframe\">\n",
       "  <thead>\n",
       "    <tr style=\"text-align: right;\">\n",
       "      <th></th>\n",
       "      <th>Delivery Time</th>\n",
       "      <th>Sorting Time</th>\n",
       "    </tr>\n",
       "  </thead>\n",
       "  <tbody>\n",
       "    <tr>\n",
       "      <th>0</th>\n",
       "      <td>21.00</td>\n",
       "      <td>10</td>\n",
       "    </tr>\n",
       "    <tr>\n",
       "      <th>1</th>\n",
       "      <td>13.50</td>\n",
       "      <td>4</td>\n",
       "    </tr>\n",
       "    <tr>\n",
       "      <th>2</th>\n",
       "      <td>19.75</td>\n",
       "      <td>6</td>\n",
       "    </tr>\n",
       "    <tr>\n",
       "      <th>3</th>\n",
       "      <td>24.00</td>\n",
       "      <td>9</td>\n",
       "    </tr>\n",
       "    <tr>\n",
       "      <th>4</th>\n",
       "      <td>29.00</td>\n",
       "      <td>10</td>\n",
       "    </tr>\n",
       "  </tbody>\n",
       "</table>\n",
       "</div>"
      ],
      "text/plain": [
       "   Delivery Time  Sorting Time\n",
       "0          21.00            10\n",
       "1          13.50             4\n",
       "2          19.75             6\n",
       "3          24.00             9\n",
       "4          29.00            10"
      ]
     },
     "execution_count": 2,
     "metadata": {},
     "output_type": "execute_result"
    }
   ],
   "source": [
    "#Loading the Dataset\n",
    "Data = pd.read_csv(\"C:/Users/Akaash/Downloads/delivery_time.csv\")\n",
    "Data.head()"
   ]
  },
  {
   "cell_type": "markdown",
   "id": "f8169b81",
   "metadata": {},
   "source": [
    "#### Renaming the Column\n",
    "Because of Spaces between Column Names"
   ]
  },
  {
   "cell_type": "code",
   "execution_count": 3,
   "id": "c72161e8",
   "metadata": {},
   "outputs": [
    {
     "data": {
      "text/html": [
       "<div>\n",
       "<style scoped>\n",
       "    .dataframe tbody tr th:only-of-type {\n",
       "        vertical-align: middle;\n",
       "    }\n",
       "\n",
       "    .dataframe tbody tr th {\n",
       "        vertical-align: top;\n",
       "    }\n",
       "\n",
       "    .dataframe thead th {\n",
       "        text-align: right;\n",
       "    }\n",
       "</style>\n",
       "<table border=\"1\" class=\"dataframe\">\n",
       "  <thead>\n",
       "    <tr style=\"text-align: right;\">\n",
       "      <th></th>\n",
       "      <th>Delivery_Time</th>\n",
       "      <th>Sorting_Time</th>\n",
       "    </tr>\n",
       "  </thead>\n",
       "  <tbody>\n",
       "    <tr>\n",
       "      <th>0</th>\n",
       "      <td>21.00</td>\n",
       "      <td>10</td>\n",
       "    </tr>\n",
       "    <tr>\n",
       "      <th>1</th>\n",
       "      <td>13.50</td>\n",
       "      <td>4</td>\n",
       "    </tr>\n",
       "    <tr>\n",
       "      <th>2</th>\n",
       "      <td>19.75</td>\n",
       "      <td>6</td>\n",
       "    </tr>\n",
       "    <tr>\n",
       "      <th>3</th>\n",
       "      <td>24.00</td>\n",
       "      <td>9</td>\n",
       "    </tr>\n",
       "    <tr>\n",
       "      <th>4</th>\n",
       "      <td>29.00</td>\n",
       "      <td>10</td>\n",
       "    </tr>\n",
       "  </tbody>\n",
       "</table>\n",
       "</div>"
      ],
      "text/plain": [
       "   Delivery_Time  Sorting_Time\n",
       "0          21.00            10\n",
       "1          13.50             4\n",
       "2          19.75             6\n",
       "3          24.00             9\n",
       "4          29.00            10"
      ]
     },
     "execution_count": 3,
     "metadata": {},
     "output_type": "execute_result"
    }
   ],
   "source": [
    "#rename the Delivery Time & Sorting Time column axis=1 perform it based on column \n",
    "Dataset = Data.rename({'Delivery Time': 'Delivery_Time','Sorting Time': 'Sorting_Time'}, axis=1)\n",
    "Dataset.head()"
   ]
  },
  {
   "cell_type": "code",
   "execution_count": 4,
   "id": "9713446e",
   "metadata": {},
   "outputs": [
    {
     "data": {
      "text/plain": [
       "Delivery_Time    0\n",
       "Sorting_Time     0\n",
       "dtype: int64"
      ]
     },
     "execution_count": 4,
     "metadata": {},
     "output_type": "execute_result"
    }
   ],
   "source": [
    "#Checking NA Values\n",
    "Dataset.isnull().sum()"
   ]
  },
  {
   "cell_type": "markdown",
   "id": "2dbbce80",
   "metadata": {},
   "source": [
    "Inference: No NA Values are present in the Data"
   ]
  },
  {
   "cell_type": "markdown",
   "id": "9ff55c09",
   "metadata": {},
   "source": [
    "#### Declare the X & Y Variable\n",
    "--> As we need to predict Delivery Time in this Case So,\n",
    "\n",
    "--> Y is Delivery_Time (Dependent)\n",
    "\n",
    "--> X is Sorting_Time (Independent)\n",
    "\n",
    "--> Delivery_Time ~ Sorting_Time"
   ]
  },
  {
   "cell_type": "markdown",
   "id": "2e96f4dd",
   "metadata": {},
   "source": [
    "#### Correlation"
   ]
  },
  {
   "cell_type": "code",
   "execution_count": 5,
   "id": "466721c5",
   "metadata": {},
   "outputs": [
    {
     "data": {
      "text/html": [
       "<div>\n",
       "<style scoped>\n",
       "    .dataframe tbody tr th:only-of-type {\n",
       "        vertical-align: middle;\n",
       "    }\n",
       "\n",
       "    .dataframe tbody tr th {\n",
       "        vertical-align: top;\n",
       "    }\n",
       "\n",
       "    .dataframe thead th {\n",
       "        text-align: right;\n",
       "    }\n",
       "</style>\n",
       "<table border=\"1\" class=\"dataframe\">\n",
       "  <thead>\n",
       "    <tr style=\"text-align: right;\">\n",
       "      <th></th>\n",
       "      <th>Delivery_Time</th>\n",
       "      <th>Sorting_Time</th>\n",
       "    </tr>\n",
       "  </thead>\n",
       "  <tbody>\n",
       "    <tr>\n",
       "      <th>Delivery_Time</th>\n",
       "      <td>1.000000</td>\n",
       "      <td>0.825997</td>\n",
       "    </tr>\n",
       "    <tr>\n",
       "      <th>Sorting_Time</th>\n",
       "      <td>0.825997</td>\n",
       "      <td>1.000000</td>\n",
       "    </tr>\n",
       "  </tbody>\n",
       "</table>\n",
       "</div>"
      ],
      "text/plain": [
       "               Delivery_Time  Sorting_Time\n",
       "Delivery_Time       1.000000      0.825997\n",
       "Sorting_Time        0.825997      1.000000"
      ]
     },
     "execution_count": 5,
     "metadata": {},
     "output_type": "execute_result"
    }
   ],
   "source": [
    "#Using corr()\n",
    "Dataset.corr()"
   ]
  },
  {
   "cell_type": "markdown",
   "id": "891aa901",
   "metadata": {},
   "source": [
    "Inference: \n",
    "\n",
    "As it can be seen Correlation between Delivery_Time and Sorting_Time is 0.82 which indicates Positively Strong Correlation\n",
    "\n",
    "Also this prove Sorting_Time is required to Predict Delivery_Time"
   ]
  },
  {
   "cell_type": "markdown",
   "id": "14abff7f",
   "metadata": {},
   "source": [
    "#### Plotting -- Distribution"
   ]
  },
  {
   "cell_type": "code",
   "execution_count": 6,
   "id": "a5b2b218",
   "metadata": {},
   "outputs": [
    {
     "data": {
      "text/plain": [
       "<AxesSubplot:xlabel='Delivery_Time', ylabel='Density'>"
      ]
     },
     "execution_count": 6,
     "metadata": {},
     "output_type": "execute_result"
    },
    {
     "data": {
      "image/png": "[encoded data removed]",
      "text/plain": [
       "<Figure size 432x288 with 1 Axes>"
      ]
     },
     "metadata": {
      "needs_background": "light"
     },
     "output_type": "display_data"
    }
   ],
   "source": [
    "#Distribution Plot for Deliver_Time feature\n",
    "sns.distplot(Dataset[\"Delivery_Time\"])"
   ]
  },
  {
   "cell_type": "code",
   "execution_count": 7,
   "id": "556db0ca",
   "metadata": {},
   "outputs": [
    {
     "data": {
      "text/plain": [
       "<AxesSubplot:xlabel='Sorting_Time', ylabel='Density'>"
      ]
     },
     "execution_count": 7,
     "metadata": {},
     "output_type": "execute_result"
    },
    {
     "data": {
      "image/png": "[encoded data removed]",
      "text/plain": [
       "<Figure size 432x288 with 1 Axes>"
      ]
     },
     "metadata": {
      "needs_background": "light"
     },
     "output_type": "display_data"
    }
   ],
   "source": [
    "#Distribution Plot for Sorting_Time feature\n",
    "sns.distplot(Dataset[\"Sorting_Time\"])"
   ]
  },
  {
   "cell_type": "markdown",
   "id": "8b50825f",
   "metadata": {},
   "source": [
    "Inference:\n",
    "\n",
    "Delivery_Time: Distribution is not normal for Delivery_Time,as seems to be slighty Bimodel on the right hand side, and has positive skewness\n",
    "\n",
    "Sorting_Time: It Follows Normal Distribution."
   ]
  },
  {
   "cell_type": "markdown",
   "id": "dcac71ae",
   "metadata": {},
   "source": [
    "#### Model Building --Fitting a Linear Regression model"
   ]
  },
  {
   "cell_type": "code",
   "execution_count": 8,
   "id": "ecccd624",
   "metadata": {},
   "outputs": [],
   "source": [
    "#Building the model\n",
    "import statsmodels.formula.api as smf\n",
    "model = smf.ols('Delivery_Time~Sorting_Time',data = Dataset).fit()"
   ]
  },
  {
   "cell_type": "code",
   "execution_count": 9,
   "id": "eabc8e3c",
   "metadata": {},
   "outputs": [
    {
     "data": {
      "image/png": "[encoded data removed]",
      "text/plain": [
       "<Figure size 432x288 with 1 Axes>"
      ]
     },
     "metadata": {
      "needs_background": "light"
     },
     "output_type": "display_data"
    }
   ],
   "source": [
    "#Best Fit line\n",
    "sns.regplot(x=\"Sorting_Time\", y=\"Delivery_Time\", data=Dataset);"
   ]
  },
  {
   "cell_type": "code",
   "execution_count": 10,
   "id": "e48a05f2",
   "metadata": {},
   "outputs": [
    {
     "data": {
      "text/plain": [
       "Intercept       6.582734\n",
       "Sorting_Time    1.649020\n",
       "dtype: float64"
      ]
     },
     "execution_count": 10,
     "metadata": {},
     "output_type": "execute_result"
    }
   ],
   "source": [
    "#Coefficients\n",
    "model.params"
   ]
  },
  {
   "cell_type": "markdown",
   "id": "35e6c17c",
   "metadata": {},
   "source": [
    "Inference: Intercept is B0 = 6.5, Sorting_Time is B1 = 1.64"
   ]
  },
  {
   "cell_type": "code",
   "execution_count": 11,
   "id": "a0ff0a5e",
   "metadata": {},
   "outputs": [
    {
     "name": "stdout",
     "output_type": "stream",
     "text": [
      "T_values is:  \n",
      " Intercept       3.823349\n",
      "Sorting_Time    6.387447\n",
      "dtype: float64 \n",
      " P_values is:  \n",
      " Intercept       0.001147\n",
      "Sorting_Time    0.000004\n",
      "dtype: float64\n"
     ]
    }
   ],
   "source": [
    "#t and p-Values\n",
    "print(\"T_values is: \",\"\\n\",model.tvalues,\"\\n\",\"P_values is: \",'\\n', model.pvalues)"
   ]
  },
  {
   "cell_type": "markdown",
   "id": "7e914c6d",
   "metadata": {},
   "source": [
    "#### Hypothesis in SLR\n",
    "\n",
    "B0 = Beta0 , B1 = Beta1\n",
    "\n",
    "H0: B1 = 0, B1--> Slope is Zero Y is not Dependent\n",
    "\n",
    "H1: B1 ≠ 0, B1--> Slope is not Zero Y is Dependent"
   ]
  },
  {
   "cell_type": "code",
   "execution_count": 12,
   "id": "4a221279",
   "metadata": {},
   "outputs": [
    {
     "name": "stdout",
     "output_type": "stream",
     "text": [
      "p_value is: 3.983049566687783e-06 , Reject H0,Slope is not Zero and Y is Dependent\n"
     ]
    }
   ],
   "source": [
    "#Hypothesis Test of SLR model\n",
    "α = 0.05  # Standard\n",
    "\n",
    "if model.pvalues[1] < α:\n",
    "    print(\"p_value is:\",model.pvalues[1],\", Reject H0,Slope is not Zero and Y is Dependent\")\n",
    "else:\n",
    "    print(\"p_value is:\",model.pvalues[1],\", Fail to Reject H0,Slope is Zero and Y is not Dependent\")"
   ]
  },
  {
   "cell_type": "code",
   "execution_count": 13,
   "id": "d6236b5f",
   "metadata": {},
   "outputs": [
    {
     "data": {
      "text/plain": [
       "(0.6822714748417231, 0.6655489208860244)"
      ]
     },
     "execution_count": 13,
     "metadata": {},
     "output_type": "execute_result"
    }
   ],
   "source": [
    "#R squared values\n",
    "(model.rsquared,model.rsquared_adj)"
   ]
  },
  {
   "cell_type": "markdown",
   "id": "9a8f0518",
   "metadata": {},
   "source": [
    "Inference: R_squared is 0.68 so the model is a okay Good model"
   ]
  },
  {
   "cell_type": "markdown",
   "id": "304b8946",
   "metadata": {},
   "source": [
    "#### Predict for new data point"
   ]
  },
  {
   "cell_type": "code",
   "execution_count": 14,
   "id": "761f8a4c",
   "metadata": {},
   "outputs": [
    {
     "data": {
      "text/html": [
       "<div>\n",
       "<style scoped>\n",
       "    .dataframe tbody tr th:only-of-type {\n",
       "        vertical-align: middle;\n",
       "    }\n",
       "\n",
       "    .dataframe tbody tr th {\n",
       "        vertical-align: top;\n",
       "    }\n",
       "\n",
       "    .dataframe thead th {\n",
       "        text-align: right;\n",
       "    }\n",
       "</style>\n",
       "<table border=\"1\" class=\"dataframe\">\n",
       "  <thead>\n",
       "    <tr style=\"text-align: right;\">\n",
       "      <th></th>\n",
       "      <th>Sorting_Time</th>\n",
       "    </tr>\n",
       "  </thead>\n",
       "  <tbody>\n",
       "    <tr>\n",
       "      <th>0</th>\n",
       "      <td>12</td>\n",
       "    </tr>\n",
       "    <tr>\n",
       "      <th>1</th>\n",
       "      <td>15</td>\n",
       "    </tr>\n",
       "  </tbody>\n",
       "</table>\n",
       "</div>"
      ],
      "text/plain": [
       "   Sorting_Time\n",
       "0            12\n",
       "1            15"
      ]
     },
     "execution_count": 14,
     "metadata": {},
     "output_type": "execute_result"
    }
   ],
   "source": [
    "#Predict for 12 and 15 Sorting_Time circulation\n",
    "newdata=pd.DataFrame(np.array([12,15]),columns = [\"Sorting_Time\"])\n",
    "newdata"
   ]
  },
  {
   "cell_type": "code",
   "execution_count": 15,
   "id": "3ec3b07c",
   "metadata": {},
   "outputs": [
    {
     "data": {
      "text/plain": [
       "0    26.370973\n",
       "1    31.318032\n",
       "dtype: float64"
      ]
     },
     "execution_count": 15,
     "metadata": {},
     "output_type": "execute_result"
    }
   ],
   "source": [
    "#Predicting \n",
    "model.predict(newdata)"
   ]
  },
  {
   "cell_type": "markdown",
   "id": "847783e5",
   "metadata": {},
   "source": [
    "Inference: \n",
    "\n",
    "For 12 Sorting_Time, Delivery_Time will be 26\n",
    "\n",
    "For 15 Sorting_Time, Delivery_Time will be 31"
   ]
  },
  {
   "cell_type": "markdown",
   "id": "31ceb332",
   "metadata": {},
   "source": [
    "#### Manually  Calculating and Checking the regression equation of the model"
   ]
  },
  {
   "cell_type": "code",
   "execution_count": 16,
   "id": "da171232",
   "metadata": {},
   "outputs": [
    {
     "data": {
      "text/plain": [
       "31.18"
      ]
     },
     "execution_count": 16,
     "metadata": {},
     "output_type": "execute_result"
    }
   ],
   "source": [
    "# Y = B0 + B1X\n",
    "\n",
    "#B0 = 6.58 - from Build model\n",
    "#B1 = 1.64  - from Build model\n",
    "#X = 15    - Datapoint to Predict\n",
    "\n",
    "Y = 6.58 + 1.64*15\n",
    "Y"
   ]
  },
  {
   "cell_type": "markdown",
   "id": "567fd5d9",
   "metadata": {},
   "source": [
    "Inference:\n",
    "\n",
    "Manually Also Its gives the approx the Same results as the Regression equation built by the Model"
   ]
  },
  {
   "cell_type": "markdown",
   "id": "5ef02c2c",
   "metadata": {},
   "source": [
    "#### Q2. Problem Statement\n",
    "\n",
    "Salary_hike -> Build a prediction model for Salary_hike\n",
    "\n",
    "Dataset: Salary_Data.csv"
   ]
  },
  {
   "cell_type": "code",
   "execution_count": 17,
   "id": "77b0b60c",
   "metadata": {},
   "outputs": [
    {
     "data": {
      "text/html": [
       "<div>\n",
       "<style scoped>\n",
       "    .dataframe tbody tr th:only-of-type {\n",
       "        vertical-align: middle;\n",
       "    }\n",
       "\n",
       "    .dataframe tbody tr th {\n",
       "        vertical-align: top;\n",
       "    }\n",
       "\n",
       "    .dataframe thead th {\n",
       "        text-align: right;\n",
       "    }\n",
       "</style>\n",
       "<table border=\"1\" class=\"dataframe\">\n",
       "  <thead>\n",
       "    <tr style=\"text-align: right;\">\n",
       "      <th></th>\n",
       "      <th>YearsExperience</th>\n",
       "      <th>Salary</th>\n",
       "    </tr>\n",
       "  </thead>\n",
       "  <tbody>\n",
       "    <tr>\n",
       "      <th>0</th>\n",
       "      <td>1.1</td>\n",
       "      <td>39343.0</td>\n",
       "    </tr>\n",
       "    <tr>\n",
       "      <th>1</th>\n",
       "      <td>1.3</td>\n",
       "      <td>46205.0</td>\n",
       "    </tr>\n",
       "    <tr>\n",
       "      <th>2</th>\n",
       "      <td>1.5</td>\n",
       "      <td>37731.0</td>\n",
       "    </tr>\n",
       "    <tr>\n",
       "      <th>3</th>\n",
       "      <td>2.0</td>\n",
       "      <td>43525.0</td>\n",
       "    </tr>\n",
       "    <tr>\n",
       "      <th>4</th>\n",
       "      <td>2.2</td>\n",
       "      <td>39891.0</td>\n",
       "    </tr>\n",
       "  </tbody>\n",
       "</table>\n",
       "</div>"
      ],
      "text/plain": [
       "   YearsExperience   Salary\n",
       "0              1.1  39343.0\n",
       "1              1.3  46205.0\n",
       "2              1.5  37731.0\n",
       "3              2.0  43525.0\n",
       "4              2.2  39891.0"
      ]
     },
     "execution_count": 17,
     "metadata": {},
     "output_type": "execute_result"
    }
   ],
   "source": [
    "#Loading the Dataset\n",
    "Dataset = pd.read_csv(\"C:/Users/Akaash/Downloads/Salary_Data.csv\")\n",
    "Dataset.head()"
   ]
  },
  {
   "cell_type": "code",
   "execution_count": 18,
   "id": "307484c2",
   "metadata": {},
   "outputs": [
    {
     "data": {
      "text/plain": [
       "YearsExperience    0\n",
       "Salary             0\n",
       "dtype: int64"
      ]
     },
     "execution_count": 18,
     "metadata": {},
     "output_type": "execute_result"
    }
   ],
   "source": [
    "#Checking NA Values\n",
    "Dataset.isnull().sum()"
   ]
  },
  {
   "cell_type": "markdown",
   "id": "6cc6af01",
   "metadata": {},
   "source": [
    "Inference: No NA Values are present in the Data"
   ]
  },
  {
   "cell_type": "markdown",
   "id": "1f5a883e",
   "metadata": {},
   "source": [
    "#### Declare the X & Y Variable\n",
    "--> As we need to predict Salary_hike in this Case So,\n",
    "\n",
    "--> Y is Salary (Dependent)\n",
    "\n",
    "--> X is YearsExperience (Independent)\n",
    "\n",
    "--> Salary ~ YearsExperience"
   ]
  },
  {
   "cell_type": "markdown",
   "id": "54aee316",
   "metadata": {},
   "source": [
    "#### Correlation"
   ]
  },
  {
   "cell_type": "code",
   "execution_count": 19,
   "id": "0ab589ba",
   "metadata": {},
   "outputs": [
    {
     "data": {
      "text/html": [
       "<div>\n",
       "<style scoped>\n",
       "    .dataframe tbody tr th:only-of-type {\n",
       "        vertical-align: middle;\n",
       "    }\n",
       "\n",
       "    .dataframe tbody tr th {\n",
       "        vertical-align: top;\n",
       "    }\n",
       "\n",
       "    .dataframe thead th {\n",
       "        text-align: right;\n",
       "    }\n",
       "</style>\n",
       "<table border=\"1\" class=\"dataframe\">\n",
       "  <thead>\n",
       "    <tr style=\"text-align: right;\">\n",
       "      <th></th>\n",
       "      <th>YearsExperience</th>\n",
       "      <th>Salary</th>\n",
       "    </tr>\n",
       "  </thead>\n",
       "  <tbody>\n",
       "    <tr>\n",
       "      <th>YearsExperience</th>\n",
       "      <td>1.000000</td>\n",
       "      <td>0.978242</td>\n",
       "    </tr>\n",
       "    <tr>\n",
       "      <th>Salary</th>\n",
       "      <td>0.978242</td>\n",
       "      <td>1.000000</td>\n",
       "    </tr>\n",
       "  </tbody>\n",
       "</table>\n",
       "</div>"
      ],
      "text/plain": [
       "                 YearsExperience    Salary\n",
       "YearsExperience         1.000000  0.978242\n",
       "Salary                  0.978242  1.000000"
      ]
     },
     "execution_count": 19,
     "metadata": {},
     "output_type": "execute_result"
    }
   ],
   "source": [
    "#Using corr()\n",
    "Dataset.corr()"
   ]
  },
  {
   "cell_type": "markdown",
   "id": "b1178f05",
   "metadata": {},
   "source": [
    "Inference: \n",
    "\n",
    "As it can be seen Correlation between YearsExperience and Salary is 0.97 which indicates Positively Strong Correlation\n",
    "\n",
    "Also this prove YearsExperience is required to Predict Salary_hike"
   ]
  },
  {
   "cell_type": "markdown",
   "id": "13ef27b4",
   "metadata": {},
   "source": [
    "#### Plotting -- Distribution"
   ]
  },
  {
   "cell_type": "code",
   "execution_count": 20,
   "id": "1cf0cb34",
   "metadata": {},
   "outputs": [
    {
     "data": {
      "text/plain": [
       "<AxesSubplot:xlabel='YearsExperience', ylabel='Density'>"
      ]
     },
     "execution_count": 20,
     "metadata": {},
     "output_type": "execute_result"
    },
    {
     "data": {
      "image/png": "[encoded data removed]",
      "text/plain": [
       "<Figure size 432x288 with 1 Axes>"
      ]
     },
     "metadata": {
      "needs_background": "light"
     },
     "output_type": "display_data"
    }
   ],
   "source": [
    "#Distribution Plot for YearsExperience feature\n",
    "sns.distplot(Dataset[\"YearsExperience\"])"
   ]
  },
  {
   "cell_type": "code",
   "execution_count": 21,
   "id": "848428a8",
   "metadata": {},
   "outputs": [
    {
     "data": {
      "text/plain": [
       "<AxesSubplot:xlabel='Salary', ylabel='Density'>"
      ]
     },
     "execution_count": 21,
     "metadata": {},
     "output_type": "execute_result"
    },
    {
     "data": {
      "image/png": "[encoded data removed]",
      "text/plain": [
       "<Figure size 432x288 with 1 Axes>"
      ]
     },
     "metadata": {
      "needs_background": "light"
     },
     "output_type": "display_data"
    }
   ],
   "source": [
    "#Distribution Plot for Salary feature\n",
    "sns.distplot(Dataset[\"Salary\"])"
   ]
  },
  {
   "cell_type": "markdown",
   "id": "25beb8a5",
   "metadata": {},
   "source": [
    "Inference:\n",
    "\n",
    "YearsExperience, Salary: Distribution is not normal for both the features, it also seems to be slighty Bimodel on the right hand side, and has positive skewness"
   ]
  },
  {
   "cell_type": "markdown",
   "id": "9cb08bed",
   "metadata": {},
   "source": [
    "#### Model Building --Fitting a Linear Regression model"
   ]
  },
  {
   "cell_type": "code",
   "execution_count": 22,
   "id": "f024ed8b",
   "metadata": {},
   "outputs": [],
   "source": [
    "#Building the model\n",
    "import statsmodels.formula.api as smf\n",
    "model = smf.ols('Salary~YearsExperience',data = Dataset).fit()"
   ]
  },
  {
   "cell_type": "code",
   "execution_count": 23,
   "id": "92cd0b00",
   "metadata": {},
   "outputs": [
    {
     "data": {
      "image/png": "[encoded data removed]",
      "text/plain": [
       "<Figure size 432x288 with 1 Axes>"
      ]
     },
     "metadata": {
      "needs_background": "light"
     },
     "output_type": "display_data"
    }
   ],
   "source": [
    "#Best Fit line\n",
    "sns.regplot(x=\"YearsExperience\", y=\"Salary\", data=Dataset);"
   ]
  },
  {
   "cell_type": "code",
   "execution_count": 24,
   "id": "e9f3379a",
   "metadata": {},
   "outputs": [
    {
     "data": {
      "text/plain": [
       "Intercept          25792.200199\n",
       "YearsExperience     9449.962321\n",
       "dtype: float64"
      ]
     },
     "execution_count": 24,
     "metadata": {},
     "output_type": "execute_result"
    }
   ],
   "source": [
    "#Coefficients\n",
    "model.params"
   ]
  },
  {
   "cell_type": "markdown",
   "id": "fbe9204c",
   "metadata": {},
   "source": [
    "Inference: Intercept is B0 = 25792.2, YearsExperience is B1 = 9449.9"
   ]
  },
  {
   "cell_type": "code",
   "execution_count": 25,
   "id": "9fcbe8f2",
   "metadata": {},
   "outputs": [
    {
     "name": "stdout",
     "output_type": "stream",
     "text": [
      "T_values is:  \n",
      " Intercept          11.346940\n",
      "YearsExperience    24.950094\n",
      "dtype: float64 \n",
      " P_values is:  \n",
      " Intercept          5.511950e-12\n",
      "YearsExperience    1.143068e-20\n",
      "dtype: float64\n"
     ]
    }
   ],
   "source": [
    "#t and p-Values\n",
    "print(\"T_values is: \",\"\\n\",model.tvalues,\"\\n\",\"P_values is: \",'\\n', model.pvalues)"
   ]
  },
  {
   "cell_type": "markdown",
   "id": "6a94c150",
   "metadata": {},
   "source": [
    "#### Hypothesis in SLR\n",
    "\n",
    "B0 = Beta0 , B1 = Beta1\n",
    "\n",
    "H0: B1 = 0, B1--> Slope is Zero Y is not Dependent\n",
    "\n",
    "H1: B1 ≠ 0, B1--> Slope is not Zero Y is Dependent"
   ]
  },
  {
   "cell_type": "code",
   "execution_count": 26,
   "id": "813aea4d",
   "metadata": {},
   "outputs": [
    {
     "name": "stdout",
     "output_type": "stream",
     "text": [
      "p_value is: 1.1430681092271316e-20 , Reject H0,Slope is not Zero and Y is Dependent\n"
     ]
    }
   ],
   "source": [
    "#Hypothesis Test of SLR model\n",
    "α = 0.05  # Standard\n",
    "\n",
    "if model.pvalues[1] < α:\n",
    "    print(\"p_value is:\",model.pvalues[1],\", Reject H0,Slope is not Zero and Y is Dependent\")\n",
    "else:\n",
    "    print(\"p_value is:\",model.pvalues[1],\", Fail to Reject H0,Slope is Zero and Y is not Dependent\")"
   ]
  },
  {
   "cell_type": "code",
   "execution_count": 27,
   "id": "2c14f252",
   "metadata": {},
   "outputs": [
    {
     "data": {
      "text/plain": [
       "(0.9569566641435086, 0.9554194021486339)"
      ]
     },
     "execution_count": 27,
     "metadata": {},
     "output_type": "execute_result"
    }
   ],
   "source": [
    "#R squared values\n",
    "(model.rsquared,model.rsquared_adj)"
   ]
  },
  {
   "cell_type": "markdown",
   "id": "7a763adb",
   "metadata": {},
   "source": [
    "Inference: R_squared is 0.95 so the model is a very Good model"
   ]
  },
  {
   "cell_type": "markdown",
   "id": "7f71f3d7",
   "metadata": {},
   "source": [
    "#### Predict for new data point"
   ]
  },
  {
   "cell_type": "code",
   "execution_count": 28,
   "id": "a450781b",
   "metadata": {},
   "outputs": [
    {
     "data": {
      "text/html": [
       "<div>\n",
       "<style scoped>\n",
       "    .dataframe tbody tr th:only-of-type {\n",
       "        vertical-align: middle;\n",
       "    }\n",
       "\n",
       "    .dataframe tbody tr th {\n",
       "        vertical-align: top;\n",
       "    }\n",
       "\n",
       "    .dataframe thead th {\n",
       "        text-align: right;\n",
       "    }\n",
       "</style>\n",
       "<table border=\"1\" class=\"dataframe\">\n",
       "  <thead>\n",
       "    <tr style=\"text-align: right;\">\n",
       "      <th></th>\n",
       "      <th>YearsExperience</th>\n",
       "    </tr>\n",
       "  </thead>\n",
       "  <tbody>\n",
       "    <tr>\n",
       "      <th>0</th>\n",
       "      <td>12.0</td>\n",
       "    </tr>\n",
       "    <tr>\n",
       "      <th>1</th>\n",
       "      <td>14.5</td>\n",
       "    </tr>\n",
       "  </tbody>\n",
       "</table>\n",
       "</div>"
      ],
      "text/plain": [
       "   YearsExperience\n",
       "0             12.0\n",
       "1             14.5"
      ]
     },
     "execution_count": 28,
     "metadata": {},
     "output_type": "execute_result"
    }
   ],
   "source": [
    "#Predict for 200 and 300 daily circulation\n",
    "newdata=pd.DataFrame(np.array([12.0,14.5]),columns = [\"YearsExperience\"])\n",
    "newdata"
   ]
  },
  {
   "cell_type": "code",
   "execution_count": 29,
   "id": "06ec07cc",
   "metadata": {},
   "outputs": [
    {
     "data": {
      "text/plain": [
       "0    139191.748056\n",
       "1    162816.653860\n",
       "dtype: float64"
      ]
     },
     "execution_count": 29,
     "metadata": {},
     "output_type": "execute_result"
    }
   ],
   "source": [
    "#Predicting \n",
    "model.predict(newdata)"
   ]
  },
  {
   "cell_type": "markdown",
   "id": "d9a19b7b",
   "metadata": {},
   "source": [
    "Inference: \n",
    "\n",
    "For 12.0 YearsExperience, Salary_hike will be 139191.74\n",
    "\n",
    "For 14.6 YearsExperience, Salary_hike will be 162816.65"
   ]
  },
  {
   "cell_type": "markdown",
   "id": "c5f1ad37",
   "metadata": {},
   "source": [
    "#### Manually  Calculating and Checking the regression equation of the model"
   ]
  },
  {
   "cell_type": "code",
   "execution_count": 30,
   "id": "6de6458f",
   "metadata": {},
   "outputs": [
    {
     "data": {
      "text/plain": [
       "162816.62"
      ]
     },
     "execution_count": 30,
     "metadata": {},
     "output_type": "execute_result"
    }
   ],
   "source": [
    "# Y = B0 + B1X\n",
    "\n",
    "#B0 = 25792.2 - from Build model\n",
    "#B1 = 9449.96 - from Build model\n",
    "#X = 14.5   - Datapoint to Predict\n",
    "\n",
    "Y = 25792.2 + 9449.96*14.5\n",
    "Y"
   ]
  },
  {
   "cell_type": "markdown",
   "id": "a0e079c9",
   "metadata": {},
   "source": [
    "Inference:\n",
    "\n",
    "Manually Also Its gives the approx the Same results as the Regression equation built by the Model"
   ]
  },
  {
   "cell_type": "code",
   "execution_count": null,
   "id": "11226a50",
   "metadata": {},
   "outputs": [],
   "source": []
  }
 ],
 "metadata": {
  "kernelspec": {
   "display_name": "Python 3",
   "language": "python",
   "name": "python3"
  },
  "language_info": {
   "codemirror_mode": {
    "name": "ipython",
    "version": 3
   },
   "file_extension": ".py",
   "mimetype": "text/x-python",
   "name": "python",
   "nbconvert_exporter": "python",
   "pygments_lexer": "ipython3",
   "version": "3.8.8"
  }
 },
 "nbformat": 4,
 "nbformat_minor": 5
}
