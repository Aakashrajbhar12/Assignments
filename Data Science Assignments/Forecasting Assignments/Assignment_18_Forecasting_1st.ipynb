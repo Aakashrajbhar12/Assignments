{
 "cells": [
  {
   "cell_type": "markdown",
   "id": "cb6ee7bb",
   "metadata": {},
   "source": [
    "### Assignment 18 - Forecasting "
   ]
  },
  {
   "cell_type": "markdown",
   "id": "68b8b011",
   "metadata": {},
   "source": [
    "#### 1st Problem Statement\n",
    "\n",
    "Forecast the Airlines Passengers, Explain how many dummy variables you have created and RMSE value for each model.\n",
    "Finally which model you will use for Forecasting.\n",
    "\n",
    "Dataset --> Airlines+Data.xlsx"
   ]
  },
  {
   "cell_type": "code",
   "execution_count": 1,
   "id": "2207bc87",
   "metadata": {},
   "outputs": [],
   "source": [
    "#Importing the Required Libraries\n",
    "import pandas as pd\n",
    "import numpy as np\n",
    "import matplotlib.pyplot as plt\n",
    "from matplotlib import pyplot\n",
    "from numpy import sqrt\n",
    "import itertools\n",
    "import statsmodels.api as sm\n",
    "\n",
    "import warnings\n",
    "warnings.filterwarnings(\"ignore\")  #--to ignore warnings"
   ]
  },
  {
   "cell_type": "code",
   "execution_count": 2,
   "id": "a8838266",
   "metadata": {},
   "outputs": [
    {
     "data": {
      "text/html": [
       "<div>\n",
       "<style scoped>\n",
       "    .dataframe tbody tr th:only-of-type {\n",
       "        vertical-align: middle;\n",
       "    }\n",
       "\n",
       "    .dataframe tbody tr th {\n",
       "        vertical-align: top;\n",
       "    }\n",
       "\n",
       "    .dataframe thead th {\n",
       "        text-align: right;\n",
       "    }\n",
       "</style>\n",
       "<table border=\"1\" class=\"dataframe\">\n",
       "  <thead>\n",
       "    <tr style=\"text-align: right;\">\n",
       "      <th></th>\n",
       "      <th>Passengers</th>\n",
       "    </tr>\n",
       "    <tr>\n",
       "      <th>Month</th>\n",
       "      <th></th>\n",
       "    </tr>\n",
       "  </thead>\n",
       "  <tbody>\n",
       "    <tr>\n",
       "      <th>1995-01-01</th>\n",
       "      <td>112</td>\n",
       "    </tr>\n",
       "    <tr>\n",
       "      <th>1995-02-01</th>\n",
       "      <td>118</td>\n",
       "    </tr>\n",
       "    <tr>\n",
       "      <th>1995-03-01</th>\n",
       "      <td>132</td>\n",
       "    </tr>\n",
       "    <tr>\n",
       "      <th>1995-04-01</th>\n",
       "      <td>129</td>\n",
       "    </tr>\n",
       "    <tr>\n",
       "      <th>1995-05-01</th>\n",
       "      <td>121</td>\n",
       "    </tr>\n",
       "  </tbody>\n",
       "</table>\n",
       "</div>"
      ],
      "text/plain": [
       "            Passengers\n",
       "Month                 \n",
       "1995-01-01         112\n",
       "1995-02-01         118\n",
       "1995-03-01         132\n",
       "1995-04-01         129\n",
       "1995-05-01         121"
      ]
     },
     "execution_count": 2,
     "metadata": {},
     "output_type": "execute_result"
    }
   ],
   "source": [
    "# Loading the Dataset\n",
    "Dataset = pd.read_excel(\"C:/Users/Akaash/Downloads/Airlines+Data.xlsx\", header=0, index_col=0, parse_dates=True)\n",
    "Dataset.head()"
   ]
  },
  {
   "cell_type": "code",
   "execution_count": 3,
   "id": "bfd46c47",
   "metadata": {},
   "outputs": [
    {
     "name": "stdout",
     "output_type": "stream",
     "text": [
      "<class 'pandas.core.frame.DataFrame'>\n",
      "DatetimeIndex: 96 entries, 1995-01-01 to 2002-12-01\n",
      "Data columns (total 1 columns):\n",
      " #   Column      Non-Null Count  Dtype\n",
      "---  ------      --------------  -----\n",
      " 0   Passengers  96 non-null     int64\n",
      "dtypes: int64(1)\n",
      "memory usage: 1.5 KB\n"
     ]
    }
   ],
   "source": [
    "#Checking NA Values\n",
    "Dataset.info()"
   ]
  },
  {
   "cell_type": "markdown",
   "id": "109ac925",
   "metadata": {},
   "source": [
    "Inference: No NA Values Present"
   ]
  },
  {
   "cell_type": "markdown",
   "id": "64272ca9",
   "metadata": {},
   "source": [
    "### Forecasting - Visualization"
   ]
  },
  {
   "cell_type": "markdown",
   "id": "f587a4c6",
   "metadata": {},
   "source": [
    "#### Line Plot"
   ]
  },
  {
   "cell_type": "code",
   "execution_count": 4,
   "id": "8dcdd03f",
   "metadata": {},
   "outputs": [
    {
     "data": {
      "image/png": "[encoded data removed]",
      "text/plain": [
       "<Figure size 432x288 with 1 Axes>"
      ]
     },
     "metadata": {
      "needs_background": "light"
     },
     "output_type": "display_data"
    }
   ],
   "source": [
    "# Line Plot\n",
    "Dataset.plot()\n",
    "pyplot.show()"
   ]
  },
  {
   "cell_type": "markdown",
   "id": "801531b8",
   "metadata": {},
   "source": [
    "Inference: A Simple Line Plot Showing the Month/Year wise Passengers Aboard"
   ]
  },
  {
   "cell_type": "markdown",
   "id": "700f3b8d",
   "metadata": {},
   "source": [
    "#### Histogram and Density Plots"
   ]
  },
  {
   "cell_type": "code",
   "execution_count": 5,
   "id": "f98e98d9",
   "metadata": {},
   "outputs": [
    {
     "data": {
      "image/png": "[encoded data removed]",
      "text/plain": [
       "<Figure size 432x288 with 1 Axes>"
      ]
     },
     "metadata": {
      "needs_background": "light"
     },
     "output_type": "display_data"
    }
   ],
   "source": [
    "# Histogram\n",
    "Dataset.hist()\n",
    "pyplot.show()"
   ]
  },
  {
   "cell_type": "markdown",
   "id": "2b22ece7",
   "metadata": {},
   "source": [
    "Inference: Data is Fairly Distributed, Close to Normal Distribution"
   ]
  },
  {
   "cell_type": "code",
   "execution_count": 6,
   "id": "b8469367",
   "metadata": {},
   "outputs": [
    {
     "data": {
      "image/png": "[encoded data removed]",
      "text/plain": [
       "<Figure size 432x288 with 1 Axes>"
      ]
     },
     "metadata": {
      "needs_background": "light"
     },
     "output_type": "display_data"
    }
   ],
   "source": [
    "#Density Plot\n",
    "Dataset.plot(kind='kde')\n",
    "pyplot.show()"
   ]
  },
  {
   "cell_type": "markdown",
   "id": "7b68d258",
   "metadata": {},
   "source": [
    "Inference: Close to Normal Distribution, Values are Concentrated around 200 (i.e: 200 Passengers)"
   ]
  },
  {
   "cell_type": "markdown",
   "id": "9afd2681",
   "metadata": {},
   "source": [
    "#### Lag plot"
   ]
  },
  {
   "cell_type": "code",
   "execution_count": 7,
   "id": "2b784abc",
   "metadata": {},
   "outputs": [
    {
     "data": {
      "image/png": "[encoded data removed]",
      "text/plain": [
       "<Figure size 432x288 with 1 Axes>"
      ]
     },
     "metadata": {
      "needs_background": "light"
     },
     "output_type": "display_data"
    }
   ],
   "source": [
    "# create a scatter plot / Lag Plot\n",
    "from pandas.plotting import lag_plot\n",
    "#Plotting\n",
    "lag_plot(Dataset)\n",
    "pyplot.show()"
   ]
  },
  {
   "cell_type": "markdown",
   "id": "3d021f1f",
   "metadata": {},
   "source": [
    "Inference: There is a Linear Relationship betwwen the Y(t) & Y(t + 1) Variable"
   ]
  },
  {
   "cell_type": "markdown",
   "id": "40a7a471",
   "metadata": {},
   "source": [
    "#### ACF Plot"
   ]
  },
  {
   "cell_type": "code",
   "execution_count": 8,
   "id": "e297d368",
   "metadata": {},
   "outputs": [
    {
     "data": {
      "image/png": "[encoded data removed]",
      "text/plain": [
       "<Figure size 432x288 with 1 Axes>"
      ]
     },
     "metadata": {
      "needs_background": "light"
     },
     "output_type": "display_data"
    }
   ],
   "source": [
    "# create an autocorrelation plot\n",
    "from statsmodels.graphics.tsaplots import plot_acf\n",
    "#Plotting\n",
    "plot_acf(Dataset,lags=30)\n",
    "pyplot.show()"
   ]
  },
  {
   "cell_type": "markdown",
   "id": "d816b1c2",
   "metadata": {},
   "source": [
    "Inference: Only First Few lags have Statistically Significant Correlation"
   ]
  },
  {
   "cell_type": "markdown",
   "id": "7dcf9084",
   "metadata": {},
   "source": [
    "### Forecasting -  Model Based Methods"
   ]
  },
  {
   "cell_type": "code",
   "execution_count": 9,
   "id": "d2447bf1",
   "metadata": {
    "scrolled": false
   },
   "outputs": [
    {
     "data": {
      "text/html": [
       "<div>\n",
       "<style scoped>\n",
       "    .dataframe tbody tr th:only-of-type {\n",
       "        vertical-align: middle;\n",
       "    }\n",
       "\n",
       "    .dataframe tbody tr th {\n",
       "        vertical-align: top;\n",
       "    }\n",
       "\n",
       "    .dataframe thead th {\n",
       "        text-align: right;\n",
       "    }\n",
       "</style>\n",
       "<table border=\"1\" class=\"dataframe\">\n",
       "  <thead>\n",
       "    <tr style=\"text-align: right;\">\n",
       "      <th></th>\n",
       "      <th>Month</th>\n",
       "      <th>Passengers</th>\n",
       "    </tr>\n",
       "  </thead>\n",
       "  <tbody>\n",
       "    <tr>\n",
       "      <th>0</th>\n",
       "      <td>1995-01-01</td>\n",
       "      <td>112</td>\n",
       "    </tr>\n",
       "    <tr>\n",
       "      <th>1</th>\n",
       "      <td>1995-02-01</td>\n",
       "      <td>118</td>\n",
       "    </tr>\n",
       "    <tr>\n",
       "      <th>2</th>\n",
       "      <td>1995-03-01</td>\n",
       "      <td>132</td>\n",
       "    </tr>\n",
       "    <tr>\n",
       "      <th>3</th>\n",
       "      <td>1995-04-01</td>\n",
       "      <td>129</td>\n",
       "    </tr>\n",
       "    <tr>\n",
       "      <th>4</th>\n",
       "      <td>1995-05-01</td>\n",
       "      <td>121</td>\n",
       "    </tr>\n",
       "  </tbody>\n",
       "</table>\n",
       "</div>"
      ],
      "text/plain": [
       "       Month  Passengers\n",
       "0 1995-01-01         112\n",
       "1 1995-02-01         118\n",
       "2 1995-03-01         132\n",
       "3 1995-04-01         129\n",
       "4 1995-05-01         121"
      ]
     },
     "execution_count": 9,
     "metadata": {},
     "output_type": "execute_result"
    }
   ],
   "source": [
    "# Loading the Dataset\n",
    "Dataset = pd.read_excel(\"C:/Users/Akaash/Downloads/Airlines+Data.xlsx\", header=0, parse_dates=True)\n",
    "Dataset.head()"
   ]
  },
  {
   "cell_type": "code",
   "execution_count": 10,
   "id": "9748d4e1",
   "metadata": {},
   "outputs": [
    {
     "data": {
      "text/html": [
       "<div>\n",
       "<style scoped>\n",
       "    .dataframe tbody tr th:only-of-type {\n",
       "        vertical-align: middle;\n",
       "    }\n",
       "\n",
       "    .dataframe tbody tr th {\n",
       "        vertical-align: top;\n",
       "    }\n",
       "\n",
       "    .dataframe thead th {\n",
       "        text-align: right;\n",
       "    }\n",
       "</style>\n",
       "<table border=\"1\" class=\"dataframe\">\n",
       "  <thead>\n",
       "    <tr style=\"text-align: right;\">\n",
       "      <th></th>\n",
       "      <th>Passengers</th>\n",
       "      <th>Apr</th>\n",
       "      <th>Aug</th>\n",
       "      <th>Dec</th>\n",
       "      <th>Feb</th>\n",
       "      <th>Jan</th>\n",
       "      <th>Jul</th>\n",
       "      <th>Jun</th>\n",
       "      <th>Mar</th>\n",
       "      <th>May</th>\n",
       "      <th>Nov</th>\n",
       "      <th>Oct</th>\n",
       "      <th>Sep</th>\n",
       "      <th>t</th>\n",
       "      <th>t_sq</th>\n",
       "      <th>log_Passengers</th>\n",
       "    </tr>\n",
       "  </thead>\n",
       "  <tbody>\n",
       "    <tr>\n",
       "      <th>0</th>\n",
       "      <td>112</td>\n",
       "      <td>0</td>\n",
       "      <td>0</td>\n",
       "      <td>0</td>\n",
       "      <td>0</td>\n",
       "      <td>1</td>\n",
       "      <td>0</td>\n",
       "      <td>0</td>\n",
       "      <td>0</td>\n",
       "      <td>0</td>\n",
       "      <td>0</td>\n",
       "      <td>0</td>\n",
       "      <td>0</td>\n",
       "      <td>1</td>\n",
       "      <td>1.000000</td>\n",
       "      <td>4.718499</td>\n",
       "    </tr>\n",
       "    <tr>\n",
       "      <th>1</th>\n",
       "      <td>118</td>\n",
       "      <td>0</td>\n",
       "      <td>0</td>\n",
       "      <td>0</td>\n",
       "      <td>1</td>\n",
       "      <td>0</td>\n",
       "      <td>0</td>\n",
       "      <td>0</td>\n",
       "      <td>0</td>\n",
       "      <td>0</td>\n",
       "      <td>0</td>\n",
       "      <td>0</td>\n",
       "      <td>0</td>\n",
       "      <td>2</td>\n",
       "      <td>1.414214</td>\n",
       "      <td>4.770685</td>\n",
       "    </tr>\n",
       "    <tr>\n",
       "      <th>2</th>\n",
       "      <td>132</td>\n",
       "      <td>0</td>\n",
       "      <td>0</td>\n",
       "      <td>0</td>\n",
       "      <td>0</td>\n",
       "      <td>0</td>\n",
       "      <td>0</td>\n",
       "      <td>0</td>\n",
       "      <td>1</td>\n",
       "      <td>0</td>\n",
       "      <td>0</td>\n",
       "      <td>0</td>\n",
       "      <td>0</td>\n",
       "      <td>3</td>\n",
       "      <td>1.732051</td>\n",
       "      <td>4.882802</td>\n",
       "    </tr>\n",
       "    <tr>\n",
       "      <th>3</th>\n",
       "      <td>129</td>\n",
       "      <td>1</td>\n",
       "      <td>0</td>\n",
       "      <td>0</td>\n",
       "      <td>0</td>\n",
       "      <td>0</td>\n",
       "      <td>0</td>\n",
       "      <td>0</td>\n",
       "      <td>0</td>\n",
       "      <td>0</td>\n",
       "      <td>0</td>\n",
       "      <td>0</td>\n",
       "      <td>0</td>\n",
       "      <td>4</td>\n",
       "      <td>2.000000</td>\n",
       "      <td>4.859812</td>\n",
       "    </tr>\n",
       "    <tr>\n",
       "      <th>4</th>\n",
       "      <td>121</td>\n",
       "      <td>0</td>\n",
       "      <td>0</td>\n",
       "      <td>0</td>\n",
       "      <td>0</td>\n",
       "      <td>0</td>\n",
       "      <td>0</td>\n",
       "      <td>0</td>\n",
       "      <td>0</td>\n",
       "      <td>1</td>\n",
       "      <td>0</td>\n",
       "      <td>0</td>\n",
       "      <td>0</td>\n",
       "      <td>5</td>\n",
       "      <td>2.236068</td>\n",
       "      <td>4.795791</td>\n",
       "    </tr>\n",
       "  </tbody>\n",
       "</table>\n",
       "</div>"
      ],
      "text/plain": [
       "   Passengers  Apr  Aug  Dec  Feb  Jan  Jul  Jun  Mar  May  Nov  Oct  Sep  t  \\\n",
       "0         112    0    0    0    0    1    0    0    0    0    0    0    0  1   \n",
       "1         118    0    0    0    1    0    0    0    0    0    0    0    0  2   \n",
       "2         132    0    0    0    0    0    0    0    1    0    0    0    0  3   \n",
       "3         129    1    0    0    0    0    0    0    0    0    0    0    0  4   \n",
       "4         121    0    0    0    0    0    0    0    0    1    0    0    0  5   \n",
       "\n",
       "       t_sq  log_Passengers  \n",
       "0  1.000000        4.718499  \n",
       "1  1.414214        4.770685  \n",
       "2  1.732051        4.882802  \n",
       "3  2.000000        4.859812  \n",
       "4  2.236068        4.795791  "
      ]
     },
     "execution_count": 10,
     "metadata": {},
     "output_type": "execute_result"
    }
   ],
   "source": [
    "# Month Extraction Dummies Variables\n",
    "Dataset[\"Date\"] = pd.to_datetime(Dataset.Month,format=\"%b-%y\")\n",
    "Dataset[\"Month\"] = Dataset.Date.dt.strftime(\"%b\")\n",
    "#Creating t, t_sq & log_Y Variables\n",
    "month_dummies = pd.DataFrame(pd.get_dummies(Dataset['Month']))\n",
    "Dataset1 = pd.concat([Dataset['Passengers'],month_dummies],axis = 1)\n",
    "Dataset1[\"t\"] = np.arange(1,97)\n",
    "Dataset1[\"t_sq\"] = np.sqrt(Dataset1[\"t\"])\n",
    "Dataset1[\"log_Passengers\"] = np.log(Dataset1[\"Passengers\"])\n",
    "Dataset1.head()"
   ]
  },
  {
   "cell_type": "markdown",
   "id": "80630f5e",
   "metadata": {},
   "source": [
    "Inference: Now we have variable t, t_sq & log_Passengers(log_Y) for Model Based Methods"
   ]
  },
  {
   "cell_type": "markdown",
   "id": "ae609842",
   "metadata": {},
   "source": [
    "#### Splitting data"
   ]
  },
  {
   "cell_type": "code",
   "execution_count": 11,
   "id": "3f9eb72a",
   "metadata": {},
   "outputs": [],
   "source": [
    "# Splitting\n",
    "Train = Dataset1.head(76)\n",
    "Test = Dataset1.tail(20)"
   ]
  },
  {
   "cell_type": "markdown",
   "id": "538960d5",
   "metadata": {},
   "source": [
    "Inference: Data is splitted, 20 Months are Kept For Validation"
   ]
  },
  {
   "cell_type": "code",
   "execution_count": 12,
   "id": "61c02de6",
   "metadata": {},
   "outputs": [
    {
     "data": {
      "text/plain": [
       "57.00014788256588"
      ]
     },
     "execution_count": 12,
     "metadata": {},
     "output_type": "execute_result"
    }
   ],
   "source": [
    "#Linear Model\n",
    "import statsmodels.formula.api as smf \n",
    "\n",
    "linear_model = smf.ols('Passengers~t',data=Train).fit()\n",
    "pred_linear =  pd.Series(linear_model.predict(pd.DataFrame(Test['t'])))\n",
    "rmse_linear = np.sqrt(np.mean((np.array(Test['Passengers'])-np.array(pred_linear))**2))\n",
    "rmse_linear"
   ]
  },
  {
   "cell_type": "markdown",
   "id": "15150b5c",
   "metadata": {},
   "source": [
    "Inference: Linear Model RMSE = 57.0"
   ]
  },
  {
   "cell_type": "code",
   "execution_count": 13,
   "id": "d78cb4f1",
   "metadata": {},
   "outputs": [
    {
     "data": {
      "text/plain": [
       "46.62154394719406"
      ]
     },
     "execution_count": 13,
     "metadata": {},
     "output_type": "execute_result"
    }
   ],
   "source": [
    "#Exponential Model\n",
    "\n",
    "Exp = smf.ols('log_Passengers~t',data=Train).fit()\n",
    "pred_Exp = pd.Series(Exp.predict(pd.DataFrame(Test['t'])))\n",
    "rmse_Exp = np.sqrt(np.mean((np.array(Test['Passengers'])-np.array(np.exp(pred_Exp)))**2))\n",
    "rmse_Exp"
   ]
  },
  {
   "cell_type": "markdown",
   "id": "7e1f1eae",
   "metadata": {},
   "source": [
    "Inference: Exponential Model RMSE = 46.62"
   ]
  },
  {
   "cell_type": "code",
   "execution_count": 14,
   "id": "d5cbc86b",
   "metadata": {},
   "outputs": [
    {
     "data": {
      "text/plain": [
       "55.579643409637406"
      ]
     },
     "execution_count": 14,
     "metadata": {},
     "output_type": "execute_result"
    }
   ],
   "source": [
    "#Quadratic Model\n",
    "Quad = smf.ols('Passengers~t+t_sq',data=Train).fit()\n",
    "pred_Quad = pd.Series(Quad.predict(Test[[\"t\",\"t_sq\"]]))\n",
    "rmse_Quad = np.sqrt(np.mean((np.array(Test['Passengers'])-np.array(pred_Quad))**2))\n",
    "rmse_Quad"
   ]
  },
  {
   "cell_type": "markdown",
   "id": "a0d40941",
   "metadata": {},
   "source": [
    "Inference: Quadratic Model RMSE = 55.57"
   ]
  },
  {
   "cell_type": "code",
   "execution_count": 15,
   "id": "a66f5fe8",
   "metadata": {},
   "outputs": [
    {
     "data": {
      "text/plain": [
       "132.25413439949492"
      ]
     },
     "execution_count": 15,
     "metadata": {},
     "output_type": "execute_result"
    }
   ],
   "source": [
    "#Additive seasonality \n",
    "\n",
    "add_sea = smf.ols('Passengers~Jan+Feb+Mar+Apr+May+Jun+Jul+Aug+Sep+Oct+Nov',data=Train).fit()\n",
    "pred_add_sea = pd.Series(add_sea.predict(Test[['Jan','Feb','Mar','Apr','May','Jun','Jul','Aug','Sep','Oct','Nov']]))\n",
    "rmse_add_sea = np.sqrt(np.mean((np.array(Test['Passengers'])-np.array(pred_add_sea))**2))\n",
    "rmse_add_sea"
   ]
  },
  {
   "cell_type": "markdown",
   "id": "2647375a",
   "metadata": {},
   "source": [
    "Inference: Additive seasonality Model RMSE = 132.25"
   ]
  },
  {
   "cell_type": "code",
   "execution_count": 16,
   "id": "56065e9e",
   "metadata": {},
   "outputs": [
    {
     "data": {
      "text/plain": [
       "36.51002300681375"
      ]
     },
     "execution_count": 16,
     "metadata": {},
     "output_type": "execute_result"
    }
   ],
   "source": [
    "#Additive Seasonality Quadratic Model\n",
    "\n",
    "add_sea_Quad = smf.ols('Passengers~t+t_sq+Jan+Feb+Mar+Apr+May+Jun+Jul+Aug+Sep+Oct+Nov',data=Train).fit()\n",
    "pred_add_sea_quad = pd.Series(add_sea_Quad.predict(Test[['Jan','Feb','Mar','Apr','May','Jun','Jul','Aug',\n",
    "                                                         'Sep','Oct','Nov','t','t_sq']]))\n",
    "rmse_add_sea_quad = np.sqrt(np.mean((np.array(Test['Passengers'])-np.array(pred_add_sea_quad))**2))\n",
    "rmse_add_sea_quad"
   ]
  },
  {
   "cell_type": "markdown",
   "id": "938adb61",
   "metadata": {},
   "source": [
    "Inference: Additive seasonality with Quadratic Model RMSE = 36.51"
   ]
  },
  {
   "cell_type": "code",
   "execution_count": 17,
   "id": "add7bf99",
   "metadata": {},
   "outputs": [
    {
     "data": {
      "text/plain": [
       "137.61090856256547"
      ]
     },
     "execution_count": 17,
     "metadata": {},
     "output_type": "execute_result"
    }
   ],
   "source": [
    "##Multiplicative Seasonality\n",
    "\n",
    "Mul_sea = smf.ols('log_Passengers~Jan+Feb+Mar+Apr+May+Jun+Jul+Aug+Sep+Oct+Nov',data = Train).fit()\n",
    "pred_Mult_sea = pd.Series(Mul_sea.predict(Test))\n",
    "rmse_Mult_sea = np.sqrt(np.mean((np.array(Test['Passengers'])-np.array(np.exp(pred_Mult_sea)))**2))\n",
    "rmse_Mult_sea"
   ]
  },
  {
   "cell_type": "markdown",
   "id": "9fd3921d",
   "metadata": {},
   "source": [
    "Inference: Multiplicative seasonality Model RMSE = 137.61"
   ]
  },
  {
   "cell_type": "code",
   "execution_count": 18,
   "id": "96eb1d8b",
   "metadata": {},
   "outputs": [
    {
     "data": {
      "text/plain": [
       "11.784250178760612"
      ]
     },
     "execution_count": 18,
     "metadata": {},
     "output_type": "execute_result"
    }
   ],
   "source": [
    "#Multiplicative Additive Seasonality \n",
    "\n",
    "Mul_Add_sea = smf.ols('log_Passengers~t+Jan+Feb+Mar+Apr+May+Jun+Jul+Aug+Sep+Oct+Nov',data = Train).fit()\n",
    "pred_Mult_add_sea = pd.Series(Mul_Add_sea.predict(Test))\n",
    "rmse_Mult_add_sea = np.sqrt(np.mean((np.array(Test['Passengers'])-np.array(np.exp(pred_Mult_add_sea)))**2))\n",
    "rmse_Mult_add_sea "
   ]
  },
  {
   "cell_type": "markdown",
   "id": "c860b664",
   "metadata": {},
   "source": [
    "Inference: Additive Multiplicative seasonality Model RMSE = 11.78"
   ]
  },
  {
   "cell_type": "markdown",
   "id": "6428fe24",
   "metadata": {},
   "source": [
    "### Forecasting -  Data Driven Methods"
   ]
  },
  {
   "cell_type": "code",
   "execution_count": 19,
   "id": "e79c8e61",
   "metadata": {},
   "outputs": [],
   "source": [
    "# Data Driven Model Library\n",
    "from statsmodels.tsa.seasonal import seasonal_decompose\n",
    "from statsmodels.tsa.holtwinters import SimpleExpSmoothing # SES\n",
    "from statsmodels.tsa.holtwinters import Holt # Holts Exponential Smoothing\n",
    "from statsmodels.tsa.holtwinters import ExponentialSmoothing "
   ]
  },
  {
   "cell_type": "code",
   "execution_count": 20,
   "id": "6d9d9cd0",
   "metadata": {},
   "outputs": [
    {
     "data": {
      "text/html": [
       "<div>\n",
       "<style scoped>\n",
       "    .dataframe tbody tr th:only-of-type {\n",
       "        vertical-align: middle;\n",
       "    }\n",
       "\n",
       "    .dataframe tbody tr th {\n",
       "        vertical-align: top;\n",
       "    }\n",
       "\n",
       "    .dataframe thead th {\n",
       "        text-align: right;\n",
       "    }\n",
       "</style>\n",
       "<table border=\"1\" class=\"dataframe\">\n",
       "  <thead>\n",
       "    <tr style=\"text-align: right;\">\n",
       "      <th></th>\n",
       "      <th>Month</th>\n",
       "      <th>Passengers</th>\n",
       "    </tr>\n",
       "  </thead>\n",
       "  <tbody>\n",
       "    <tr>\n",
       "      <th>0</th>\n",
       "      <td>1995-01-01</td>\n",
       "      <td>112</td>\n",
       "    </tr>\n",
       "    <tr>\n",
       "      <th>1</th>\n",
       "      <td>1995-02-01</td>\n",
       "      <td>118</td>\n",
       "    </tr>\n",
       "    <tr>\n",
       "      <th>2</th>\n",
       "      <td>1995-03-01</td>\n",
       "      <td>132</td>\n",
       "    </tr>\n",
       "    <tr>\n",
       "      <th>3</th>\n",
       "      <td>1995-04-01</td>\n",
       "      <td>129</td>\n",
       "    </tr>\n",
       "    <tr>\n",
       "      <th>4</th>\n",
       "      <td>1995-05-01</td>\n",
       "      <td>121</td>\n",
       "    </tr>\n",
       "  </tbody>\n",
       "</table>\n",
       "</div>"
      ],
      "text/plain": [
       "       Month  Passengers\n",
       "0 1995-01-01         112\n",
       "1 1995-02-01         118\n",
       "2 1995-03-01         132\n",
       "3 1995-04-01         129\n",
       "4 1995-05-01         121"
      ]
     },
     "execution_count": 20,
     "metadata": {},
     "output_type": "execute_result"
    }
   ],
   "source": [
    "# Loading the Dataset\n",
    "Dataset = pd.read_excel(\"C:/Users/Akaash/Downloads/Airlines+Data.xlsx\", header=0, parse_dates=True)\n",
    "Dataset.head()"
   ]
  },
  {
   "cell_type": "markdown",
   "id": "2f1fc537",
   "metadata": {},
   "source": [
    "#### Splitting data"
   ]
  },
  {
   "cell_type": "code",
   "execution_count": 21,
   "id": "c9ab6ee8",
   "metadata": {},
   "outputs": [],
   "source": [
    "# Splitting\n",
    "Train = Dataset.head(76)\n",
    "Test = Dataset.tail(20)"
   ]
  },
  {
   "cell_type": "markdown",
   "id": "835c2582",
   "metadata": {},
   "source": [
    "#### Simple Exponential Method (SES)"
   ]
  },
  {
   "cell_type": "code",
   "execution_count": 22,
   "id": "937d06dc",
   "metadata": {
    "scrolled": true
   },
   "outputs": [
    {
     "data": {
      "text/plain": [
       "82.11594314672372"
      ]
     },
     "execution_count": 22,
     "metadata": {},
     "output_type": "execute_result"
    }
   ],
   "source": [
    "ses_model = SimpleExpSmoothing(Train[\"Passengers\"]).fit(smoothing_level=0.2)\n",
    "pred_ses = ses_model.predict(start = Test.index[0],end = Test.index[-1])\n",
    "ses_model_rmse = np.sqrt(np.mean((np.array(Test['Passengers'])-np.array((pred_ses)))**2))\n",
    "ses_model_rmse"
   ]
  },
  {
   "cell_type": "markdown",
   "id": "449fa068",
   "metadata": {},
   "source": [
    "Inference: Simple Exponential Method (SES) RMSE = 82.11"
   ]
  },
  {
   "cell_type": "markdown",
   "id": "8cfc8472",
   "metadata": {},
   "source": [
    "#### Holt method (DES)"
   ]
  },
  {
   "cell_type": "code",
   "execution_count": 23,
   "id": "a26b16e0",
   "metadata": {},
   "outputs": [
    {
     "data": {
      "text/plain": [
       "47.98872996523835"
      ]
     },
     "execution_count": 23,
     "metadata": {},
     "output_type": "execute_result"
    }
   ],
   "source": [
    "# Holt method \n",
    "hw_model = Holt(Train[\"Passengers\"]).fit(smoothing_level=0.8, smoothing_slope=0.2)\n",
    "pred_hw = hw_model.predict(start = Test.index[0],end = Test.index[-1])\n",
    "hw_model_rmse = np.sqrt(np.mean((np.array(Test['Passengers'])-np.array((pred_hw)))**2))\n",
    "hw_model_rmse"
   ]
  },
  {
   "cell_type": "markdown",
   "id": "280c0741",
   "metadata": {},
   "source": [
    "Inference: Holt's Method (DES) RMSE = 47.98"
   ]
  },
  {
   "cell_type": "markdown",
   "id": "197e5934",
   "metadata": {},
   "source": [
    "#### Holts winter exponential smoothing with additive seasonality and additive trend (TES)"
   ]
  },
  {
   "cell_type": "code",
   "execution_count": 24,
   "id": "5652fece",
   "metadata": {},
   "outputs": [
    {
     "data": {
      "text/plain": [
       "37.73007966060939"
      ]
     },
     "execution_count": 24,
     "metadata": {},
     "output_type": "execute_result"
    }
   ],
   "source": [
    "#add the trend to the model\n",
    "hwe_model_add_add = ExponentialSmoothing(Train[\"Passengers\"],seasonal=\"add\",trend=\"add\",seasonal_periods=12).fit() \n",
    "pred_hwe_add_add = hwe_model_add_add.predict(start = Test.index[0],end = Test.index[-1])\n",
    "hwe_model_add_add_rmse = np.sqrt(np.mean((np.array(Test['Passengers'])-np.array((pred_hwe_add_add)))**2))\n",
    "hwe_model_add_add_rmse"
   ]
  },
  {
   "cell_type": "markdown",
   "id": "cff84003",
   "metadata": {},
   "source": [
    "Inference: Holt's Winter Method (TES) RMSE = 37.73"
   ]
  },
  {
   "cell_type": "markdown",
   "id": "7ac0cd90",
   "metadata": {},
   "source": [
    "#### Holts winter exponential smoothing with multiplicative seasonality and additive trend"
   ]
  },
  {
   "cell_type": "code",
   "execution_count": 25,
   "id": "d9f6c8f0",
   "metadata": {},
   "outputs": [
    {
     "data": {
      "text/plain": [
       "33.87795811066329"
      ]
     },
     "execution_count": 25,
     "metadata": {},
     "output_type": "execute_result"
    }
   ],
   "source": [
    "hwe_model_mul_add = ExponentialSmoothing(Train[\"Passengers\"],seasonal=\"mul\",trend=\"add\",seasonal_periods=12).fit() \n",
    "pred_hwe_mul_add = hwe_model_mul_add.predict(start = Test.index[0],end = Test.index[-1])\n",
    "hwe_model_mul_add_rmse = np.sqrt(np.mean((np.array(Test['Passengers'])-np.array((pred_hwe_mul_add)))**2))\n",
    "hwe_model_mul_add_rmse"
   ]
  },
  {
   "cell_type": "markdown",
   "id": "6bd45afe",
   "metadata": {},
   "source": [
    "Inference: Holt's Winter Method (TES) RMSE = 33.87"
   ]
  },
  {
   "cell_type": "markdown",
   "id": "6beddb14",
   "metadata": {},
   "source": [
    "### Forecasting - Arima Models"
   ]
  },
  {
   "cell_type": "code",
   "execution_count": 26,
   "id": "2a29a407",
   "metadata": {},
   "outputs": [
    {
     "data": {
      "text/html": [
       "<div>\n",
       "<style scoped>\n",
       "    .dataframe tbody tr th:only-of-type {\n",
       "        vertical-align: middle;\n",
       "    }\n",
       "\n",
       "    .dataframe tbody tr th {\n",
       "        vertical-align: top;\n",
       "    }\n",
       "\n",
       "    .dataframe thead th {\n",
       "        text-align: right;\n",
       "    }\n",
       "</style>\n",
       "<table border=\"1\" class=\"dataframe\">\n",
       "  <thead>\n",
       "    <tr style=\"text-align: right;\">\n",
       "      <th></th>\n",
       "      <th>Passengers</th>\n",
       "    </tr>\n",
       "    <tr>\n",
       "      <th>Month</th>\n",
       "      <th></th>\n",
       "    </tr>\n",
       "  </thead>\n",
       "  <tbody>\n",
       "    <tr>\n",
       "      <th>1995-01-01</th>\n",
       "      <td>112</td>\n",
       "    </tr>\n",
       "    <tr>\n",
       "      <th>1995-02-01</th>\n",
       "      <td>118</td>\n",
       "    </tr>\n",
       "    <tr>\n",
       "      <th>1995-03-01</th>\n",
       "      <td>132</td>\n",
       "    </tr>\n",
       "    <tr>\n",
       "      <th>1995-04-01</th>\n",
       "      <td>129</td>\n",
       "    </tr>\n",
       "    <tr>\n",
       "      <th>1995-05-01</th>\n",
       "      <td>121</td>\n",
       "    </tr>\n",
       "  </tbody>\n",
       "</table>\n",
       "</div>"
      ],
      "text/plain": [
       "            Passengers\n",
       "Month                 \n",
       "1995-01-01         112\n",
       "1995-02-01         118\n",
       "1995-03-01         132\n",
       "1995-04-01         129\n",
       "1995-05-01         121"
      ]
     },
     "execution_count": 26,
     "metadata": {},
     "output_type": "execute_result"
    }
   ],
   "source": [
    "# Loading the Dataset\n",
    "Dataset = pd.read_excel(\"C:/Users/Akaash/Downloads/Airlines+Data.xlsx\", header=0, index_col=0, parse_dates=True)\n",
    "Dataset.head()"
   ]
  },
  {
   "cell_type": "markdown",
   "id": "e90fca10",
   "metadata": {},
   "source": [
    "#### ACF plots and PACF plots"
   ]
  },
  {
   "cell_type": "code",
   "execution_count": 27,
   "id": "4ac06189",
   "metadata": {},
   "outputs": [
    {
     "data": {
      "image/png": "[encoded data removed]",
      "text/plain": [
       "<Figure size 432x288 with 1 Axes>"
      ]
     },
     "metadata": {
      "needs_background": "light"
     },
     "output_type": "display_data"
    },
    {
     "data": {
      "image/png": "[encoded data removed]",
      "text/plain": [
       "<Figure size 432x288 with 1 Axes>"
      ]
     },
     "metadata": {
      "needs_background": "light"
     },
     "output_type": "display_data"
    }
   ],
   "source": [
    "import statsmodels.graphics.tsaplots as tsa_plots\n",
    "tsa_plots.plot_acf(Dataset.Passengers,lags=12)\n",
    "tsa_plots.plot_pacf(Dataset.Passengers,lags=12)\n",
    "plt.show()"
   ]
  },
  {
   "cell_type": "markdown",
   "id": "1dd62133",
   "metadata": {},
   "source": [
    "#### Splitting data"
   ]
  },
  {
   "cell_type": "code",
   "execution_count": 28,
   "id": "a51ed40c",
   "metadata": {},
   "outputs": [
    {
     "name": "stdout",
     "output_type": "stream",
     "text": [
      "Dataset 76, Validation 20\n"
     ]
    }
   ],
   "source": [
    "# separate out a validation dataset\n",
    "split_point = len(Dataset) - 20\n",
    "dataset, validation = Dataset[0:split_point], Dataset[split_point:]\n",
    "print('Dataset %d, Validation %d' % (len(dataset), len(validation)))\n",
    "dataset.to_csv('C:/Users/Akaash/Downloads/dataset_1st.csv', header=False)\n",
    "validation.to_csv('C:/Users/Akaash/Downloads/validation_1st.csv', header=False)"
   ]
  },
  {
   "cell_type": "markdown",
   "id": "d35b2e4c",
   "metadata": {},
   "source": [
    "#### Persistence/ Base model"
   ]
  },
  {
   "cell_type": "code",
   "execution_count": 29,
   "id": "84604938",
   "metadata": {},
   "outputs": [
    {
     "name": "stdout",
     "output_type": "stream",
     "text": [
      ">Predicted=180.000, Expected=193.000\n",
      ">Predicted=193.000, Expected=181.000\n",
      ">Predicted=181.000, Expected=183.000\n",
      ">Predicted=183.000, Expected=218.000\n",
      ">Predicted=218.000, Expected=230.000\n",
      ">Predicted=230.000, Expected=242.000\n",
      ">Predicted=242.000, Expected=209.000\n",
      ">Predicted=209.000, Expected=191.000\n",
      ">Predicted=191.000, Expected=172.000\n",
      ">Predicted=172.000, Expected=194.000\n",
      ">Predicted=194.000, Expected=196.000\n",
      ">Predicted=196.000, Expected=196.000\n",
      ">Predicted=196.000, Expected=236.000\n",
      ">Predicted=236.000, Expected=235.000\n",
      ">Predicted=235.000, Expected=229.000\n",
      ">Predicted=229.000, Expected=243.000\n",
      ">Predicted=243.000, Expected=264.000\n",
      ">Predicted=264.000, Expected=272.000\n",
      ">Predicted=272.000, Expected=237.000\n",
      ">Predicted=237.000, Expected=211.000\n",
      ">Predicted=211.000, Expected=180.000\n",
      ">Predicted=180.000, Expected=201.000\n",
      ">Predicted=201.000, Expected=204.000\n",
      ">Predicted=204.000, Expected=188.000\n",
      ">Predicted=188.000, Expected=235.000\n",
      ">Predicted=235.000, Expected=227.000\n",
      ">Predicted=227.000, Expected=234.000\n",
      ">Predicted=234.000, Expected=264.000\n",
      ">Predicted=264.000, Expected=302.000\n",
      ">Predicted=302.000, Expected=293.000\n",
      ">Predicted=293.000, Expected=259.000\n",
      ">Predicted=259.000, Expected=229.000\n",
      ">Predicted=229.000, Expected=203.000\n",
      ">Predicted=203.000, Expected=229.000\n",
      ">Predicted=229.000, Expected=242.000\n",
      ">Predicted=242.000, Expected=233.000\n",
      ">Predicted=233.000, Expected=267.000\n",
      ">Predicted=267.000, Expected=269.000\n",
      "RMSE: 22.690\n"
     ]
    }
   ],
   "source": [
    "# evaluate a persistence model\n",
    "from pandas import read_csv\n",
    "from sklearn.metrics import mean_squared_error\n",
    "from math import sqrt\n",
    "# load data\n",
    "train = read_csv('C:/Users/Akaash/Downloads/dataset_1st.csv', header=None, index_col=0, parse_dates=True, squeeze=True)\n",
    "# prepare data\n",
    "X = train.values\n",
    "X = X.astype('float32')\n",
    "train_size = int(len(X) * 0.50)\n",
    "train, test = X[0:train_size], X[train_size:]\n",
    "# walk-forward validation\n",
    "history = [x for x in train]\n",
    "predictions = list()\n",
    "for i in range(len(test)):\n",
    "    yhat = history[-1]\n",
    "    predictions.append(yhat)\n",
    "# observation\n",
    "    obs = test[i]\n",
    "    history.append(obs)\n",
    "    print('>Predicted=%.3f, Expected=%.3f' % (yhat, obs))\n",
    "# report performance\n",
    "rmse = sqrt(mean_squared_error(test, predictions))\n",
    "print('RMSE: %.3f' % rmse)"
   ]
  },
  {
   "cell_type": "markdown",
   "id": "8763c1c7",
   "metadata": {},
   "source": [
    "Inference: Persistence Model RMSE = 22.69"
   ]
  },
  {
   "cell_type": "markdown",
   "id": "25aa5ce0",
   "metadata": {},
   "source": [
    "#### ARIMA Hyperparameters "
   ]
  },
  {
   "cell_type": "code",
   "execution_count": 30,
   "id": "508f30e3",
   "metadata": {},
   "outputs": [],
   "source": [
    "# grid search ARIMA parameters for a time series\n",
    "from statsmodels.tsa.arima_model import ARIMA\n",
    "\n",
    "# evaluate an ARIMA model for a given order (p,d,q) and return RMSE\n",
    "def evaluate_arima_model(X, arima_order):\n",
    "# prepare training dataset\n",
    "    X = X.astype('float32')\n",
    "    train_size = int(len(X) * 0.50)\n",
    "    train, test = X[0:train_size], X[train_size:]\n",
    "    history = [x for x in train]\n",
    "# make predictions\n",
    "    predictions = list()\n",
    "    for t in range(len(test)):\n",
    "        model = ARIMA(history, order=arima_order)\n",
    "# model_fit = model.fit(disp=0)\n",
    "        model_fit = model.fit(disp=0)\n",
    "        yhat = model_fit.forecast()[0]\n",
    "        predictions.append(yhat)\n",
    "        history.append(test[t])\n",
    "# calculate out of sample error\n",
    "    rmse = sqrt(mean_squared_error(test, predictions))\n",
    "    return rmse"
   ]
  },
  {
   "cell_type": "markdown",
   "id": "834090bf",
   "metadata": {},
   "source": [
    "#### Grid search for p,d,q values"
   ]
  },
  {
   "cell_type": "code",
   "execution_count": 31,
   "id": "509053ca",
   "metadata": {},
   "outputs": [],
   "source": [
    "# evaluate combinations of p, d and q values for an ARIMA model\n",
    "def evaluate_models(dataset, p_values, d_values, q_values):\n",
    "    dataset = dataset.astype('float32')\n",
    "    best_score, best_cfg = float('inf'), None\n",
    "    for p in p_values:\n",
    "        for d in d_values:\n",
    "            for q in q_values:\n",
    "                order = (p,d,q)\n",
    "                try:\n",
    "                    rmse = evaluate_arima_model(train, order)\n",
    "                    if rmse < best_score:\n",
    "                        best_score, best_cfg = rmse, order\n",
    "                    print('ARIMA%s RMSE=%.3f' % (order,rmse))\n",
    "                except:\n",
    "                    continue\n",
    "    print('Best ARIMA%s RMSE=%.3f' % (best_cfg, best_score))"
   ]
  },
  {
   "cell_type": "code",
   "execution_count": 32,
   "id": "bf3863ce",
   "metadata": {},
   "outputs": [
    {
     "name": "stdout",
     "output_type": "stream",
     "text": [
      "ARIMA(0, 0, 0) RMSE=64.949\n",
      "ARIMA(0, 0, 1) RMSE=38.229\n",
      "ARIMA(0, 1, 0) RMSE=22.773\n",
      "ARIMA(0, 1, 1) RMSE=22.695\n",
      "ARIMA(0, 1, 2) RMSE=24.214\n",
      "ARIMA(0, 2, 0) RMSE=29.721\n",
      "ARIMA(0, 2, 1) RMSE=23.450\n",
      "ARIMA(0, 2, 2) RMSE=23.277\n",
      "ARIMA(1, 0, 0) RMSE=23.350\n",
      "ARIMA(1, 0, 1) RMSE=23.083\n",
      "ARIMA(1, 0, 2) RMSE=468.564\n",
      "ARIMA(1, 1, 0) RMSE=22.780\n",
      "ARIMA(1, 2, 0) RMSE=28.143\n",
      "ARIMA(2, 0, 0) RMSE=23.261\n",
      "ARIMA(2, 1, 0) RMSE=22.839\n",
      "ARIMA(2, 2, 0) RMSE=27.069\n",
      "Best ARIMA(0, 1, 1) RMSE=22.695\n"
     ]
    }
   ],
   "source": [
    "# load dataset\n",
    "train = read_csv('C:/Users/Akaash/Downloads/Dataset_1st.csv', header=None, index_col=0, parse_dates=True, squeeze=True)\n",
    "# evaluate parameters\n",
    "p_values = range(0, 3)\n",
    "d_values = range(0, 3)\n",
    "q_values = range(0, 3)\n",
    "#Grid Search Evaluate\n",
    "evaluate_models(train.values, p_values, d_values, q_values)"
   ]
  },
  {
   "cell_type": "markdown",
   "id": "3e2953cc",
   "metadata": {},
   "source": [
    "#### Building Arima Model based on the optimized values From Grid Search CV"
   ]
  },
  {
   "cell_type": "code",
   "execution_count": 33,
   "id": "ca9ee8b1",
   "metadata": {},
   "outputs": [
    {
     "data": {
      "image/png": "[encoded data removed]",
      "text/plain": [
       "<Figure size 432x288 with 1 Axes>"
      ]
     },
     "execution_count": 33,
     "metadata": {},
     "output_type": "execute_result"
    },
    {
     "data": {
      "image/png": "[encoded data removed]",
      "text/plain": [
       "<Figure size 432x288 with 1 Axes>"
      ]
     },
     "metadata": {
      "needs_background": "light"
     },
     "output_type": "display_data"
    }
   ],
   "source": [
    "# Building  Arima Model with order=(0,1,1)\n",
    "model = ARIMA(X, order=(0,1,1))\n",
    "model_fit = model.fit()\n",
    "forecast=model_fit.forecast(steps=20)[0]\n",
    "model_fit.plot_predict(1,80)"
   ]
  },
  {
   "cell_type": "code",
   "execution_count": 34,
   "id": "7fcbeeb6",
   "metadata": {},
   "outputs": [
    {
     "data": {
      "text/plain": [
       "52.02929575296171"
      ]
     },
     "execution_count": 34,
     "metadata": {},
     "output_type": "execute_result"
    }
   ],
   "source": [
    "#Error on the test data\n",
    "val=pd.read_csv('C:/Users/Akaash/Downloads/validation_1st.csv',header=None)\n",
    "arima_rmse = sqrt(mean_squared_error(val[1], forecast))\n",
    "arima_rmse"
   ]
  },
  {
   "cell_type": "markdown",
   "id": "305cb5ce",
   "metadata": {},
   "source": [
    "Inference: Arima Model RMSE = 52.02"
   ]
  },
  {
   "cell_type": "markdown",
   "id": "8a6bf82f",
   "metadata": {},
   "source": [
    "### Document of All Model RMSE"
   ]
  },
  {
   "cell_type": "code",
   "execution_count": 35,
   "id": "6dc6996d",
   "metadata": {},
   "outputs": [
    {
     "data": {
      "text/html": [
       "<div>\n",
       "<style scoped>\n",
       "    .dataframe tbody tr th:only-of-type {\n",
       "        vertical-align: middle;\n",
       "    }\n",
       "\n",
       "    .dataframe tbody tr th {\n",
       "        vertical-align: top;\n",
       "    }\n",
       "\n",
       "    .dataframe thead th {\n",
       "        text-align: right;\n",
       "    }\n",
       "</style>\n",
       "<table border=\"1\" class=\"dataframe\">\n",
       "  <thead>\n",
       "    <tr style=\"text-align: right;\">\n",
       "      <th></th>\n",
       "      <th>MODEL</th>\n",
       "      <th>RMSE_Values</th>\n",
       "    </tr>\n",
       "  </thead>\n",
       "  <tbody>\n",
       "    <tr>\n",
       "      <th>7</th>\n",
       "      <td>rmse_Mult_add_sea</td>\n",
       "      <td>11.784250</td>\n",
       "    </tr>\n",
       "    <tr>\n",
       "      <th>11</th>\n",
       "      <td>hwe_model_mul_add_rmse</td>\n",
       "      <td>33.877958</td>\n",
       "    </tr>\n",
       "    <tr>\n",
       "      <th>5</th>\n",
       "      <td>rmse_add_sea_quad</td>\n",
       "      <td>36.510023</td>\n",
       "    </tr>\n",
       "    <tr>\n",
       "      <th>10</th>\n",
       "      <td>hwe_model_add_add_rmse</td>\n",
       "      <td>37.730080</td>\n",
       "    </tr>\n",
       "    <tr>\n",
       "      <th>1</th>\n",
       "      <td>rmse_Exp</td>\n",
       "      <td>46.621544</td>\n",
       "    </tr>\n",
       "    <tr>\n",
       "      <th>9</th>\n",
       "      <td>hw_model_rmse</td>\n",
       "      <td>47.988730</td>\n",
       "    </tr>\n",
       "    <tr>\n",
       "      <th>3</th>\n",
       "      <td>rmse_arima</td>\n",
       "      <td>52.029296</td>\n",
       "    </tr>\n",
       "    <tr>\n",
       "      <th>2</th>\n",
       "      <td>rmse_Quad</td>\n",
       "      <td>55.579643</td>\n",
       "    </tr>\n",
       "    <tr>\n",
       "      <th>0</th>\n",
       "      <td>rmse_linear</td>\n",
       "      <td>57.000148</td>\n",
       "    </tr>\n",
       "    <tr>\n",
       "      <th>8</th>\n",
       "      <td>ses_model_rmse</td>\n",
       "      <td>82.115943</td>\n",
       "    </tr>\n",
       "    <tr>\n",
       "      <th>4</th>\n",
       "      <td>rmse_add_sea</td>\n",
       "      <td>132.254134</td>\n",
       "    </tr>\n",
       "    <tr>\n",
       "      <th>6</th>\n",
       "      <td>rmse_Mult_sea</td>\n",
       "      <td>137.610909</td>\n",
       "    </tr>\n",
       "  </tbody>\n",
       "</table>\n",
       "</div>"
      ],
      "text/plain": [
       "                     MODEL  RMSE_Values\n",
       "7        rmse_Mult_add_sea    11.784250\n",
       "11  hwe_model_mul_add_rmse    33.877958\n",
       "5        rmse_add_sea_quad    36.510023\n",
       "10  hwe_model_add_add_rmse    37.730080\n",
       "1                 rmse_Exp    46.621544\n",
       "9            hw_model_rmse    47.988730\n",
       "3               rmse_arima    52.029296\n",
       "2                rmse_Quad    55.579643\n",
       "0              rmse_linear    57.000148\n",
       "8           ses_model_rmse    82.115943\n",
       "4             rmse_add_sea   132.254134\n",
       "6            rmse_Mult_sea   137.610909"
      ]
     },
     "execution_count": 35,
     "metadata": {},
     "output_type": "execute_result"
    }
   ],
   "source": [
    "#Compare the results \n",
    "\n",
    "data = {\"MODEL\":pd.Series([\"rmse_linear\",\"rmse_Exp\",\"rmse_Quad\",\"rmse_arima\",\"rmse_add_sea\",\"rmse_add_sea_quad\",\n",
    "                           \"rmse_Mult_sea\",\"rmse_Mult_add_sea\",\"ses_model_rmse\",\"hw_model_rmse\",\"hwe_model_add_add_rmse\",\n",
    "                           \"hwe_model_mul_add_rmse\"]),\n",
    "        \"RMSE_Values\":pd.Series([rmse_linear,rmse_Exp,rmse_Quad,arima_rmse,rmse_add_sea,rmse_add_sea_quad,rmse_Mult_sea,\n",
    "                                 rmse_Mult_add_sea,ses_model_rmse,hw_model_rmse,hwe_model_add_add_rmse,hwe_model_mul_add_rmse])}\n",
    "table_rmse=pd.DataFrame(data)\n",
    "table_rmse.sort_values(['RMSE_Values'])"
   ]
  },
  {
   "cell_type": "markdown",
   "id": "a1ef0898",
   "metadata": {},
   "source": [
    "##### Inference: From this Document Table We Can See \"rmse_Mult_add_sea\" i.e. (Multiplicative Additive Seasonality Model) has the Lowest RMSE So will Build Final Model of Multiplicative Additive Seasonality Model"
   ]
  },
  {
   "cell_type": "markdown",
   "id": "4b29fc3c",
   "metadata": {},
   "source": [
    "### Final Model - Multiplicative Additive Seasonality Model - (RMSE = 11.78)"
   ]
  },
  {
   "cell_type": "code",
   "execution_count": 36,
   "id": "d0321f68",
   "metadata": {},
   "outputs": [
    {
     "data": {
      "text/plain": [
       "8.933548467712644"
      ]
     },
     "execution_count": 36,
     "metadata": {},
     "output_type": "execute_result"
    }
   ],
   "source": [
    "#Building The Final Model On The Entire Dataset \n",
    "\n",
    "Final_Model = smf.ols('log_Passengers~t+Jan+Feb+Mar+Apr+May+Jun+Jul+Aug+Sep+Oct+Nov',data = Dataset1).fit()\n",
    "Final_pred = pd.Series(Final_Model.predict(Dataset1))\n",
    "rmse_Final = np.sqrt(np.mean((np.array(Dataset1['Passengers'])-np.array(np.exp(Final_pred)))**2))\n",
    "rmse_Final "
   ]
  },
  {
   "cell_type": "markdown",
   "id": "636b25fd",
   "metadata": {},
   "source": [
    "Inference: Final Model RMSE on Entire Dataset is 8.93"
   ]
  }
 ],
 "metadata": {
  "kernelspec": {
   "display_name": "Python 3 (ipykernel)",
   "language": "python",
   "name": "python3"
  },
  "language_info": {
   "codemirror_mode": {
    "name": "ipython",
    "version": 3
   },
   "file_extension": ".py",
   "mimetype": "text/x-python",
   "name": "python",
   "nbconvert_exporter": "python",
   "pygments_lexer": "ipython3",
   "version": "3.9.7"
  }
 },
 "nbformat": 4,
 "nbformat_minor": 5
}
