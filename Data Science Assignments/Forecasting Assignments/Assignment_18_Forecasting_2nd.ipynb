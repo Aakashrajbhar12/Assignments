{
 "cells": [
  {
   "cell_type": "markdown",
   "id": "46664cd6",
   "metadata": {},
   "source": [
    "### Assignment 18 - Forecasting "
   ]
  },
  {
   "cell_type": "markdown",
   "id": "27a11a6e",
   "metadata": {},
   "source": [
    "#### 1st Problem Statement\n",
    "\n",
    "Forecast the CocaCola prices, Explain how many dummy variables you have created and RMSE value for each model.\n",
    "Finally which model you will use for Forecasting.\n",
    "\n",
    "Dataset --> CocaCola_Sales_Rawdata.xlsx"
   ]
  },
  {
   "cell_type": "code",
   "execution_count": 1,
   "id": "003696cb",
   "metadata": {},
   "outputs": [],
   "source": [
    "#Importing the Required Libraries\n",
    "import pandas as pd\n",
    "import numpy as np\n",
    "import matplotlib.pyplot as plt\n",
    "from matplotlib import pyplot\n",
    "from numpy import sqrt\n",
    "import itertools\n",
    "import statsmodels.api as sm\n",
    "\n",
    "import warnings\n",
    "warnings.filterwarnings(\"ignore\")  #--to ignore warnings"
   ]
  },
  {
   "cell_type": "code",
   "execution_count": 2,
   "id": "84229186",
   "metadata": {},
   "outputs": [
    {
     "data": {
      "text/html": [
       "<div>\n",
       "<style scoped>\n",
       "    .dataframe tbody tr th:only-of-type {\n",
       "        vertical-align: middle;\n",
       "    }\n",
       "\n",
       "    .dataframe tbody tr th {\n",
       "        vertical-align: top;\n",
       "    }\n",
       "\n",
       "    .dataframe thead th {\n",
       "        text-align: right;\n",
       "    }\n",
       "</style>\n",
       "<table border=\"1\" class=\"dataframe\">\n",
       "  <thead>\n",
       "    <tr style=\"text-align: right;\">\n",
       "      <th></th>\n",
       "      <th>Sales</th>\n",
       "    </tr>\n",
       "    <tr>\n",
       "      <th>Quarter</th>\n",
       "      <th></th>\n",
       "    </tr>\n",
       "  </thead>\n",
       "  <tbody>\n",
       "    <tr>\n",
       "      <th>Q1_86</th>\n",
       "      <td>1734.827000</td>\n",
       "    </tr>\n",
       "    <tr>\n",
       "      <th>Q2_86</th>\n",
       "      <td>2244.960999</td>\n",
       "    </tr>\n",
       "    <tr>\n",
       "      <th>Q3_86</th>\n",
       "      <td>2533.804993</td>\n",
       "    </tr>\n",
       "    <tr>\n",
       "      <th>Q4_86</th>\n",
       "      <td>2154.962997</td>\n",
       "    </tr>\n",
       "    <tr>\n",
       "      <th>Q1_87</th>\n",
       "      <td>1547.818996</td>\n",
       "    </tr>\n",
       "  </tbody>\n",
       "</table>\n",
       "</div>"
      ],
      "text/plain": [
       "               Sales\n",
       "Quarter             \n",
       "Q1_86    1734.827000\n",
       "Q2_86    2244.960999\n",
       "Q3_86    2533.804993\n",
       "Q4_86    2154.962997\n",
       "Q1_87    1547.818996"
      ]
     },
     "execution_count": 2,
     "metadata": {},
     "output_type": "execute_result"
    }
   ],
   "source": [
    "# Loading the Dataset\n",
    "Dataset = pd.read_excel(\"C:/Users/Akaash/Downloads/CocaCola_Sales_Rawdata.xlsx\", header=0, index_col=0, parse_dates=True)\n",
    "Dataset.head()"
   ]
  },
  {
   "cell_type": "code",
   "execution_count": 3,
   "id": "bb48049d",
   "metadata": {},
   "outputs": [
    {
     "name": "stdout",
     "output_type": "stream",
     "text": [
      "<class 'pandas.core.frame.DataFrame'>\n",
      "Index: 42 entries, Q1_86 to Q2_96\n",
      "Data columns (total 1 columns):\n",
      " #   Column  Non-Null Count  Dtype  \n",
      "---  ------  --------------  -----  \n",
      " 0   Sales   42 non-null     float64\n",
      "dtypes: float64(1)\n",
      "memory usage: 672.0+ bytes\n"
     ]
    }
   ],
   "source": [
    "#Checking NA Values\n",
    "Dataset.info()"
   ]
  },
  {
   "cell_type": "markdown",
   "id": "25e45715",
   "metadata": {},
   "source": [
    "Inference: No NA Values Present"
   ]
  },
  {
   "cell_type": "markdown",
   "id": "c9f4a92c",
   "metadata": {},
   "source": [
    "### Forecasting - Visualization"
   ]
  },
  {
   "cell_type": "markdown",
   "id": "6247f4c5",
   "metadata": {},
   "source": [
    "#### Line Plot"
   ]
  },
  {
   "cell_type": "code",
   "execution_count": 4,
   "id": "0b9023be",
   "metadata": {},
   "outputs": [
    {
     "data": {
      "image/png": "[encoded data removed]",
      "text/plain": [
       "<Figure size 432x288 with 1 Axes>"
      ]
     },
     "metadata": {
      "needs_background": "light"
     },
     "output_type": "display_data"
    }
   ],
   "source": [
    "# Line Plot\n",
    "Dataset.plot()\n",
    "pyplot.show()"
   ]
  },
  {
   "cell_type": "markdown",
   "id": "74c8f646",
   "metadata": {},
   "source": [
    "Inference: A Simple Line Plot Showing the Quarter wise Sales"
   ]
  },
  {
   "cell_type": "markdown",
   "id": "1d7be8fa",
   "metadata": {},
   "source": [
    "#### Histogram and Density Plots"
   ]
  },
  {
   "cell_type": "code",
   "execution_count": 5,
   "id": "76358484",
   "metadata": {},
   "outputs": [
    {
     "data": {
      "image/png": "[encoded data removed]",
      "text/plain": [
       "<Figure size 432x288 with 1 Axes>"
      ]
     },
     "metadata": {
      "needs_background": "light"
     },
     "output_type": "display_data"
    }
   ],
   "source": [
    "# Histogram\n",
    "Dataset.hist()\n",
    "pyplot.show()"
   ]
  },
  {
   "cell_type": "markdown",
   "id": "995e45e8",
   "metadata": {},
   "source": [
    "Inference: Data is Fairly Distributed, Close to Normal Distribution"
   ]
  },
  {
   "cell_type": "code",
   "execution_count": 6,
   "id": "644ead9d",
   "metadata": {},
   "outputs": [
    {
     "data": {
      "image/png": "[encoded data removed]",
      "text/plain": [
       "<Figure size 432x288 with 1 Axes>"
      ]
     },
     "metadata": {
      "needs_background": "light"
     },
     "output_type": "display_data"
    }
   ],
   "source": [
    "#Density Plot\n",
    "Dataset.plot(kind='kde')\n",
    "pyplot.show()"
   ]
  },
  {
   "cell_type": "markdown",
   "id": "dd7416f2",
   "metadata": {},
   "source": [
    "Inference: Close to Normal Distribution, Values are Concentrated around 2500 (i.e: 2500 Sales)"
   ]
  },
  {
   "cell_type": "markdown",
   "id": "13138c2d",
   "metadata": {},
   "source": [
    "#### Lag plot"
   ]
  },
  {
   "cell_type": "code",
   "execution_count": 7,
   "id": "682296fc",
   "metadata": {},
   "outputs": [
    {
     "data": {
      "image/png": "[encoded data removed]",
      "text/plain": [
       "<Figure size 432x288 with 1 Axes>"
      ]
     },
     "metadata": {
      "needs_background": "light"
     },
     "output_type": "display_data"
    }
   ],
   "source": [
    "# create a scatter plot / Lag Plot\n",
    "from pandas.plotting import lag_plot\n",
    "#Plotting\n",
    "lag_plot(Dataset)\n",
    "pyplot.show()"
   ]
  },
  {
   "cell_type": "markdown",
   "id": "a72be562",
   "metadata": {},
   "source": [
    "Inference: There is a Linear Relationship betwwen the Y(t) & Y(t + 1) Variable"
   ]
  },
  {
   "cell_type": "markdown",
   "id": "82550fd6",
   "metadata": {},
   "source": [
    "#### ACF Plot"
   ]
  },
  {
   "cell_type": "code",
   "execution_count": 8,
   "id": "ac58ad90",
   "metadata": {},
   "outputs": [
    {
     "data": {
      "image/png": "[encoded data removed]",
      "text/plain": [
       "<Figure size 432x288 with 1 Axes>"
      ]
     },
     "metadata": {
      "needs_background": "light"
     },
     "output_type": "display_data"
    }
   ],
   "source": [
    "# create an autocorrelation plot\n",
    "from statsmodels.graphics.tsaplots import plot_acf\n",
    "#Plotting\n",
    "plot_acf(Dataset,lags=30)\n",
    "pyplot.show()"
   ]
  },
  {
   "cell_type": "markdown",
   "id": "394125c5",
   "metadata": {},
   "source": [
    "Inference: Only First Few lags have Statistically Significant Correlation"
   ]
  },
  {
   "cell_type": "markdown",
   "id": "8075e002",
   "metadata": {},
   "source": [
    "### Forecasting -  Model Based Methods"
   ]
  },
  {
   "cell_type": "code",
   "execution_count": 9,
   "id": "b416e507",
   "metadata": {},
   "outputs": [
    {
     "data": {
      "text/html": [
       "<div>\n",
       "<style scoped>\n",
       "    .dataframe tbody tr th:only-of-type {\n",
       "        vertical-align: middle;\n",
       "    }\n",
       "\n",
       "    .dataframe tbody tr th {\n",
       "        vertical-align: top;\n",
       "    }\n",
       "\n",
       "    .dataframe thead th {\n",
       "        text-align: right;\n",
       "    }\n",
       "</style>\n",
       "<table border=\"1\" class=\"dataframe\">\n",
       "  <thead>\n",
       "    <tr style=\"text-align: right;\">\n",
       "      <th></th>\n",
       "      <th>Sales</th>\n",
       "      <th>t</th>\n",
       "      <th>t_sq</th>\n",
       "      <th>log_sales</th>\n",
       "    </tr>\n",
       "    <tr>\n",
       "      <th>Quarter</th>\n",
       "      <th></th>\n",
       "      <th></th>\n",
       "      <th></th>\n",
       "      <th></th>\n",
       "    </tr>\n",
       "  </thead>\n",
       "  <tbody>\n",
       "    <tr>\n",
       "      <th>Q1_86</th>\n",
       "      <td>1734.827000</td>\n",
       "      <td>1</td>\n",
       "      <td>1.000000</td>\n",
       "      <td>7.458663</td>\n",
       "    </tr>\n",
       "    <tr>\n",
       "      <th>Q2_86</th>\n",
       "      <td>2244.960999</td>\n",
       "      <td>2</td>\n",
       "      <td>1.414214</td>\n",
       "      <td>7.716443</td>\n",
       "    </tr>\n",
       "    <tr>\n",
       "      <th>Q3_86</th>\n",
       "      <td>2533.804993</td>\n",
       "      <td>3</td>\n",
       "      <td>1.732051</td>\n",
       "      <td>7.837477</td>\n",
       "    </tr>\n",
       "    <tr>\n",
       "      <th>Q4_86</th>\n",
       "      <td>2154.962997</td>\n",
       "      <td>4</td>\n",
       "      <td>2.000000</td>\n",
       "      <td>7.675529</td>\n",
       "    </tr>\n",
       "    <tr>\n",
       "      <th>Q1_87</th>\n",
       "      <td>1547.818996</td>\n",
       "      <td>5</td>\n",
       "      <td>2.236068</td>\n",
       "      <td>7.344602</td>\n",
       "    </tr>\n",
       "  </tbody>\n",
       "</table>\n",
       "</div>"
      ],
      "text/plain": [
       "               Sales  t      t_sq  log_sales\n",
       "Quarter                                     \n",
       "Q1_86    1734.827000  1  1.000000   7.458663\n",
       "Q2_86    2244.960999  2  1.414214   7.716443\n",
       "Q3_86    2533.804993  3  1.732051   7.837477\n",
       "Q4_86    2154.962997  4  2.000000   7.675529\n",
       "Q1_87    1547.818996  5  2.236068   7.344602"
      ]
     },
     "execution_count": 9,
     "metadata": {},
     "output_type": "execute_result"
    }
   ],
   "source": [
    "#Creating t, t_sq & log_t Variables\n",
    "Dataset[\"t\"] = np.arange(1,43)\n",
    "Dataset[\"t_sq\"] = np.sqrt(Dataset[\"t\"])\n",
    "Dataset[\"log_sales\"] = np.log(Dataset[\"Sales\"])\n",
    "Dataset.head()"
   ]
  },
  {
   "cell_type": "markdown",
   "id": "46baa100",
   "metadata": {},
   "source": [
    "Inference: Now we have variable t, t_sq & log_sales(log_Y) for Model Based Methods"
   ]
  },
  {
   "cell_type": "markdown",
   "id": "e52a5ab7",
   "metadata": {},
   "source": [
    "#### Splitting data"
   ]
  },
  {
   "cell_type": "code",
   "execution_count": 10,
   "id": "f309f374",
   "metadata": {},
   "outputs": [],
   "source": [
    "# Splitting\n",
    "Train = Dataset.head(35)\n",
    "Test = Dataset.tail(7)"
   ]
  },
  {
   "cell_type": "markdown",
   "id": "88cfdc93",
   "metadata": {},
   "source": [
    "Inference: Data is splitted, Kept 7 Quarters for Validation"
   ]
  },
  {
   "cell_type": "code",
   "execution_count": 11,
   "id": "66ee1079",
   "metadata": {},
   "outputs": [
    {
     "data": {
      "text/plain": [
       "636.5072930351148"
      ]
     },
     "execution_count": 11,
     "metadata": {},
     "output_type": "execute_result"
    }
   ],
   "source": [
    "#Linear Model\n",
    "import statsmodels.formula.api as smf \n",
    "\n",
    "linear_model = smf.ols('Sales~t',data=Train).fit()\n",
    "pred_linear =  pd.Series(linear_model.predict(pd.DataFrame(Test['t'])))\n",
    "rmse_linear = np.sqrt(np.mean((np.array(Test['Sales'])-np.array(pred_linear))**2))\n",
    "rmse_linear"
   ]
  },
  {
   "cell_type": "markdown",
   "id": "ae84da01",
   "metadata": {},
   "source": [
    "Inference: Linear Model RMSE = 636.5"
   ]
  },
  {
   "cell_type": "code",
   "execution_count": 12,
   "id": "ac87e4f8",
   "metadata": {},
   "outputs": [
    {
     "data": {
      "text/plain": [
       "493.348648484222"
      ]
     },
     "execution_count": 12,
     "metadata": {},
     "output_type": "execute_result"
    }
   ],
   "source": [
    "#Exponential Model\n",
    "\n",
    "Exp = smf.ols('log_sales~t',data=Train).fit()\n",
    "pred_Exp = pd.Series(Exp.predict(pd.DataFrame(Test['t'])))\n",
    "rmse_Exp = np.sqrt(np.mean((np.array(Test['Sales'])-np.array(np.exp(pred_Exp)))**2))\n",
    "rmse_Exp"
   ]
  },
  {
   "cell_type": "markdown",
   "id": "6ac6605a",
   "metadata": {},
   "source": [
    "Inference: Exponential Model RMSE = 493.34"
   ]
  },
  {
   "cell_type": "code",
   "execution_count": 13,
   "id": "341dcaa3",
   "metadata": {},
   "outputs": [
    {
     "data": {
      "text/plain": [
       "415.33464222539277"
      ]
     },
     "execution_count": 13,
     "metadata": {},
     "output_type": "execute_result"
    }
   ],
   "source": [
    "#Quadratic Model\n",
    "Quad = smf.ols('Sales~t+t_sq',data=Train).fit()\n",
    "pred_Quad = pd.Series(Quad.predict(Test[[\"t\",\"t_sq\"]]))\n",
    "rmse_Quad = np.sqrt(np.mean((np.array(Test['Sales'])-np.array(pred_Quad))**2))\n",
    "rmse_Quad"
   ]
  },
  {
   "cell_type": "markdown",
   "id": "5cdb659f",
   "metadata": {},
   "source": [
    "Inference: Quadratic Model RMSE = 415.33"
   ]
  },
  {
   "cell_type": "markdown",
   "id": "b3567a25",
   "metadata": {},
   "source": [
    "#####  Can't Approach Model Based Methods as getting RSME Very Huge, and there are around 40 variable to put into further Equation which is computationally Intensive for my system"
   ]
  },
  {
   "cell_type": "markdown",
   "id": "b1e69292",
   "metadata": {},
   "source": [
    "### Forecasting -  Data Driven Methods"
   ]
  },
  {
   "cell_type": "code",
   "execution_count": 14,
   "id": "fec638cd",
   "metadata": {},
   "outputs": [],
   "source": [
    "# Data Driven Model Library\n",
    "from statsmodels.tsa.seasonal import seasonal_decompose\n",
    "from statsmodels.tsa.holtwinters import SimpleExpSmoothing # SES\n",
    "from statsmodels.tsa.holtwinters import Holt # Holts Exponential Smoothing\n",
    "from statsmodels.tsa.holtwinters import ExponentialSmoothing "
   ]
  },
  {
   "cell_type": "code",
   "execution_count": 15,
   "id": "d5a738c4",
   "metadata": {},
   "outputs": [
    {
     "data": {
      "text/html": [
       "<div>\n",
       "<style scoped>\n",
       "    .dataframe tbody tr th:only-of-type {\n",
       "        vertical-align: middle;\n",
       "    }\n",
       "\n",
       "    .dataframe tbody tr th {\n",
       "        vertical-align: top;\n",
       "    }\n",
       "\n",
       "    .dataframe thead th {\n",
       "        text-align: right;\n",
       "    }\n",
       "</style>\n",
       "<table border=\"1\" class=\"dataframe\">\n",
       "  <thead>\n",
       "    <tr style=\"text-align: right;\">\n",
       "      <th></th>\n",
       "      <th>Quarter</th>\n",
       "      <th>Sales</th>\n",
       "    </tr>\n",
       "  </thead>\n",
       "  <tbody>\n",
       "    <tr>\n",
       "      <th>0</th>\n",
       "      <td>Q1_86</td>\n",
       "      <td>1734.827000</td>\n",
       "    </tr>\n",
       "    <tr>\n",
       "      <th>1</th>\n",
       "      <td>Q2_86</td>\n",
       "      <td>2244.960999</td>\n",
       "    </tr>\n",
       "    <tr>\n",
       "      <th>2</th>\n",
       "      <td>Q3_86</td>\n",
       "      <td>2533.804993</td>\n",
       "    </tr>\n",
       "    <tr>\n",
       "      <th>3</th>\n",
       "      <td>Q4_86</td>\n",
       "      <td>2154.962997</td>\n",
       "    </tr>\n",
       "    <tr>\n",
       "      <th>4</th>\n",
       "      <td>Q1_87</td>\n",
       "      <td>1547.818996</td>\n",
       "    </tr>\n",
       "  </tbody>\n",
       "</table>\n",
       "</div>"
      ],
      "text/plain": [
       "  Quarter        Sales\n",
       "0   Q1_86  1734.827000\n",
       "1   Q2_86  2244.960999\n",
       "2   Q3_86  2533.804993\n",
       "3   Q4_86  2154.962997\n",
       "4   Q1_87  1547.818996"
      ]
     },
     "execution_count": 15,
     "metadata": {},
     "output_type": "execute_result"
    }
   ],
   "source": [
    "# Loading the Dataset\n",
    "Dataset = pd.read_excel(\"C:/Users/Akaash/Downloads/CocaCola_Sales_Rawdata.xlsx\", header=0, parse_dates=True)\n",
    "Dataset.head()"
   ]
  },
  {
   "cell_type": "markdown",
   "id": "b9c1d6e6",
   "metadata": {},
   "source": [
    "#### Splitting data"
   ]
  },
  {
   "cell_type": "code",
   "execution_count": 16,
   "id": "06c463af",
   "metadata": {},
   "outputs": [],
   "source": [
    "# Splitting\n",
    "Train = Dataset.head(35)\n",
    "Test = Dataset.tail(7)"
   ]
  },
  {
   "cell_type": "markdown",
   "id": "6e7caad1",
   "metadata": {},
   "source": [
    "#### Simple Exponential Method (SES)"
   ]
  },
  {
   "cell_type": "code",
   "execution_count": 17,
   "id": "b9661f37",
   "metadata": {},
   "outputs": [
    {
     "data": {
      "text/plain": [
       "922.9178301521721"
      ]
     },
     "execution_count": 17,
     "metadata": {},
     "output_type": "execute_result"
    }
   ],
   "source": [
    "ses_model = SimpleExpSmoothing(Train[\"Sales\"]).fit(smoothing_level=0.2)\n",
    "pred_ses = ses_model.predict(start = Test.index[0],end = Test.index[-1])\n",
    "ses_model_rmse = np.sqrt(np.mean((np.array(Test['Sales'])-np.array(pred_ses))**2))\n",
    "ses_model_rmse"
   ]
  },
  {
   "cell_type": "markdown",
   "id": "2934b35e",
   "metadata": {},
   "source": [
    "Inference: Simple Exponential Method (SES) RSME = 922.91"
   ]
  },
  {
   "cell_type": "markdown",
   "id": "7965a612",
   "metadata": {},
   "source": [
    "#### Holt method (DES)"
   ]
  },
  {
   "cell_type": "code",
   "execution_count": 18,
   "id": "2573d984",
   "metadata": {},
   "outputs": [
    {
     "data": {
      "text/plain": [
       "796.7270704370691"
      ]
     },
     "execution_count": 18,
     "metadata": {},
     "output_type": "execute_result"
    }
   ],
   "source": [
    "# Holt method \n",
    "hw_model = Holt(Train[\"Sales\"]).fit(smoothing_level=0.8, smoothing_slope=0.2)\n",
    "pred_hw = hw_model.predict(start = Test.index[0],end = Test.index[-1])\n",
    "hw_model_rmse = np.sqrt(np.mean((np.array(Test['Sales'])-np.array(pred_hw))**2))\n",
    "hw_model_rmse"
   ]
  },
  {
   "cell_type": "markdown",
   "id": "1428b5c8",
   "metadata": {},
   "source": [
    "Inference: Holt's Method (DES) MAPE = 796.72"
   ]
  },
  {
   "cell_type": "markdown",
   "id": "7dc3a95d",
   "metadata": {},
   "source": [
    "#### Holts winter exponential smoothing with additive seasonality and additive trend (TES)"
   ]
  },
  {
   "cell_type": "code",
   "execution_count": 19,
   "id": "cc60f431",
   "metadata": {},
   "outputs": [
    {
     "data": {
      "text/plain": [
       "204.22249870091514"
      ]
     },
     "execution_count": 19,
     "metadata": {},
     "output_type": "execute_result"
    }
   ],
   "source": [
    "#add the trend to the model\n",
    "hwe_model_add_add = ExponentialSmoothing(Train[\"Sales\"],seasonal=\"add\",trend=\"add\",seasonal_periods=12).fit() \n",
    "pred_hwe_add_add = hwe_model_add_add.predict(start = Test.index[0],end = Test.index[-1])\n",
    "hwe_model_add_add_rmse = np.sqrt(np.mean((np.array(Test['Sales'])-np.array(pred_hwe_add_add))**2))\n",
    "hwe_model_add_add_rmse"
   ]
  },
  {
   "cell_type": "markdown",
   "id": "002880c1",
   "metadata": {},
   "source": [
    "Inference: Holt's Winter Method (TES) MAPE = 204.22"
   ]
  },
  {
   "cell_type": "markdown",
   "id": "6082a4e0",
   "metadata": {},
   "source": [
    "#### Holts winter exponential smoothing with multiplicative seasonality and additive trend"
   ]
  },
  {
   "cell_type": "code",
   "execution_count": 20,
   "id": "a884bdc7",
   "metadata": {},
   "outputs": [
    {
     "data": {
      "text/plain": [
       "100.09672925838048"
      ]
     },
     "execution_count": 20,
     "metadata": {},
     "output_type": "execute_result"
    }
   ],
   "source": [
    "hwe_model_mul_add = ExponentialSmoothing(Train[\"Sales\"],seasonal=\"mul\",trend=\"add\",seasonal_periods=12).fit() \n",
    "pred_hwe_mul_add = hwe_model_mul_add.predict(start = Test.index[0],end = Test.index[-1])\n",
    "hwe_model_mul_add_rmse = np.sqrt(np.mean((np.array(Test['Sales'])-np.array(pred_hwe_mul_add))**2))\n",
    "hwe_model_mul_add_rmse"
   ]
  },
  {
   "cell_type": "markdown",
   "id": "f5f8f96a",
   "metadata": {},
   "source": [
    "Inference: Holt's Winter Method (TES) MAPE = 100.09"
   ]
  },
  {
   "cell_type": "markdown",
   "id": "d3176e53",
   "metadata": {},
   "source": [
    "### Forecasting - Arima Models"
   ]
  },
  {
   "cell_type": "code",
   "execution_count": 21,
   "id": "9e5c611d",
   "metadata": {
    "scrolled": false
   },
   "outputs": [
    {
     "data": {
      "text/html": [
       "<div>\n",
       "<style scoped>\n",
       "    .dataframe tbody tr th:only-of-type {\n",
       "        vertical-align: middle;\n",
       "    }\n",
       "\n",
       "    .dataframe tbody tr th {\n",
       "        vertical-align: top;\n",
       "    }\n",
       "\n",
       "    .dataframe thead th {\n",
       "        text-align: right;\n",
       "    }\n",
       "</style>\n",
       "<table border=\"1\" class=\"dataframe\">\n",
       "  <thead>\n",
       "    <tr style=\"text-align: right;\">\n",
       "      <th></th>\n",
       "      <th>Sales</th>\n",
       "    </tr>\n",
       "    <tr>\n",
       "      <th>Quarter</th>\n",
       "      <th></th>\n",
       "    </tr>\n",
       "  </thead>\n",
       "  <tbody>\n",
       "    <tr>\n",
       "      <th>Q1_86</th>\n",
       "      <td>1734.827000</td>\n",
       "    </tr>\n",
       "    <tr>\n",
       "      <th>Q2_86</th>\n",
       "      <td>2244.960999</td>\n",
       "    </tr>\n",
       "    <tr>\n",
       "      <th>Q3_86</th>\n",
       "      <td>2533.804993</td>\n",
       "    </tr>\n",
       "    <tr>\n",
       "      <th>Q4_86</th>\n",
       "      <td>2154.962997</td>\n",
       "    </tr>\n",
       "    <tr>\n",
       "      <th>Q1_87</th>\n",
       "      <td>1547.818996</td>\n",
       "    </tr>\n",
       "  </tbody>\n",
       "</table>\n",
       "</div>"
      ],
      "text/plain": [
       "               Sales\n",
       "Quarter             \n",
       "Q1_86    1734.827000\n",
       "Q2_86    2244.960999\n",
       "Q3_86    2533.804993\n",
       "Q4_86    2154.962997\n",
       "Q1_87    1547.818996"
      ]
     },
     "execution_count": 21,
     "metadata": {},
     "output_type": "execute_result"
    }
   ],
   "source": [
    "# Loading the Dataset\n",
    "Dataset = pd.read_excel(\"C:/Users/Akaash/Downloads/CocaCola_Sales_Rawdata.xlsx\", header=0, index_col=0, parse_dates=True)\n",
    "Dataset.head()"
   ]
  },
  {
   "cell_type": "markdown",
   "id": "6f89e610",
   "metadata": {},
   "source": [
    "#### ACF plots and PACF plots"
   ]
  },
  {
   "cell_type": "code",
   "execution_count": 22,
   "id": "a4a4a97e",
   "metadata": {},
   "outputs": [
    {
     "data": {
      "image/png": "[encoded data removed]",
      "text/plain": [
       "<Figure size 432x288 with 1 Axes>"
      ]
     },
     "metadata": {
      "needs_background": "light"
     },
     "output_type": "display_data"
    },
    {
     "data": {
      "image/png": "[encoded data removed]",
      "text/plain": [
       "<Figure size 432x288 with 1 Axes>"
      ]
     },
     "metadata": {
      "needs_background": "light"
     },
     "output_type": "display_data"
    }
   ],
   "source": [
    "import statsmodels.graphics.tsaplots as tsa_plots\n",
    "tsa_plots.plot_acf(Dataset.Sales,lags=12)\n",
    "tsa_plots.plot_pacf(Dataset.Sales,lags=12)\n",
    "plt.show()"
   ]
  },
  {
   "cell_type": "markdown",
   "id": "94c466ee",
   "metadata": {},
   "source": [
    "#### Splitting data"
   ]
  },
  {
   "cell_type": "code",
   "execution_count": 23,
   "id": "aa114fe4",
   "metadata": {},
   "outputs": [
    {
     "name": "stdout",
     "output_type": "stream",
     "text": [
      "Dataset 35, Validation 7\n"
     ]
    }
   ],
   "source": [
    "# separate out a validation dataset\n",
    "split_point = len(Dataset) - 7\n",
    "dataset, validation = Dataset[0:split_point], Dataset[split_point:]\n",
    "print('Dataset %d, Validation %d' % (len(dataset), len(validation)))\n",
    "dataset.to_csv('C:/Users/Akaash/Downloads/dataset_2nd.csv', header=False)\n",
    "validation.to_csv('C:/Users/Akaash/Downloads/validation_2nd.csv', header=False)"
   ]
  },
  {
   "cell_type": "markdown",
   "id": "52eb75ed",
   "metadata": {},
   "source": [
    "#### Persistence/ Base model"
   ]
  },
  {
   "cell_type": "code",
   "execution_count": 24,
   "id": "a1354337",
   "metadata": {},
   "outputs": [
    {
     "name": "stdout",
     "output_type": "stream",
     "text": [
      ">Predicted=2148.278, Expected=2739.308\n",
      ">Predicted=2739.308, Expected=2792.754\n",
      ">Predicted=2792.754, Expected=2556.010\n",
      ">Predicted=2556.010, Expected=2480.974\n",
      ">Predicted=2480.974, Expected=3039.523\n",
      ">Predicted=3039.523, Expected=3172.116\n",
      ">Predicted=3172.116, Expected=2879.001\n",
      ">Predicted=2879.001, Expected=2772.000\n",
      ">Predicted=2772.000, Expected=3550.000\n",
      ">Predicted=3550.000, Expected=3508.000\n",
      ">Predicted=3508.000, Expected=3243.860\n",
      ">Predicted=3243.860, Expected=3056.000\n",
      ">Predicted=3056.000, Expected=3899.000\n",
      ">Predicted=3899.000, Expected=3629.000\n",
      ">Predicted=3629.000, Expected=3373.000\n",
      ">Predicted=3373.000, Expected=3352.000\n",
      ">Predicted=3352.000, Expected=4342.000\n",
      ">Predicted=4342.000, Expected=4461.000\n",
      "RMSE: 434.401\n"
     ]
    }
   ],
   "source": [
    "# evaluate a persistence model\n",
    "from pandas import read_csv\n",
    "from sklearn.metrics import mean_squared_error\n",
    "from math import sqrt\n",
    "# load data\n",
    "train = read_csv('C:/Users/Akaash/Downloads/dataset_2nd.csv', header=None, index_col=0, parse_dates=True, squeeze=True)\n",
    "# prepare data\n",
    "X = train.values\n",
    "X = X.astype('float32')\n",
    "train_size = int(len(X) * 0.50)\n",
    "train, test = X[0:train_size], X[train_size:]\n",
    "# walk-forward validation\n",
    "history = [x for x in train]\n",
    "predictions = list()\n",
    "for i in range(len(test)):\n",
    "    yhat = history[-1]\n",
    "    predictions.append(yhat)\n",
    "# observation\n",
    "    obs = test[i]\n",
    "    history.append(obs)\n",
    "    print('>Predicted=%.3f, Expected=%.3f' % (yhat, obs))\n",
    "# report performance\n",
    "rmse = sqrt(mean_squared_error(test, predictions))\n",
    "print('RMSE: %.3f' % rmse)"
   ]
  },
  {
   "cell_type": "markdown",
   "id": "67979430",
   "metadata": {},
   "source": [
    "Inference: Persistence Model RMSE = 434.40"
   ]
  },
  {
   "cell_type": "markdown",
   "id": "609c5002",
   "metadata": {},
   "source": [
    "#### ARIMA Hyperparameters "
   ]
  },
  {
   "cell_type": "code",
   "execution_count": 25,
   "id": "bb856fac",
   "metadata": {},
   "outputs": [],
   "source": [
    "# grid search ARIMA parameters for a time series\n",
    "from statsmodels.tsa.arima_model import ARIMA\n",
    "\n",
    "# evaluate an ARIMA model for a given order (p,d,q) and return RMSE\n",
    "def evaluate_arima_model(X, arima_order):\n",
    "# prepare training dataset\n",
    "    X = X.astype('float32')\n",
    "    train_size = int(len(X) * 0.50)\n",
    "    train, test = X[0:train_size], X[train_size:]\n",
    "    history = [x for x in train]\n",
    "# make predictions\n",
    "    predictions = list()\n",
    "    for t in range(len(test)):\n",
    "        model = ARIMA(history, order=arima_order)\n",
    "# model_fit = model.fit(disp=0)\n",
    "        model_fit = model.fit(disp=0)\n",
    "        yhat = model_fit.forecast()[0]\n",
    "        predictions.append(yhat)\n",
    "        history.append(test[t])\n",
    "# calculate out of sample error\n",
    "    rmse = sqrt(mean_squared_error(test, predictions))\n",
    "    return rmse"
   ]
  },
  {
   "cell_type": "markdown",
   "id": "6c32903b",
   "metadata": {},
   "source": [
    "#### Grid search for p,d,q values"
   ]
  },
  {
   "cell_type": "code",
   "execution_count": 26,
   "id": "b8bb4c09",
   "metadata": {},
   "outputs": [],
   "source": [
    "# evaluate combinations of p, d and q values for an ARIMA model\n",
    "def evaluate_models(dataset, p_values, d_values, q_values):\n",
    "    dataset = dataset.astype('float32')\n",
    "    best_score, best_cfg = float('inf'), None\n",
    "    for p in p_values:\n",
    "        for d in d_values:\n",
    "            for q in q_values:\n",
    "                order = (p,d,q)\n",
    "                try:\n",
    "                    rmse = evaluate_arima_model(train, order)\n",
    "                    if rmse < best_score:\n",
    "                        best_score, best_cfg = rmse, order\n",
    "                    print('ARIMA%s RMSE=%.3f' % (order,rmse))\n",
    "                except:\n",
    "                    continue\n",
    "    print('Best ARIMA%s RMSE=%.3f' % (best_cfg, best_score))"
   ]
  },
  {
   "cell_type": "code",
   "execution_count": 27,
   "id": "a697ffa1",
   "metadata": {},
   "outputs": [
    {
     "name": "stdout",
     "output_type": "stream",
     "text": [
      "ARIMA(0, 0, 0) RMSE=1008.453\n",
      "ARIMA(0, 0, 1) RMSE=722.334\n",
      "ARIMA(0, 0, 2) RMSE=477.153\n",
      "ARIMA(0, 1, 0) RMSE=429.275\n",
      "ARIMA(0, 1, 1) RMSE=442.484\n",
      "ARIMA(0, 1, 2) RMSE=405.285\n",
      "ARIMA(0, 2, 0) RMSE=647.158\n",
      "ARIMA(0, 2, 1) RMSE=450.741\n",
      "ARIMA(0, 2, 2) RMSE=416.198\n",
      "ARIMA(1, 0, 0) RMSE=519.877\n",
      "ARIMA(1, 1, 0) RMSE=429.820\n",
      "ARIMA(1, 2, 0) RMSE=619.416\n",
      "ARIMA(2, 0, 0) RMSE=539.169\n",
      "ARIMA(2, 1, 0) RMSE=352.515\n",
      "ARIMA(2, 2, 0) RMSE=542.789\n",
      "Best ARIMA(2, 1, 0) RMSE=352.515\n"
     ]
    }
   ],
   "source": [
    "# load dataset\n",
    "train = read_csv('C:/Users/Akaash/Downloads/dataset_2nd.csv', header=None, index_col=0, parse_dates=True, squeeze=True)\n",
    "# evaluate parameters\n",
    "p_values = range(0, 3)\n",
    "d_values = range(0, 3)\n",
    "q_values = range(0, 3)\n",
    "#Grid Search Evaluate\n",
    "evaluate_models(train.values, p_values, d_values, q_values)"
   ]
  },
  {
   "cell_type": "markdown",
   "id": "05e74671",
   "metadata": {},
   "source": [
    "#### Building Arima Model based on the optimized values From Grid Search CV"
   ]
  },
  {
   "cell_type": "code",
   "execution_count": 28,
   "id": "f39ed464",
   "metadata": {},
   "outputs": [
    {
     "data": {
      "image/png": "[encoded data removed]",
      "text/plain": [
       "<Figure size 432x288 with 1 Axes>"
      ]
     },
     "execution_count": 28,
     "metadata": {},
     "output_type": "execute_result"
    },
    {
     "data": {
      "image/png": "[encoded data removed]",
      "text/plain": [
       "<Figure size 432x288 with 1 Axes>"
      ]
     },
     "metadata": {
      "needs_background": "light"
     },
     "output_type": "display_data"
    }
   ],
   "source": [
    "# Building  Arima Model with order=(2,1,0)\n",
    "model = ARIMA(X, order=(2,1,0))\n",
    "model_fit = model.fit()\n",
    "forecast=model_fit.forecast(steps=7)[0]\n",
    "model_fit.plot_predict(1,80)"
   ]
  },
  {
   "cell_type": "code",
   "execution_count": 29,
   "id": "d6cf6d43",
   "metadata": {},
   "outputs": [
    {
     "data": {
      "text/plain": [
       "373.4800008933816"
      ]
     },
     "execution_count": 29,
     "metadata": {},
     "output_type": "execute_result"
    }
   ],
   "source": [
    "#Error on the test data\n",
    "val=pd.read_csv('C:/Users/Akaash/Downloads/validation_2nd.csv',header=None)\n",
    "arima_rmse = sqrt(mean_squared_error(val[1], forecast))\n",
    "arima_rmse"
   ]
  },
  {
   "cell_type": "markdown",
   "id": "661f6d7d",
   "metadata": {},
   "source": [
    "Inference: Arima Model RMSE = 373.48"
   ]
  },
  {
   "cell_type": "markdown",
   "id": "d885fa90",
   "metadata": {},
   "source": [
    "### Document of All Model RMSE"
   ]
  },
  {
   "cell_type": "code",
   "execution_count": 30,
   "id": "e355a67a",
   "metadata": {},
   "outputs": [
    {
     "data": {
      "text/html": [
       "<div>\n",
       "<style scoped>\n",
       "    .dataframe tbody tr th:only-of-type {\n",
       "        vertical-align: middle;\n",
       "    }\n",
       "\n",
       "    .dataframe tbody tr th {\n",
       "        vertical-align: top;\n",
       "    }\n",
       "\n",
       "    .dataframe thead th {\n",
       "        text-align: right;\n",
       "    }\n",
       "</style>\n",
       "<table border=\"1\" class=\"dataframe\">\n",
       "  <thead>\n",
       "    <tr style=\"text-align: right;\">\n",
       "      <th></th>\n",
       "      <th>MODEL</th>\n",
       "      <th>RMSE_Values</th>\n",
       "    </tr>\n",
       "  </thead>\n",
       "  <tbody>\n",
       "    <tr>\n",
       "      <th>7</th>\n",
       "      <td>hwe_model_mul_add_rmse</td>\n",
       "      <td>100.096729</td>\n",
       "    </tr>\n",
       "    <tr>\n",
       "      <th>6</th>\n",
       "      <td>hwe_model_add_add_rmse</td>\n",
       "      <td>204.222499</td>\n",
       "    </tr>\n",
       "    <tr>\n",
       "      <th>3</th>\n",
       "      <td>rmse_arima</td>\n",
       "      <td>373.480001</td>\n",
       "    </tr>\n",
       "    <tr>\n",
       "      <th>2</th>\n",
       "      <td>rmse_Quad</td>\n",
       "      <td>415.334642</td>\n",
       "    </tr>\n",
       "    <tr>\n",
       "      <th>1</th>\n",
       "      <td>rmse_Exp</td>\n",
       "      <td>493.348648</td>\n",
       "    </tr>\n",
       "    <tr>\n",
       "      <th>0</th>\n",
       "      <td>rmse_linear</td>\n",
       "      <td>636.507293</td>\n",
       "    </tr>\n",
       "    <tr>\n",
       "      <th>5</th>\n",
       "      <td>hw_model_rmse</td>\n",
       "      <td>796.727070</td>\n",
       "    </tr>\n",
       "    <tr>\n",
       "      <th>4</th>\n",
       "      <td>ses_model_rmse</td>\n",
       "      <td>922.917830</td>\n",
       "    </tr>\n",
       "  </tbody>\n",
       "</table>\n",
       "</div>"
      ],
      "text/plain": [
       "                    MODEL  RMSE_Values\n",
       "7  hwe_model_mul_add_rmse   100.096729\n",
       "6  hwe_model_add_add_rmse   204.222499\n",
       "3              rmse_arima   373.480001\n",
       "2               rmse_Quad   415.334642\n",
       "1                rmse_Exp   493.348648\n",
       "0             rmse_linear   636.507293\n",
       "5           hw_model_rmse   796.727070\n",
       "4          ses_model_rmse   922.917830"
      ]
     },
     "execution_count": 30,
     "metadata": {},
     "output_type": "execute_result"
    }
   ],
   "source": [
    "#Compare the results \n",
    "\n",
    "data = {\"MODEL\":pd.Series([\"rmse_linear\",\"rmse_Exp\",\"rmse_Quad\",\"rmse_arima\",\"ses_model_rmse\",\"hw_model_rmse\",\n",
    "                           \"hwe_model_add_add_rmse\",\"hwe_model_mul_add_rmse\"]),\n",
    "        \"RMSE_Values\":pd.Series([rmse_linear,rmse_Exp,rmse_Quad,arima_rmse,ses_model_rmse,hw_model_rmse,\n",
    "                                 hwe_model_add_add_rmse,hwe_model_mul_add_rmse])}\n",
    "table_rmse=pd.DataFrame(data)\n",
    "table_rmse.sort_values(['RMSE_Values'])"
   ]
  },
  {
   "cell_type": "markdown",
   "id": "60d93f86",
   "metadata": {},
   "source": [
    "##### Inference: From this Document Table We Can See \"hwe_model_mul_add_rmse\" i.e. (Holts winter exponential smoothing with multiplicative seasonality and additive trend Model) has the Lowest RMSE So will Build Final Model of \"Holts winter exponential smoothing with multiplicative seasonality and additive trend\""
   ]
  },
  {
   "cell_type": "markdown",
   "id": "9e39c0a2",
   "metadata": {},
   "source": [
    "#### Final Model - Holts winter exponential smoothing with multiplicative seasonality and additive trend Model - (RMSE = 100.09)"
   ]
  },
  {
   "cell_type": "code",
   "execution_count": 31,
   "id": "a53238af",
   "metadata": {},
   "outputs": [],
   "source": [
    "#Building The Final Model On The Entire Dataset \n",
    "hwe_model_mul_add = ExponentialSmoothing(Dataset[\"Sales\"],seasonal=\"mul\",trend=\"add\",seasonal_periods=12).fit() "
   ]
  },
  {
   "cell_type": "code",
   "execution_count": 32,
   "id": "570a6adc",
   "metadata": {},
   "outputs": [
    {
     "data": {
      "text/plain": [
       "42    4921.508206\n",
       "43    4587.981568\n",
       "44    4532.396905\n",
       "45    5757.236098\n",
       "46    5816.204292\n",
       "47    5208.816817\n",
       "48    4956.798219\n",
       "dtype: float64"
      ]
     },
     "execution_count": 32,
     "metadata": {},
     "output_type": "execute_result"
    }
   ],
   "source": [
    "#Forecasting for next 7 time periods\n",
    "hwe_model_mul_add.forecast(7)"
   ]
  },
  {
   "cell_type": "markdown",
   "id": "a53dd581",
   "metadata": {},
   "source": [
    "Inference: Forecast of Next 7 Time Periods Using \"hwe_model_mul_add\" Model"
   ]
  }
 ],
 "metadata": {
  "kernelspec": {
   "display_name": "Python 3 (ipykernel)",
   "language": "python",
   "name": "python3"
  },
  "language_info": {
   "codemirror_mode": {
    "name": "ipython",
    "version": 3
   },
   "file_extension": ".py",
   "mimetype": "text/x-python",
   "name": "python",
   "nbconvert_exporter": "python",
   "pygments_lexer": "ipython3",
   "version": "3.9.7"
  }
 },
 "nbformat": 4,
 "nbformat_minor": 5
}
