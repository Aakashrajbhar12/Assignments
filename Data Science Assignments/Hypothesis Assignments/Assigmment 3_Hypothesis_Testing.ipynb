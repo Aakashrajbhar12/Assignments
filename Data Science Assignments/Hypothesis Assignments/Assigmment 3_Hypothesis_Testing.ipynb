{
 "cells": [
  {
   "cell_type": "markdown",
   "id": "6c421779",
   "metadata": {},
   "source": [
    "### Assignment 3 -- Hypothesis Testing"
   ]
  },
  {
   "cell_type": "markdown",
   "id": "f37c4f82",
   "metadata": {},
   "source": [
    "#### Q1."
   ]
  },
  {
   "cell_type": "markdown",
   "id": "810e1f20",
   "metadata": {},
   "source": [
    "A F&B manager wants to determine whether there is any significant difference in the diameter of the cutlet between two units. A randomly selected sample of cutlets was collected from both units and measured? Analyze the data and draw inferences at 5% significance level. Please state the assumptions and tests that you carried out to check validity of the assumptions.\n",
    "Dataset --> Cutlets.csv"
   ]
  },
  {
   "cell_type": "code",
   "execution_count": 1,
   "id": "2837d905",
   "metadata": {},
   "outputs": [],
   "source": [
    "#Loading the Required Libaries\n",
    "import pandas as pd\n",
    "import scipy \n",
    "import numpy as np\n",
    "from scipy import stats"
   ]
  },
  {
   "cell_type": "code",
   "execution_count": 2,
   "id": "ad2a5914",
   "metadata": {},
   "outputs": [
    {
     "data": {
      "text/html": [
       "<div>\n",
       "<style scoped>\n",
       "    .dataframe tbody tr th:only-of-type {\n",
       "        vertical-align: middle;\n",
       "    }\n",
       "\n",
       "    .dataframe tbody tr th {\n",
       "        vertical-align: top;\n",
       "    }\n",
       "\n",
       "    .dataframe thead th {\n",
       "        text-align: right;\n",
       "    }\n",
       "</style>\n",
       "<table border=\"1\" class=\"dataframe\">\n",
       "  <thead>\n",
       "    <tr style=\"text-align: right;\">\n",
       "      <th></th>\n",
       "      <th>Unit A</th>\n",
       "      <th>Unit B</th>\n",
       "    </tr>\n",
       "  </thead>\n",
       "  <tbody>\n",
       "    <tr>\n",
       "      <th>0</th>\n",
       "      <td>6.8090</td>\n",
       "      <td>6.7703</td>\n",
       "    </tr>\n",
       "    <tr>\n",
       "      <th>1</th>\n",
       "      <td>6.4376</td>\n",
       "      <td>7.5093</td>\n",
       "    </tr>\n",
       "    <tr>\n",
       "      <th>2</th>\n",
       "      <td>6.9157</td>\n",
       "      <td>6.7300</td>\n",
       "    </tr>\n",
       "  </tbody>\n",
       "</table>\n",
       "</div>"
      ],
      "text/plain": [
       "   Unit A  Unit B\n",
       "0  6.8090  6.7703\n",
       "1  6.4376  7.5093\n",
       "2  6.9157  6.7300"
      ]
     },
     "execution_count": 2,
     "metadata": {},
     "output_type": "execute_result"
    }
   ],
   "source": [
    "#Loading the Dataset\n",
    "cutlet = pd.read_csv(\"C:/Users/Akaash/Downloads/Cutlets.csv\")\n",
    "cutlet.head(3)"
   ]
  },
  {
   "cell_type": "markdown",
   "id": "feee7640",
   "metadata": {},
   "source": [
    "Defining the Hypothesis,\n",
    "\n",
    "H0: μ1 = μ2 (No Difference in the Diameter)\n",
    "\n",
    "H1: μ1 ≠ μ2 (There is Difference in the Diameter)"
   ]
  },
  {
   "cell_type": "code",
   "execution_count": 3,
   "id": "be13fad8",
   "metadata": {},
   "outputs": [],
   "source": [
    "#Formula of P_value for Two Sample test \n",
    "p_value = stats.ttest_ind(cutlet[\"Unit A\"],cutlet[\"Unit B\"])"
   ]
  },
  {
   "cell_type": "code",
   "execution_count": 4,
   "id": "04923ef7",
   "metadata": {},
   "outputs": [
    {
     "name": "stdout",
     "output_type": "stream",
     "text": [
      "The p_value is: 0.4722394724599501 ,Which is greater then α, Fail to Reject H0, which means No Difference in the Diameter\n"
     ]
    }
   ],
   "source": [
    "#Getting the  result using if conditions\n",
    "α = 0.05  # Standard\n",
    "if p_value[1] < α:\n",
    "    print(\"The p_value is:\",p_value[1],\",Which is less then α, Reject H0, which means There is Difference in the Diameter\")\n",
    "else:\n",
    "    print(\"The p_value is:\",p_value[1],\",Which is greater then α, Fail to Reject H0, which means No Difference in the Diameter\")"
   ]
  },
  {
   "cell_type": "markdown",
   "id": "598e4cb3",
   "metadata": {},
   "source": [
    "#### Q2."
   ]
  },
  {
   "cell_type": "markdown",
   "id": "66e8fc64",
   "metadata": {},
   "source": [
    "A hospital wants to determine whether there is any difference in the average Turn Around Time (TAT) of reports of the laboratories on their preferred list. They collected a random sample and recorded TAT for reports of 4 laboratories. TAT is defined as sample collected to report dispatch.\n",
    "   \n",
    "Analyze the data and determine whether there is any difference in average TAT among the different laboratories at 5% significance level.\n",
    "\n",
    "Dataset --> LabTAT.csv"
   ]
  },
  {
   "cell_type": "code",
   "execution_count": 5,
   "id": "3563cb37",
   "metadata": {},
   "outputs": [
    {
     "data": {
      "text/html": [
       "<div>\n",
       "<style scoped>\n",
       "    .dataframe tbody tr th:only-of-type {\n",
       "        vertical-align: middle;\n",
       "    }\n",
       "\n",
       "    .dataframe tbody tr th {\n",
       "        vertical-align: top;\n",
       "    }\n",
       "\n",
       "    .dataframe thead th {\n",
       "        text-align: right;\n",
       "    }\n",
       "</style>\n",
       "<table border=\"1\" class=\"dataframe\">\n",
       "  <thead>\n",
       "    <tr style=\"text-align: right;\">\n",
       "      <th></th>\n",
       "      <th>Laboratory 1</th>\n",
       "      <th>Laboratory 2</th>\n",
       "      <th>Laboratory 3</th>\n",
       "      <th>Laboratory 4</th>\n",
       "    </tr>\n",
       "  </thead>\n",
       "  <tbody>\n",
       "    <tr>\n",
       "      <th>0</th>\n",
       "      <td>185.35</td>\n",
       "      <td>165.53</td>\n",
       "      <td>176.70</td>\n",
       "      <td>166.13</td>\n",
       "    </tr>\n",
       "    <tr>\n",
       "      <th>1</th>\n",
       "      <td>170.49</td>\n",
       "      <td>185.91</td>\n",
       "      <td>198.45</td>\n",
       "      <td>160.79</td>\n",
       "    </tr>\n",
       "    <tr>\n",
       "      <th>2</th>\n",
       "      <td>192.77</td>\n",
       "      <td>194.92</td>\n",
       "      <td>201.23</td>\n",
       "      <td>185.18</td>\n",
       "    </tr>\n",
       "  </tbody>\n",
       "</table>\n",
       "</div>"
      ],
      "text/plain": [
       "   Laboratory 1  Laboratory 2  Laboratory 3  Laboratory 4\n",
       "0        185.35        165.53        176.70        166.13\n",
       "1        170.49        185.91        198.45        160.79\n",
       "2        192.77        194.92        201.23        185.18"
      ]
     },
     "execution_count": 5,
     "metadata": {},
     "output_type": "execute_result"
    }
   ],
   "source": [
    "#Loading the Dataset\n",
    "TAT = pd.read_csv(\"C:/Users/Akaash/Downloads/LabTAT.csv\")\n",
    "TAT.head(3)"
   ]
  },
  {
   "cell_type": "markdown",
   "id": "825f062b",
   "metadata": {},
   "source": [
    "It is a Anova Test as more than 2 features are been compared Simultanously So,\n",
    "\n",
    "Defining the Hypothesis,\n",
    "\n",
    "H0: μ1 = μ2 = μ3 = μ4 (No Difference in Average TAT)\n",
    "\n",
    "H1: μ1 = μ2 = μ3 ≠ μ  (There is Difference in Average TAT)"
   ]
  },
  {
   "cell_type": "code",
   "execution_count": 6,
   "id": "85ab4450",
   "metadata": {},
   "outputs": [],
   "source": [
    "##Formula of Anova Test -- Gives Two Value t-statistic and p_value\n",
    "\n",
    "p_value = stats.f_oneway(TAT[\"Laboratory 1\"],TAT[\"Laboratory 2\"],TAT[\"Laboratory 3\"],TAT[\"Laboratory 4\"])"
   ]
  },
  {
   "cell_type": "code",
   "execution_count": 7,
   "id": "bc8b631a",
   "metadata": {},
   "outputs": [
    {
     "name": "stdout",
     "output_type": "stream",
     "text": [
      "The p_value is: 2.1156708949992414e-57 ,Which is less then α, Reject H0, which means Atleast One is Different\n"
     ]
    }
   ],
   "source": [
    "#Getting the using if conditions\n",
    "α = 0.05  # Standard\n",
    "if p_value[1] < α:\n",
    "    print(\"The p_value is:\",p_value[1],\",Which is less then α, Reject H0, which means Atleast One is Different\")\n",
    "else:\n",
    "    print(\"The p_value is:\",p_value[1],\",Which is greater then α, Fail to Reject H0, No Difference\")"
   ]
  },
  {
   "cell_type": "markdown",
   "id": "f8eeb2a3",
   "metadata": {},
   "source": [
    "#### Q3."
   ]
  },
  {
   "cell_type": "markdown",
   "id": "3d8e97e7",
   "metadata": {},
   "source": [
    "Sales of products in four different regions is tabulated for males and females. Find if male-female buyer rations are similar across regions.\n",
    "\n",
    "Dataset --> BuyerRatio.csv"
   ]
  },
  {
   "cell_type": "code",
   "execution_count": 8,
   "id": "15e0b82f",
   "metadata": {
    "scrolled": true
   },
   "outputs": [
    {
     "data": {
      "text/html": [
       "<div>\n",
       "<style scoped>\n",
       "    .dataframe tbody tr th:only-of-type {\n",
       "        vertical-align: middle;\n",
       "    }\n",
       "\n",
       "    .dataframe tbody tr th {\n",
       "        vertical-align: top;\n",
       "    }\n",
       "\n",
       "    .dataframe thead th {\n",
       "        text-align: right;\n",
       "    }\n",
       "</style>\n",
       "<table border=\"1\" class=\"dataframe\">\n",
       "  <thead>\n",
       "    <tr style=\"text-align: right;\">\n",
       "      <th></th>\n",
       "      <th>Observed Values</th>\n",
       "      <th>East</th>\n",
       "      <th>West</th>\n",
       "      <th>North</th>\n",
       "      <th>South</th>\n",
       "    </tr>\n",
       "  </thead>\n",
       "  <tbody>\n",
       "    <tr>\n",
       "      <th>0</th>\n",
       "      <td>Males</td>\n",
       "      <td>50</td>\n",
       "      <td>142</td>\n",
       "      <td>131</td>\n",
       "      <td>70</td>\n",
       "    </tr>\n",
       "    <tr>\n",
       "      <th>1</th>\n",
       "      <td>Females</td>\n",
       "      <td>435</td>\n",
       "      <td>1523</td>\n",
       "      <td>1356</td>\n",
       "      <td>750</td>\n",
       "    </tr>\n",
       "  </tbody>\n",
       "</table>\n",
       "</div>"
      ],
      "text/plain": [
       "  Observed Values  East  West  North  South\n",
       "0           Males    50   142    131     70\n",
       "1         Females   435  1523   1356    750"
      ]
     },
     "execution_count": 8,
     "metadata": {},
     "output_type": "execute_result"
    }
   ],
   "source": [
    "#Loading the Dataset\n",
    "buyer = pd.read_csv(\"C:/Users/Akaash/Downloads/BuyerRatio.csv\")\n",
    "buyer"
   ]
  },
  {
   "cell_type": "markdown",
   "id": "8a495f76",
   "metadata": {},
   "source": [
    "It is Chi Square Test As it need to check the proportion betweem features\n",
    "\n",
    "So Hypothesis is\n",
    "\n",
    "H0:All Proportion are equal \n",
    "\n",
    "H1:Not all Proportion are equal"
   ]
  },
  {
   "cell_type": "code",
   "execution_count": 9,
   "id": "e7a44fd3",
   "metadata": {},
   "outputs": [],
   "source": [
    "#libary for chi square \n",
    "from scipy.stats import chi2_contingency"
   ]
  },
  {
   "cell_type": "code",
   "execution_count": 10,
   "id": "b9bc9bf7",
   "metadata": {},
   "outputs": [
    {
     "data": {
      "text/plain": [
       "array([[  50,  142,   31,   70],\n",
       "       [ 435, 1523, 1356,  750]])"
      ]
     },
     "execution_count": 10,
     "metadata": {},
     "output_type": "execute_result"
    }
   ],
   "source": [
    "#Taking data into array for observed Value\n",
    "Observed_Values = np.array([[50,142,31,70],[435,1523,1356,750]])\n",
    "Observed_Values"
   ]
  },
  {
   "cell_type": "code",
   "execution_count": 11,
   "id": "d61e4b2e",
   "metadata": {},
   "outputs": [
    {
     "data": {
      "text/plain": [
       "(67.43519606413847,\n",
       " 1.5111907470393948e-14,\n",
       " 3,\n",
       " array([[  32.61533165,  111.96809731,   93.27312371,   55.14344733],\n",
       "        [ 452.38466835, 1553.03190269, 1293.72687629,  764.85655267]]))"
      ]
     },
     "execution_count": 11,
     "metadata": {},
     "output_type": "execute_result"
    }
   ],
   "source": [
    "#To get the Expected Value : \n",
    "\n",
    "# Using stats.chi2_contingency(crosstab) : this gives,chi square statistic,p_value & Expected value for observation\n",
    "val=stats.chi2_contingency(Observed_Values)\n",
    "\n",
    "#chi square statistic,p_value & Expected value of Observed_values\n",
    "val"
   ]
  },
  {
   "cell_type": "code",
   "execution_count": 12,
   "id": "1ccb7677",
   "metadata": {},
   "outputs": [
    {
     "data": {
      "text/plain": [
       "array([[  32.61533165,  111.96809731,   93.27312371,   55.14344733],\n",
       "       [ 452.38466835, 1553.03190269, 1293.72687629,  764.85655267]])"
      ]
     },
     "execution_count": 12,
     "metadata": {},
     "output_type": "execute_result"
    }
   ],
   "source": [
    "#Getting Expected Value from 'val' \n",
    "Expected_Values=val[3]\n",
    "Expected_Values"
   ]
  },
  {
   "cell_type": "code",
   "execution_count": 13,
   "id": "957cb665",
   "metadata": {},
   "outputs": [
    {
     "name": "stdout",
     "output_type": "stream",
     "text": [
      "Degree of Freedom: 3\n"
     ]
    }
   ],
   "source": [
    "#Calculating Degree of Freedom\n",
    "no_of_rows=len(buyer.iloc[0:2,0])\n",
    "no_of_columns=len(buyer.iloc[0,0:4])\n",
    "ddof=(no_of_rows-1)*(no_of_columns-1)\n",
    "print(\"Degree of Freedom:\",ddof)\n",
    "alpha = 0.05"
   ]
  },
  {
   "cell_type": "code",
   "execution_count": 14,
   "id": "586143a0",
   "metadata": {},
   "outputs": [],
   "source": [
    "#Calculating chi-square statistic for expected value\n",
    "from scipy.stats import chi2\n",
    "chi_square=sum([(o-e)**2./e for o,e in zip(Observed_Values,Expected_Values)])\n",
    "chi_square_statistic=chi_square[0]+chi_square[1]"
   ]
  },
  {
   "cell_type": "code",
   "execution_count": 15,
   "id": "f8998301",
   "metadata": {},
   "outputs": [
    {
     "name": "stdout",
     "output_type": "stream",
     "text": [
      "chi-square statistic:- 18.570327437743096\n"
     ]
    }
   ],
   "source": [
    "#Printing value\n",
    "print(\"chi-square statistic:-\",chi_square_statistic)"
   ]
  },
  {
   "cell_type": "code",
   "execution_count": 16,
   "id": "857c8304",
   "metadata": {},
   "outputs": [
    {
     "name": "stdout",
     "output_type": "stream",
     "text": [
      "critical_value: 7.814727903251179\n"
     ]
    }
   ],
   "source": [
    "#calculating critical value\n",
    "critical_value=chi2.ppf(q=1-alpha,df=ddof)\n",
    "print('critical_value:',critical_value)"
   ]
  },
  {
   "cell_type": "code",
   "execution_count": 17,
   "id": "28a77667",
   "metadata": {},
   "outputs": [
    {
     "name": "stdout",
     "output_type": "stream",
     "text": [
      "p-value: 0.00033542182749746186\n",
      "Significance level:  0.05\n",
      "Degree of Freedom:  3\n"
     ]
    }
   ],
   "source": [
    "#p-value\n",
    "p_value=1-chi2.cdf(x=chi_square_statistic,df=ddof)\n",
    "print('p-value:',p_value)\n",
    "print('Significance level: ',alpha)\n",
    "print('Degree of Freedom: ',ddof)"
   ]
  },
  {
   "cell_type": "code",
   "execution_count": 18,
   "id": "7c423716",
   "metadata": {},
   "outputs": [
    {
     "name": "stdout",
     "output_type": "stream",
     "text": [
      "Reject H0,Not All Proportions are Equal\n",
      "Reject H0,Not All Proportions are Equal\n"
     ]
    }
   ],
   "source": [
    "if chi_square_statistic>=critical_value:\n",
    "    print(\"Reject H0,Not All Proportions are Equal\")\n",
    "else:\n",
    "    print(\"Fail to Reject H0,All Proportions are Equal\")\n",
    "    \n",
    "if p_value<=alpha:\n",
    "    print(\"Reject H0,Not All Proportions are Equal\")\n",
    "else:\n",
    "    print(\"Fail to Reject H0,All Proportions are Equal\")"
   ]
  },
  {
   "cell_type": "markdown",
   "id": "a03f3f35",
   "metadata": {},
   "source": [
    "#### Q4."
   ]
  },
  {
   "cell_type": "markdown",
   "id": "253c9649",
   "metadata": {},
   "source": [
    "TeleCall uses 4 centers around the globe to process customer order forms. They audit a certain %  of the customer order forms. Any error in order form renders it defective and has to be reworked before processing.  The manager wants to check whether the defective %  varies by centre. Please analyze the data at 5% significance level and help the manager draw appropriate inferences\n",
    "\n",
    "Dataset-->CustomerOrderForm.csv"
   ]
  },
  {
   "cell_type": "code",
   "execution_count": 19,
   "id": "41fbeebd",
   "metadata": {},
   "outputs": [
    {
     "data": {
      "text/html": [
       "<div>\n",
       "<style scoped>\n",
       "    .dataframe tbody tr th:only-of-type {\n",
       "        vertical-align: middle;\n",
       "    }\n",
       "\n",
       "    .dataframe tbody tr th {\n",
       "        vertical-align: top;\n",
       "    }\n",
       "\n",
       "    .dataframe thead th {\n",
       "        text-align: right;\n",
       "    }\n",
       "</style>\n",
       "<table border=\"1\" class=\"dataframe\">\n",
       "  <thead>\n",
       "    <tr style=\"text-align: right;\">\n",
       "      <th></th>\n",
       "      <th>Phillippines</th>\n",
       "      <th>Indonesia</th>\n",
       "      <th>Malta</th>\n",
       "      <th>India</th>\n",
       "    </tr>\n",
       "  </thead>\n",
       "  <tbody>\n",
       "    <tr>\n",
       "      <th>0</th>\n",
       "      <td>Error Free</td>\n",
       "      <td>Error Free</td>\n",
       "      <td>Defective</td>\n",
       "      <td>Error Free</td>\n",
       "    </tr>\n",
       "    <tr>\n",
       "      <th>1</th>\n",
       "      <td>Error Free</td>\n",
       "      <td>Error Free</td>\n",
       "      <td>Error Free</td>\n",
       "      <td>Defective</td>\n",
       "    </tr>\n",
       "    <tr>\n",
       "      <th>2</th>\n",
       "      <td>Error Free</td>\n",
       "      <td>Defective</td>\n",
       "      <td>Defective</td>\n",
       "      <td>Error Free</td>\n",
       "    </tr>\n",
       "  </tbody>\n",
       "</table>\n",
       "</div>"
      ],
      "text/plain": [
       "  Phillippines   Indonesia       Malta       India\n",
       "0   Error Free  Error Free   Defective  Error Free\n",
       "1   Error Free  Error Free  Error Free   Defective\n",
       "2   Error Free   Defective   Defective  Error Free"
      ]
     },
     "execution_count": 19,
     "metadata": {},
     "output_type": "execute_result"
    }
   ],
   "source": [
    "#Loading the Dataset\n",
    "Cus = pd.read_csv(\"C:/Users/Akaash/Downloads/CustomerOrderForm.csv\")\n",
    "Cus.head(3)"
   ]
  },
  {
   "cell_type": "markdown",
   "id": "7642adac",
   "metadata": {},
   "source": [
    "It is Chi Square Test As it all the data in the dataset is Categorical\n",
    "\n",
    "So Hypothesis is\n",
    "\n",
    "H0:Defective Varies By Centre \n",
    "\n",
    "H1:Defective Not Varies By Centre"
   ]
  },
  {
   "cell_type": "code",
   "execution_count": 20,
   "id": "0ce13d5f",
   "metadata": {},
   "outputs": [
    {
     "data": {
      "text/plain": [
       "Error Free    271\n",
       "Defective      29\n",
       "Name: Phillippines, dtype: int64"
      ]
     },
     "execution_count": 20,
     "metadata": {},
     "output_type": "execute_result"
    }
   ],
   "source": [
    "Cus.Phillippines.value_counts()"
   ]
  },
  {
   "cell_type": "code",
   "execution_count": 21,
   "id": "444477bb",
   "metadata": {},
   "outputs": [
    {
     "data": {
      "text/plain": [
       "Error Free    267\n",
       "Defective      33\n",
       "Name: Indonesia, dtype: int64"
      ]
     },
     "execution_count": 21,
     "metadata": {},
     "output_type": "execute_result"
    }
   ],
   "source": [
    "Cus.Indonesia.value_counts()"
   ]
  },
  {
   "cell_type": "code",
   "execution_count": 22,
   "id": "9837af81",
   "metadata": {},
   "outputs": [
    {
     "data": {
      "text/plain": [
       "Error Free    269\n",
       "Defective      31\n",
       "Name: Malta, dtype: int64"
      ]
     },
     "execution_count": 22,
     "metadata": {},
     "output_type": "execute_result"
    }
   ],
   "source": [
    "Cus.Malta.value_counts()"
   ]
  },
  {
   "cell_type": "code",
   "execution_count": 23,
   "id": "44ab1686",
   "metadata": {},
   "outputs": [
    {
     "data": {
      "text/plain": [
       "Error Free    280\n",
       "Defective      20\n",
       "Name: India, dtype: int64"
      ]
     },
     "execution_count": 23,
     "metadata": {},
     "output_type": "execute_result"
    }
   ],
   "source": [
    "Cus.India.value_counts()"
   ]
  },
  {
   "cell_type": "code",
   "execution_count": 24,
   "id": "0539ce20",
   "metadata": {
    "scrolled": true
   },
   "outputs": [
    {
     "data": {
      "text/plain": [
       "array([[271, 267, 269, 280],\n",
       "       [ 29,  33,  31,  20]])"
      ]
     },
     "execution_count": 24,
     "metadata": {},
     "output_type": "execute_result"
    }
   ],
   "source": [
    "#Taking data into array for observed Value\n",
    "Observed_Values = np.array([[271,267,269,280],[29,33,31,20]])\n",
    "Observed_Values"
   ]
  },
  {
   "cell_type": "code",
   "execution_count": 25,
   "id": "d3c7e7d8",
   "metadata": {
    "scrolled": true
   },
   "outputs": [
    {
     "data": {
      "text/plain": [
       "(3.858960685820355,\n",
       " 0.2771020991233135,\n",
       " 3,\n",
       " array([[271.75, 271.75, 271.75, 271.75],\n",
       "        [ 28.25,  28.25,  28.25,  28.25]]))"
      ]
     },
     "execution_count": 25,
     "metadata": {},
     "output_type": "execute_result"
    }
   ],
   "source": [
    "#To get the Expected Value : \n",
    "\n",
    "# Using stats.chi2_contingency(crosstab) : this gives,chi square statistic,p_value & Expected value for observation\n",
    "val=stats.chi2_contingency(Observed_Values)\n",
    "\n",
    "#chi square statistic,p_value & Expected value of Observed_values\n",
    "val"
   ]
  },
  {
   "cell_type": "code",
   "execution_count": 26,
   "id": "1ab50e90",
   "metadata": {
    "scrolled": true
   },
   "outputs": [
    {
     "data": {
      "text/plain": [
       "array([[271.75, 271.75, 271.75, 271.75],\n",
       "       [ 28.25,  28.25,  28.25,  28.25]])"
      ]
     },
     "execution_count": 26,
     "metadata": {},
     "output_type": "execute_result"
    }
   ],
   "source": [
    "#Getting Expected Value from 'val' \n",
    "Expected_Values=val[3]\n",
    "Expected_Values"
   ]
  },
  {
   "cell_type": "code",
   "execution_count": 27,
   "id": "0ed04195",
   "metadata": {},
   "outputs": [
    {
     "name": "stdout",
     "output_type": "stream",
     "text": [
      "Degree of Freedom: 3\n"
     ]
    }
   ],
   "source": [
    "#Calculating Degree of Freedom\n",
    "no_of_rows=len(buyer.iloc[0:2,0])\n",
    "no_of_columns=len(buyer.iloc[0,0:4])\n",
    "ddof=(no_of_rows-1)*(no_of_columns-1)\n",
    "print(\"Degree of Freedom:\",ddof)\n",
    "alpha = 0.05"
   ]
  },
  {
   "cell_type": "code",
   "execution_count": 28,
   "id": "2a4125d7",
   "metadata": {},
   "outputs": [],
   "source": [
    "#Calculating chi-square statistic for expected value\n",
    "from scipy.stats import chi2\n",
    "chi_square=sum([(o-e)**2./e for o,e in zip(Observed_Values,Expected_Values)])\n",
    "chi_square_statistic=chi_square[0]+chi_square[1]"
   ]
  },
  {
   "cell_type": "code",
   "execution_count": 29,
   "id": "190e5f28",
   "metadata": {},
   "outputs": [
    {
     "name": "stdout",
     "output_type": "stream",
     "text": [
      "chi-square statistic:- 0.9036806669326146\n"
     ]
    }
   ],
   "source": [
    "#Printing value\n",
    "print(\"chi-square statistic:-\",chi_square_statistic)"
   ]
  },
  {
   "cell_type": "code",
   "execution_count": 30,
   "id": "1ae8b302",
   "metadata": {},
   "outputs": [
    {
     "name": "stdout",
     "output_type": "stream",
     "text": [
      "critical_value: 7.814727903251179\n"
     ]
    }
   ],
   "source": [
    "#calculating critical value\n",
    "critical_value=chi2.ppf(q=1-alpha,df=ddof)\n",
    "print('critical_value:',critical_value)"
   ]
  },
  {
   "cell_type": "code",
   "execution_count": 31,
   "id": "51914a4c",
   "metadata": {},
   "outputs": [
    {
     "name": "stdout",
     "output_type": "stream",
     "text": [
      "p-value: 0.8245394896914965\n",
      "Significance level:  0.05\n",
      "Degree of Freedom:  3\n"
     ]
    }
   ],
   "source": [
    "#p-value\n",
    "p_value=1-chi2.cdf(x=chi_square_statistic,df=ddof)\n",
    "print('p-value:',p_value)\n",
    "print('Significance level: ',alpha)\n",
    "print('Degree of Freedom: ',ddof)"
   ]
  },
  {
   "cell_type": "code",
   "execution_count": 32,
   "id": "a02e9f23",
   "metadata": {},
   "outputs": [
    {
     "name": "stdout",
     "output_type": "stream",
     "text": [
      "Fail to Reject H0, Defective Varies By Centre\n",
      "Fail to Reject H0, Defective Varies By Centre\n"
     ]
    }
   ],
   "source": [
    "if chi_square_statistic>=critical_value:\n",
    "    print(\"Reject H0, Defective Not Varies By Centre\")\n",
    "else:\n",
    "    print(\"Fail to Reject H0, Defective Varies By Centre\")\n",
    "    \n",
    "if p_value<=alpha:\n",
    "    print(\"Reject H0, Defective Not Varies By Centre\")\n",
    "else:\n",
    "    print(\"Fail to Reject H0, Defective Varies By Centre\")"
   ]
  },
  {
   "cell_type": "code",
   "execution_count": null,
   "id": "cf3cec29",
   "metadata": {},
   "outputs": [],
   "source": []
  }
 ],
 "metadata": {
  "kernelspec": {
   "display_name": "Python 3",
   "language": "python",
   "name": "python3"
  },
  "language_info": {
   "codemirror_mode": {
    "name": "ipython",
    "version": 3
   },
   "file_extension": ".py",
   "mimetype": "text/x-python",
   "name": "python",
   "nbconvert_exporter": "python",
   "pygments_lexer": "ipython3",
   "version": "3.8.8"
  }
 },
 "nbformat": 4,
 "nbformat_minor": 5
}
