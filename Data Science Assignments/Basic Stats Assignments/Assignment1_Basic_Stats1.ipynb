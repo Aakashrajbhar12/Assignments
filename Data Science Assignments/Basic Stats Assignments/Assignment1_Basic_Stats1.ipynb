{
 "cells": [
  {
   "cell_type": "markdown",
   "id": "ded80d62",
   "metadata": {},
   "source": [
    "### Assignment_1 - Basis Statistics_Level 1"
   ]
  },
  {
   "cell_type": "code",
   "execution_count": 1,
   "id": "7b79a752",
   "metadata": {},
   "outputs": [],
   "source": [
    "#Importing the Required Libaries\n",
    "import pandas as pd\n",
    "import numpy as np\n",
    "from scipy import stats\n",
    "import matplotlib.pyplot as plt\n",
    "import seaborn as sns\n",
    "%matplotlib inline\n",
    "\n",
    "import warnings\n",
    "warnings.filterwarnings(\"ignore\")  #--to ignore warnings"
   ]
  },
  {
   "cell_type": "code",
   "execution_count": 2,
   "id": "e3b95c2d",
   "metadata": {
    "scrolled": true
   },
   "outputs": [
    {
     "data": {
      "text/html": [
       "<div>\n",
       "<style scoped>\n",
       "    .dataframe tbody tr th:only-of-type {\n",
       "        vertical-align: middle;\n",
       "    }\n",
       "\n",
       "    .dataframe tbody tr th {\n",
       "        vertical-align: top;\n",
       "    }\n",
       "\n",
       "    .dataframe thead th {\n",
       "        text-align: right;\n",
       "    }\n",
       "</style>\n",
       "<table border=\"1\" class=\"dataframe\">\n",
       "  <thead>\n",
       "    <tr style=\"text-align: right;\">\n",
       "      <th></th>\n",
       "      <th>Unnamed: 0</th>\n",
       "      <th>Points</th>\n",
       "      <th>Score</th>\n",
       "      <th>Weigh</th>\n",
       "    </tr>\n",
       "  </thead>\n",
       "  <tbody>\n",
       "    <tr>\n",
       "      <th>0</th>\n",
       "      <td>Mazda RX4</td>\n",
       "      <td>3.90</td>\n",
       "      <td>2.620</td>\n",
       "      <td>16.46</td>\n",
       "    </tr>\n",
       "    <tr>\n",
       "      <th>1</th>\n",
       "      <td>Mazda RX4 Wag</td>\n",
       "      <td>3.90</td>\n",
       "      <td>2.875</td>\n",
       "      <td>17.02</td>\n",
       "    </tr>\n",
       "    <tr>\n",
       "      <th>2</th>\n",
       "      <td>Datsun 710</td>\n",
       "      <td>3.85</td>\n",
       "      <td>2.320</td>\n",
       "      <td>18.61</td>\n",
       "    </tr>\n",
       "    <tr>\n",
       "      <th>3</th>\n",
       "      <td>Hornet 4 Drive</td>\n",
       "      <td>3.08</td>\n",
       "      <td>3.215</td>\n",
       "      <td>19.44</td>\n",
       "    </tr>\n",
       "    <tr>\n",
       "      <th>4</th>\n",
       "      <td>Hornet Sportabout</td>\n",
       "      <td>3.15</td>\n",
       "      <td>3.440</td>\n",
       "      <td>17.02</td>\n",
       "    </tr>\n",
       "  </tbody>\n",
       "</table>\n",
       "</div>"
      ],
      "text/plain": [
       "          Unnamed: 0  Points  Score  Weigh\n",
       "0          Mazda RX4    3.90  2.620  16.46\n",
       "1      Mazda RX4 Wag    3.90  2.875  17.02\n",
       "2         Datsun 710    3.85  2.320  18.61\n",
       "3     Hornet 4 Drive    3.08  3.215  19.44\n",
       "4  Hornet Sportabout    3.15  3.440  17.02"
      ]
     },
     "execution_count": 2,
     "metadata": {},
     "output_type": "execute_result"
    }
   ],
   "source": [
    "#Loading Files for Qtn 7\n",
    "Q7 = pd.read_csv(\"C:/Users/Akaash/Downloads/Q7.csv\")     #(Filename: Q7.csv)\n",
    "Q7.head()"
   ]
  },
  {
   "cell_type": "code",
   "execution_count": 3,
   "id": "a74bf885",
   "metadata": {},
   "outputs": [
    {
     "data": {
      "text/html": [
       "<div>\n",
       "<style scoped>\n",
       "    .dataframe tbody tr th:only-of-type {\n",
       "        vertical-align: middle;\n",
       "    }\n",
       "\n",
       "    .dataframe tbody tr th {\n",
       "        vertical-align: top;\n",
       "    }\n",
       "\n",
       "    .dataframe thead th {\n",
       "        text-align: right;\n",
       "    }\n",
       "</style>\n",
       "<table border=\"1\" class=\"dataframe\">\n",
       "  <thead>\n",
       "    <tr style=\"text-align: right;\">\n",
       "      <th></th>\n",
       "      <th>Points</th>\n",
       "      <th>Score</th>\n",
       "      <th>Weigh</th>\n",
       "    </tr>\n",
       "  </thead>\n",
       "  <tbody>\n",
       "    <tr>\n",
       "      <th>count</th>\n",
       "      <td>32.000000</td>\n",
       "      <td>32.000000</td>\n",
       "      <td>32.000000</td>\n",
       "    </tr>\n",
       "    <tr>\n",
       "      <th>mean</th>\n",
       "      <td>3.596563</td>\n",
       "      <td>3.217250</td>\n",
       "      <td>17.848750</td>\n",
       "    </tr>\n",
       "    <tr>\n",
       "      <th>std</th>\n",
       "      <td>0.534679</td>\n",
       "      <td>0.978457</td>\n",
       "      <td>1.786943</td>\n",
       "    </tr>\n",
       "    <tr>\n",
       "      <th>min</th>\n",
       "      <td>2.760000</td>\n",
       "      <td>1.513000</td>\n",
       "      <td>14.500000</td>\n",
       "    </tr>\n",
       "    <tr>\n",
       "      <th>25%</th>\n",
       "      <td>3.080000</td>\n",
       "      <td>2.581250</td>\n",
       "      <td>16.892500</td>\n",
       "    </tr>\n",
       "    <tr>\n",
       "      <th>50%</th>\n",
       "      <td>3.695000</td>\n",
       "      <td>3.325000</td>\n",
       "      <td>17.710000</td>\n",
       "    </tr>\n",
       "    <tr>\n",
       "      <th>75%</th>\n",
       "      <td>3.920000</td>\n",
       "      <td>3.610000</td>\n",
       "      <td>18.900000</td>\n",
       "    </tr>\n",
       "    <tr>\n",
       "      <th>max</th>\n",
       "      <td>4.930000</td>\n",
       "      <td>5.424000</td>\n",
       "      <td>22.900000</td>\n",
       "    </tr>\n",
       "  </tbody>\n",
       "</table>\n",
       "</div>"
      ],
      "text/plain": [
       "          Points      Score      Weigh\n",
       "count  32.000000  32.000000  32.000000\n",
       "mean    3.596563   3.217250  17.848750\n",
       "std     0.534679   0.978457   1.786943\n",
       "min     2.760000   1.513000  14.500000\n",
       "25%     3.080000   2.581250  16.892500\n",
       "50%     3.695000   3.325000  17.710000\n",
       "75%     3.920000   3.610000  18.900000\n",
       "max     4.930000   5.424000  22.900000"
      ]
     },
     "execution_count": 3,
     "metadata": {},
     "output_type": "execute_result"
    }
   ],
   "source": [
    "#To get Basic Stats for Q7\n",
    "Q7.describe()"
   ]
  },
  {
   "cell_type": "code",
   "execution_count": 4,
   "id": "84773af8",
   "metadata": {
    "scrolled": true
   },
   "outputs": [
    {
     "name": "stdout",
     "output_type": "stream",
     "text": [
      "Points Mode is: 0    3.07\n",
      "1    3.92\n",
      "dtype: float64\n",
      "Score Mode is: 0    3.44\n",
      "dtype: float64\n",
      "Weigh Mode is: 0    17.02\n",
      "1    18.90\n",
      "dtype: float64\n"
     ]
    }
   ],
   "source": [
    "#Calculating Mode for Q7\n",
    "PointsM = Q7.Points.mode()\n",
    "ScoreM = Q7.Score.mode()\n",
    "WeighM = Q7.Weigh.mode()\n",
    "\n",
    "print(\"Points Mode is:\",PointsM)\n",
    "print(\"Score Mode is:\",ScoreM)\n",
    "print(\"Weigh Mode is:\",WeighM)"
   ]
  },
  {
   "cell_type": "code",
   "execution_count": 5,
   "id": "6321bbea",
   "metadata": {},
   "outputs": [
    {
     "name": "stdout",
     "output_type": "stream",
     "text": [
      "Points Variance is: 0.28588135080645166\n",
      "Score Variance is: 0.9573789677419356\n",
      "Weigh Variance is: 3.193166129032258\n"
     ]
    }
   ],
   "source": [
    "#Calculating Variance For Q7\n",
    "PointsV = Q7.Points.var()\n",
    "ScoreV = Q7.Score.var()\n",
    "WeighV = Q7.Weigh.var()\n",
    "\n",
    "print(\"Points Variance is:\",PointsV)\n",
    "print(\"Score Variance is:\",ScoreV)\n",
    "print(\"Weigh Variance is:\",WeighV)"
   ]
  },
  {
   "cell_type": "code",
   "execution_count": 6,
   "id": "d9d0bf71",
   "metadata": {
    "scrolled": true
   },
   "outputs": [
    {
     "name": "stdout",
     "output_type": "stream",
     "text": [
      "Points Range is: 2.17\n",
      "Score Range is: 3.9110000000000005\n",
      "Weigh Range is: 8.399999999999999\n"
     ]
    }
   ],
   "source": [
    "#Calculating Range For Q7\n",
    "PointsR = Q7.Points.max() - Q7.Points.min() \n",
    "ScoreR = Q7.Score.max() - Q7.Score.min() \n",
    "WeighR = Q7.Weigh.max() - Q7.Weigh.min() \n",
    "\n",
    "print(\"Points Range is:\",PointsR)\n",
    "print(\"Score Range is:\",ScoreR)\n",
    "print(\"Weigh Range is:\",WeighR)"
   ]
  },
  {
   "cell_type": "code",
   "execution_count": 7,
   "id": "8263968b",
   "metadata": {
    "scrolled": true
   },
   "outputs": [
    {
     "data": {
      "text/html": [
       "<div>\n",
       "<style scoped>\n",
       "    .dataframe tbody tr th:only-of-type {\n",
       "        vertical-align: middle;\n",
       "    }\n",
       "\n",
       "    .dataframe tbody tr th {\n",
       "        vertical-align: top;\n",
       "    }\n",
       "\n",
       "    .dataframe thead th {\n",
       "        text-align: right;\n",
       "    }\n",
       "</style>\n",
       "<table border=\"1\" class=\"dataframe\">\n",
       "  <thead>\n",
       "    <tr style=\"text-align: right;\">\n",
       "      <th></th>\n",
       "      <th>Index</th>\n",
       "      <th>speed</th>\n",
       "      <th>dist</th>\n",
       "    </tr>\n",
       "  </thead>\n",
       "  <tbody>\n",
       "    <tr>\n",
       "      <th>0</th>\n",
       "      <td>1</td>\n",
       "      <td>4</td>\n",
       "      <td>2</td>\n",
       "    </tr>\n",
       "    <tr>\n",
       "      <th>1</th>\n",
       "      <td>2</td>\n",
       "      <td>4</td>\n",
       "      <td>10</td>\n",
       "    </tr>\n",
       "    <tr>\n",
       "      <th>2</th>\n",
       "      <td>3</td>\n",
       "      <td>7</td>\n",
       "      <td>4</td>\n",
       "    </tr>\n",
       "    <tr>\n",
       "      <th>3</th>\n",
       "      <td>4</td>\n",
       "      <td>7</td>\n",
       "      <td>22</td>\n",
       "    </tr>\n",
       "    <tr>\n",
       "      <th>4</th>\n",
       "      <td>5</td>\n",
       "      <td>8</td>\n",
       "      <td>16</td>\n",
       "    </tr>\n",
       "  </tbody>\n",
       "</table>\n",
       "</div>"
      ],
      "text/plain": [
       "   Index  speed  dist\n",
       "0      1      4     2\n",
       "1      2      4    10\n",
       "2      3      7     4\n",
       "3      4      7    22\n",
       "4      5      8    16"
      ]
     },
     "execution_count": 7,
     "metadata": {},
     "output_type": "execute_result"
    }
   ],
   "source": [
    "#Loading Files for Qtn 9a\n",
    "Q9_a= pd.read_csv(\"C:/Users/Akaash/Downloads/Q9_a.csv\")     #(Filename: Q9_a.csv)\n",
    "Q9_a.head()"
   ]
  },
  {
   "cell_type": "code",
   "execution_count": 8,
   "id": "70684c83",
   "metadata": {},
   "outputs": [
    {
     "name": "stdout",
     "output_type": "stream",
     "text": [
      "The Skewness is: Index    0.000000\n",
      "speed   -0.117510\n",
      "dist     0.806895\n",
      "dtype: float64\n",
      "The Kurtosis is: Index   -1.200000\n",
      "speed   -0.508994\n",
      "dist     0.405053\n",
      "dtype: float64\n"
     ]
    }
   ],
   "source": [
    "#Calculating Skewness & Kurtosis For Q9_a.csv\n",
    "Q9aSkew = Q9_a.skew()\n",
    "Q9akurt = Q9_a.kurt()\n",
    "\n",
    "print(\"The Skewness is:\",Q9aSkew)\n",
    "print(\"The Kurtosis is:\",Q9akurt)"
   ]
  },
  {
   "cell_type": "code",
   "execution_count": 9,
   "id": "df3d15b1",
   "metadata": {
    "scrolled": true
   },
   "outputs": [
    {
     "data": {
      "text/plain": [
       "<AxesSubplot:xlabel='speed', ylabel='dist'>"
      ]
     },
     "execution_count": 9,
     "metadata": {},
     "output_type": "execute_result"
    },
    {
     "data": {
      "image/png": "[encoded data removed]",
      "text/plain": [
       "<Figure size 432x288 with 1 Axes>"
      ]
     },
     "metadata": {
      "needs_background": "light"
     },
     "output_type": "display_data"
    }
   ],
   "source": [
    "#Drawing inferences on Q9_a.Csv datasets\n",
    "\n",
    "sns.scatterplot(x='speed', y='dist', data=Q9_a)\n",
    "\n",
    "#Inferences:\n",
    "          # Through scatterplot Relationship between Speed And Dist can be seen, As Dist increases Speed of car increases \n",
    "          # Car is mostly driven with 15-20 speed and around 40-80Km \n",
    "          # These Two variable can be called as positively correlated."
   ]
  },
  {
   "cell_type": "code",
   "execution_count": 10,
   "id": "f2eb0b69",
   "metadata": {},
   "outputs": [
    {
     "data": {
      "text/html": [
       "<div>\n",
       "<style scoped>\n",
       "    .dataframe tbody tr th:only-of-type {\n",
       "        vertical-align: middle;\n",
       "    }\n",
       "\n",
       "    .dataframe tbody tr th {\n",
       "        vertical-align: top;\n",
       "    }\n",
       "\n",
       "    .dataframe thead th {\n",
       "        text-align: right;\n",
       "    }\n",
       "</style>\n",
       "<table border=\"1\" class=\"dataframe\">\n",
       "  <thead>\n",
       "    <tr style=\"text-align: right;\">\n",
       "      <th></th>\n",
       "      <th>Unnamed: 0</th>\n",
       "      <th>SP</th>\n",
       "      <th>WT</th>\n",
       "    </tr>\n",
       "  </thead>\n",
       "  <tbody>\n",
       "    <tr>\n",
       "      <th>0</th>\n",
       "      <td>1</td>\n",
       "      <td>104.185353</td>\n",
       "      <td>28.762059</td>\n",
       "    </tr>\n",
       "    <tr>\n",
       "      <th>1</th>\n",
       "      <td>2</td>\n",
       "      <td>105.461264</td>\n",
       "      <td>30.466833</td>\n",
       "    </tr>\n",
       "    <tr>\n",
       "      <th>2</th>\n",
       "      <td>3</td>\n",
       "      <td>105.461264</td>\n",
       "      <td>30.193597</td>\n",
       "    </tr>\n",
       "    <tr>\n",
       "      <th>3</th>\n",
       "      <td>4</td>\n",
       "      <td>113.461264</td>\n",
       "      <td>30.632114</td>\n",
       "    </tr>\n",
       "    <tr>\n",
       "      <th>4</th>\n",
       "      <td>5</td>\n",
       "      <td>104.461264</td>\n",
       "      <td>29.889149</td>\n",
       "    </tr>\n",
       "  </tbody>\n",
       "</table>\n",
       "</div>"
      ],
      "text/plain": [
       "   Unnamed: 0          SP         WT\n",
       "0           1  104.185353  28.762059\n",
       "1           2  105.461264  30.466833\n",
       "2           3  105.461264  30.193597\n",
       "3           4  113.461264  30.632114\n",
       "4           5  104.461264  29.889149"
      ]
     },
     "execution_count": 10,
     "metadata": {},
     "output_type": "execute_result"
    }
   ],
   "source": [
    "#Loading Files for Qtn 9b\n",
    "Q9_b= pd.read_csv(\"C:/Users/Akaash/Downloads/Q9_b.csv\")     #(Filename: Q9_b.csv)\n",
    "Q9_b.head()"
   ]
  },
  {
   "cell_type": "code",
   "execution_count": 11,
   "id": "e5ba3a83",
   "metadata": {},
   "outputs": [
    {
     "name": "stdout",
     "output_type": "stream",
     "text": [
      "The Skewness is: Unnamed: 0    0.000000\n",
      "SP            1.611450\n",
      "WT           -0.614753\n",
      "dtype: float64\n",
      "The Kurtosis is: Unnamed: 0   -1.200000\n",
      "SP            2.977329\n",
      "WT            0.950291\n",
      "dtype: float64\n"
     ]
    }
   ],
   "source": [
    "#Calculating Skewness & Kurtosis For Q9_a.csv\n",
    "Q9bSkew = Q9_b.skew()\n",
    "Q9bkurt = Q9_b.kurt()\n",
    "\n",
    "print(\"The Skewness is:\",Q9bSkew)\n",
    "print(\"The Kurtosis is:\",Q9bkurt)"
   ]
  },
  {
   "cell_type": "code",
   "execution_count": 12,
   "id": "f10e2351",
   "metadata": {},
   "outputs": [
    {
     "data": {
      "text/plain": [
       "<AxesSubplot:xlabel='WT', ylabel='SP'>"
      ]
     },
     "execution_count": 12,
     "metadata": {},
     "output_type": "execute_result"
    },
    {
     "data": {
      "image/png": "[encoded data removed]",
      "text/plain": [
       "<Figure size 432x288 with 1 Axes>"
      ]
     },
     "metadata": {
      "needs_background": "light"
     },
     "output_type": "display_data"
    }
   ],
   "source": [
    "#Drawing inferences on Q9_b.Csv datasets\n",
    "sns.scatterplot(x=\"WT\", y=\"SP\", data=Q9_b)\n",
    "\n",
    "#inferences:\n",
    "          #Through Scatter plot it can be seen there are some outliers in this dataset\n",
    "          #Most of the data point is around 30-40 WTs which SP ranging from 110-130"
   ]
  },
  {
   "cell_type": "code",
   "execution_count": 13,
   "id": "873730f0",
   "metadata": {},
   "outputs": [],
   "source": [
    "# Q11.To Calculate Confidence interval for 94%\n",
    "\n",
    "#Given Data from Qtn11\n",
    "x_bar = 200  #mean of population\n",
    "s = 30       #SD of population\n",
    "n = 2000     #No of sample"
   ]
  },
  {
   "cell_type": "code",
   "execution_count": 14,
   "id": "cc1c23e7",
   "metadata": {},
   "outputs": [
    {
     "name": "stdout",
     "output_type": "stream",
     "text": [
      "t_value94 is 1.8818614764780113\n",
      "Confidence interval at 94% is: [198.7376089443071, 201.2623910556929]\n"
     ]
    }
   ],
   "source": [
    "# Q11.Confidence interval for 94%\n",
    "t94 = stats.t.ppf(.97,1999)        #t at 94%, df=n-1 =2000-1=1999\n",
    "print(\"t_value94 is\",t94)\n",
    "LL94 = x_bar - t94 *(s/np.sqrt(n)) #Lower limit at 94%\n",
    "UL94 = x_bar + t94 *(s/np.sqrt(n)) #Upper limit at 94%\n",
    "\n",
    "CI94 = [LL94, UL94]\n",
    "print(\"Confidence interval at 94% is:\",CI94)"
   ]
  },
  {
   "cell_type": "code",
   "execution_count": 15,
   "id": "4c473d59",
   "metadata": {},
   "outputs": [
    {
     "name": "stdout",
     "output_type": "stream",
     "text": [
      "t_value98 is 2.328214776106972\n",
      "Confidence interval at 98% is: [198.4381860483216, 201.5618139516784]\n"
     ]
    }
   ],
   "source": [
    "# Q11.Confidence interval for 98%\n",
    "t98 = stats.t.ppf(.99,1999)        #t at 98%, df=n-1 =2000-1=1999\n",
    "print(\"t_value98 is\",t98)\n",
    "LL98 = x_bar - t98 *(s/np.sqrt(n)) #Lower limit at 98%\n",
    "UL98 = x_bar + t98 *(s/np.sqrt(n)) #Upper limit at 98%\n",
    "\n",
    "CI98 = [LL98, UL98]\n",
    "print(\"Confidence interval at 98% is:\",CI98)"
   ]
  },
  {
   "cell_type": "code",
   "execution_count": 16,
   "id": "f6014df8",
   "metadata": {},
   "outputs": [
    {
     "name": "stdout",
     "output_type": "stream",
     "text": [
      "t_value96 is 2.055089962825778\n",
      "Confidence interval at 96% is: [198.6214037429732, 201.3785962570268]\n"
     ]
    }
   ],
   "source": [
    "# Q11.Confidence interval for 96%\n",
    "t96 = stats.t.ppf(.98,1999)        #Z at 96%, df=n-1 =2000-1=1999\n",
    "print(\"t_value96 is\",t96)\n",
    "LL96 = x_bar - t96 * s/np.sqrt(n) #Lower limit at 96%\n",
    "UL96 = x_bar + t96 * s/np.sqrt(n) #Upper limit at 96%\n",
    "\n",
    "CI96 = [LL96, UL96]\n",
    "print(\"Confidence interval at 96% is:\",CI96)"
   ]
  },
  {
   "cell_type": "code",
   "execution_count": 17,
   "id": "84776bf4",
   "metadata": {
    "scrolled": true
   },
   "outputs": [
    {
     "data": {
      "text/plain": [
       "count    18.000000\n",
       "mean     41.000000\n",
       "std       5.052664\n",
       "min      34.000000\n",
       "25%      38.250000\n",
       "50%      40.500000\n",
       "75%      41.750000\n",
       "max      56.000000\n",
       "dtype: float64"
      ]
     },
     "execution_count": 17,
     "metadata": {},
     "output_type": "execute_result"
    }
   ],
   "source": [
    "#Qtn12.Below are the scores obtained by a student in tests, Find Mean,median,mode,SD,var.\n",
    "marks = pd.Series([34,36,36,38,38,39,39,40,40,41,41,41,41,42,42,45,49,56])\n",
    "marks.describe()"
   ]
  },
  {
   "cell_type": "code",
   "execution_count": 18,
   "id": "009e6448",
   "metadata": {},
   "outputs": [
    {
     "name": "stdout",
     "output_type": "stream",
     "text": [
      "Mode is 0    41\n",
      "dtype: int64\n",
      "Variance is 25.529411764705884\n"
     ]
    }
   ],
   "source": [
    "#To get Mode & variance for Qtn12\n",
    "marksM = marks.mode()\n",
    "marksv = marks.var()\n",
    "print(\"Mode is\",marksM)\n",
    "print(\"Variance is\",marksv)"
   ]
  },
  {
   "cell_type": "code",
   "execution_count": 19,
   "id": "6760235c",
   "metadata": {
    "scrolled": false
   },
   "outputs": [
    {
     "data": {
      "text/html": [
       "<div>\n",
       "<style scoped>\n",
       "    .dataframe tbody tr th:only-of-type {\n",
       "        vertical-align: middle;\n",
       "    }\n",
       "\n",
       "    .dataframe tbody tr th {\n",
       "        vertical-align: top;\n",
       "    }\n",
       "\n",
       "    .dataframe thead th {\n",
       "        text-align: right;\n",
       "    }\n",
       "</style>\n",
       "<table border=\"1\" class=\"dataframe\">\n",
       "  <thead>\n",
       "    <tr style=\"text-align: right;\">\n",
       "      <th></th>\n",
       "      <th>HP</th>\n",
       "      <th>MPG</th>\n",
       "      <th>VOL</th>\n",
       "      <th>SP</th>\n",
       "      <th>WT</th>\n",
       "    </tr>\n",
       "  </thead>\n",
       "  <tbody>\n",
       "    <tr>\n",
       "      <th>0</th>\n",
       "      <td>49</td>\n",
       "      <td>53.700681</td>\n",
       "      <td>89</td>\n",
       "      <td>104.185353</td>\n",
       "      <td>28.762059</td>\n",
       "    </tr>\n",
       "    <tr>\n",
       "      <th>1</th>\n",
       "      <td>55</td>\n",
       "      <td>50.013401</td>\n",
       "      <td>92</td>\n",
       "      <td>105.461264</td>\n",
       "      <td>30.466833</td>\n",
       "    </tr>\n",
       "    <tr>\n",
       "      <th>2</th>\n",
       "      <td>55</td>\n",
       "      <td>50.013401</td>\n",
       "      <td>92</td>\n",
       "      <td>105.461264</td>\n",
       "      <td>30.193597</td>\n",
       "    </tr>\n",
       "    <tr>\n",
       "      <th>3</th>\n",
       "      <td>70</td>\n",
       "      <td>45.696322</td>\n",
       "      <td>92</td>\n",
       "      <td>113.461264</td>\n",
       "      <td>30.632114</td>\n",
       "    </tr>\n",
       "    <tr>\n",
       "      <th>4</th>\n",
       "      <td>53</td>\n",
       "      <td>50.504232</td>\n",
       "      <td>92</td>\n",
       "      <td>104.461264</td>\n",
       "      <td>29.889149</td>\n",
       "    </tr>\n",
       "  </tbody>\n",
       "</table>\n",
       "</div>"
      ],
      "text/plain": [
       "   HP        MPG  VOL          SP         WT\n",
       "0  49  53.700681   89  104.185353  28.762059\n",
       "1  55  50.013401   92  105.461264  30.466833\n",
       "2  55  50.013401   92  105.461264  30.193597\n",
       "3  70  45.696322   92  113.461264  30.632114\n",
       "4  53  50.504232   92  104.461264  29.889149"
      ]
     },
     "execution_count": 19,
     "metadata": {},
     "output_type": "execute_result"
    }
   ],
   "source": [
    "#Loading Dataset For Qtn 20 & 21\n",
    "cars = pd.read_csv(\"/Users/Akaash/Downloads/Cars.csv\") #loading the files (filename:Cars.csv)\n",
    "cars.head()  "
   ]
  },
  {
   "cell_type": "code",
   "execution_count": 20,
   "id": "8b2081d9",
   "metadata": {},
   "outputs": [
    {
     "data": {
      "text/plain": [
       "count    81.000000\n",
       "mean     34.422076\n",
       "std       9.131445\n",
       "min      12.101263\n",
       "25%      27.856252\n",
       "50%      35.152727\n",
       "75%      39.531633\n",
       "max      53.700681\n",
       "Name: MPG, dtype: float64"
      ]
     },
     "execution_count": 20,
     "metadata": {},
     "output_type": "execute_result"
    }
   ],
   "source": [
    "#To get Stats of MPG Coln\n",
    "cars.MPG.describe()"
   ]
  },
  {
   "cell_type": "code",
   "execution_count": 21,
   "id": "bfb1b0c6",
   "metadata": {},
   "outputs": [
    {
     "name": "stdout",
     "output_type": "stream",
     "text": [
      "P(MPG>38) is : 0.34748702501304063\n",
      "P(MPG<40) is : 0.7294571279557076\n",
      "P(20<MPG<50) is : 0.8989177824549222\n"
     ]
    }
   ],
   "source": [
    "#Qtn20.Calculate the probability of MPG of Cars for the below cases.\n",
    "\n",
    "#P(MPG>38) -- Conditional probability --Stats.norm.cdf(x_bar,mean,SD) \n",
    "P38 = 1 - stats.norm.cdf(38,34.42,9.13)\n",
    "\n",
    "#P(MPG<38) \n",
    "P40 = stats.norm.cdf(40,34.42,9.13)\n",
    "\n",
    "#P(20<MPG<50) -- Conditional probability \n",
    "P2050 = stats.norm.cdf(50,34.42,9.13) - stats.norm.cdf(20,34.42,9.13)\n",
    "\n",
    "print('P(MPG>38) is :',P38)\n",
    "print('P(MPG<40) is :',P40)\n",
    "print('P(20<MPG<50) is :',P2050)"
   ]
  },
  {
   "cell_type": "code",
   "execution_count": 22,
   "id": "96514410",
   "metadata": {},
   "outputs": [
    {
     "data": {
      "image/png": "[encoded data removed]",
      "text/plain": [
       "<Figure size 432x288 with 1 Axes>"
      ]
     },
     "metadata": {
      "needs_background": "light"
     },
     "output_type": "display_data"
    }
   ],
   "source": [
    "#Qtn21.a) Check whether the MPG of Cars follows Normal Distribution\n",
    "sns.distplot(cars.MPG)\n",
    "plt.title(\"MPG\");\n",
    "\n",
    "#Inferences: As it can be seen in the distribution plot, there are two humps, so MPG doesn't Follow Normal Distribution"
   ]
  },
  {
   "cell_type": "code",
   "execution_count": 23,
   "id": "1fa11e50",
   "metadata": {},
   "outputs": [
    {
     "data": {
      "text/html": [
       "<div>\n",
       "<style scoped>\n",
       "    .dataframe tbody tr th:only-of-type {\n",
       "        vertical-align: middle;\n",
       "    }\n",
       "\n",
       "    .dataframe tbody tr th {\n",
       "        vertical-align: top;\n",
       "    }\n",
       "\n",
       "    .dataframe thead th {\n",
       "        text-align: right;\n",
       "    }\n",
       "</style>\n",
       "<table border=\"1\" class=\"dataframe\">\n",
       "  <thead>\n",
       "    <tr style=\"text-align: right;\">\n",
       "      <th></th>\n",
       "      <th>Waist</th>\n",
       "      <th>AT</th>\n",
       "    </tr>\n",
       "  </thead>\n",
       "  <tbody>\n",
       "    <tr>\n",
       "      <th>0</th>\n",
       "      <td>74.75</td>\n",
       "      <td>25.72</td>\n",
       "    </tr>\n",
       "    <tr>\n",
       "      <th>1</th>\n",
       "      <td>72.60</td>\n",
       "      <td>25.89</td>\n",
       "    </tr>\n",
       "    <tr>\n",
       "      <th>2</th>\n",
       "      <td>81.80</td>\n",
       "      <td>42.60</td>\n",
       "    </tr>\n",
       "    <tr>\n",
       "      <th>3</th>\n",
       "      <td>83.95</td>\n",
       "      <td>42.80</td>\n",
       "    </tr>\n",
       "    <tr>\n",
       "      <th>4</th>\n",
       "      <td>74.65</td>\n",
       "      <td>29.84</td>\n",
       "    </tr>\n",
       "  </tbody>\n",
       "</table>\n",
       "</div>"
      ],
      "text/plain": [
       "   Waist     AT\n",
       "0  74.75  25.72\n",
       "1  72.60  25.89\n",
       "2  81.80  42.60\n",
       "3  83.95  42.80\n",
       "4  74.65  29.84"
      ]
     },
     "execution_count": 23,
     "metadata": {},
     "output_type": "execute_result"
    }
   ],
   "source": [
    "#Loading Dataset For Qtn 20 & 21\n",
    "wcat = pd.read_csv(\"/Users/Akaash/Downloads/wc-at.csv\") #loading the files (filename:wc-at.csv)\n",
    "wcat.head()  "
   ]
  },
  {
   "cell_type": "code",
   "execution_count": 24,
   "id": "a95e1404",
   "metadata": {},
   "outputs": [
    {
     "data": {
      "image/png": "[encoded data removed]",
      "text/plain": [
       "<Figure size 432x288 with 2 Axes>"
      ]
     },
     "metadata": {
      "needs_background": "light"
     },
     "output_type": "display_data"
    }
   ],
   "source": [
    "#Qtn21.\n",
    "#b)Check Whether the Adipose Tissue (AT) and Waist Circumference (Waist) from wc-at data set follows Normal Distribution \n",
    "plt.subplot(1,2,1)\n",
    "sns.distplot(wcat.AT)\n",
    "plt.title(\"AT\");\n",
    "plt.subplot(1,2,2)\n",
    "sns.distplot(wcat.Waist)\n",
    "plt.title(\"Waist\");\n",
    "#Inferences: As it can be seen in the distribution plot, there are humps in both the plot , \n",
    "            #so AT and Waist doesn't Follow Normal Distribution"
   ]
  },
  {
   "cell_type": "code",
   "execution_count": 25,
   "id": "8f670263",
   "metadata": {},
   "outputs": [
    {
     "name": "stdout",
     "output_type": "stream",
     "text": [
      "z_value for 90% 1.6448536269514722\n",
      "z_value for 94% 1.8807936081512509\n",
      "z_value for 60% 0.8416212335729143\n"
     ]
    }
   ],
   "source": [
    "# Qtn22. To Calculate Z_Scores for 90%,94%,60%\n",
    "\n",
    "#90% in python # z_value=90%, %10 remaining from both side ,Considering one side, So + 5%,so 95% --(.95)\n",
    "z90=stats.norm.ppf(.95)\n",
    "\n",
    "#94% in python # z_value=94%, %6 remaining from both side ,Considering one side, So + 3%,so 97% --(.97)\n",
    "z94=stats.norm.ppf(.97)\n",
    "\n",
    "#60% in python # z_value=60%, %40 remaining from both side ,Considering one side, So + 20%,so 80% --(.80)\n",
    "z60=stats.norm.ppf(.80)\n",
    "\n",
    "#Printing z_values\n",
    "print('z_value for 90%',z90)\n",
    "print('z_value for 94%',z94)\n",
    "print('z_value for 60%',z60)"
   ]
  },
  {
   "cell_type": "code",
   "execution_count": 26,
   "id": "093e6ec5",
   "metadata": {},
   "outputs": [
    {
     "name": "stdout",
     "output_type": "stream",
     "text": [
      "t_value for 95% 1.7108820799094275\n",
      "t_value for 96% 2.1715446760080677\n",
      "t_value for 99% 2.796939504772804\n"
     ]
    }
   ],
   "source": [
    "# Qtn22. To Calculate T_Scores for 95%,96%,99% for sample siz 0f 25\n",
    "\n",
    "#95% in python # t_value=95%, %5 remaining from both side ,Considering one side, So + 2.5%,so 97.5% --(.975),df= n-1,25-1=24\n",
    "t95=stats.t.ppf(.95,24)\n",
    "\n",
    "#96% in python # t_value=96%, %4 remaining from both side ,Considering one side, So + 2%,so 98% --(.98),df= n-1,25-1=24\n",
    "t96=stats.t.ppf(.98,24)\n",
    "\n",
    "#99% in python # t_value=99%, %1 remaining from both side ,Considering one side, So + 0.5%,so 99.5% --(.995),df= n-1,25-1=24\n",
    "t99=stats.t.ppf(.995,24)\n",
    "\n",
    "#Printing z_values\n",
    "print('t_value for 95%',t95)\n",
    "print('t_value for 96%',t96)\n",
    "print('t_value for 99%',t99)"
   ]
  },
  {
   "cell_type": "code",
   "execution_count": 27,
   "id": "630dccec",
   "metadata": {},
   "outputs": [
    {
     "name": "stdout",
     "output_type": "stream",
     "text": [
      "t_value is : -0.4714045207910317\n",
      "The P_value is: 0.32167253567098364\n",
      "Since p_value > α, Fail to reject H0,bulb have an average life of no more then 260days, No action required \n"
     ]
    }
   ],
   "source": [
    "#Qtn24. what is the probability that 18 randomly selected bulbs would have an average life of no more than 260 days\n",
    "\n",
    "#Given data\n",
    "n = 18       #Sample size\n",
    "x_bar = 260  #mean of Sample\n",
    "s = 90       #SD of Sample\n",
    "μ = 270      #Mean of Population\n",
    "\n",
    "#Defining Hypothesis:\n",
    "                    # H0 ≤ 260\n",
    "                    # H1 >260\n",
    "\n",
    "#T-Test\n",
    "t_value = (x_bar -μ) / (s/np.sqrt(n))  # T-test formula\n",
    "print(\"t_value is :\",t_value)\n",
    "\n",
    "#P_value\n",
    "p_value = stats.t.cdf(t_value,df=17) # P_value formula, \n",
    "print('The P_value is:',p_value)\n",
    "print('Since p_value > α, Fail to reject H0,bulb have an average life of no more then 260days, No action required ')"
   ]
  },
  {
   "cell_type": "code",
   "execution_count": null,
   "id": "8ff02b22",
   "metadata": {},
   "outputs": [],
   "source": []
  }
 ],
 "metadata": {
  "kernelspec": {
   "display_name": "Python 3",
   "language": "python",
   "name": "python3"
  },
  "language_info": {
   "codemirror_mode": {
    "name": "ipython",
    "version": 3
   },
   "file_extension": ".py",
   "mimetype": "text/x-python",
   "name": "python",
   "nbconvert_exporter": "python",
   "pygments_lexer": "ipython3",
   "version": "3.8.8"
  }
 },
 "nbformat": 4,
 "nbformat_minor": 5
}
