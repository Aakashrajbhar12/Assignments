{
 "cells": [
  {
   "cell_type": "markdown",
   "id": "bb619f7d",
   "metadata": {},
   "source": [
    "### Python Assignments - Data Analytics"
   ]
  },
  {
   "cell_type": "markdown",
   "id": "a69a5c0e",
   "metadata": {},
   "source": [
    "#### Assignment Question - List"
   ]
  },
  {
   "cell_type": "markdown",
   "id": "7f585408",
   "metadata": {},
   "source": [
    "1.Write a Python program which accepts a sequence of comma-separated numbers from user and generate a list and a tuple with those numbers."
   ]
  },
  {
   "cell_type": "code",
   "execution_count": 1,
   "id": "6a358f09",
   "metadata": {},
   "outputs": [
    {
     "name": "stdout",
     "output_type": "stream",
     "text": [
      "Enter the Some numbers3,5,7,23\n",
      "The List is: ['3', '5', '7', '23']\n",
      "The Tuple is: ('3', '5', '7', '23')\n"
     ]
    }
   ],
   "source": [
    "###### Code:\n",
    "Input = input(\"Enter the Some numbers\") #Taking User input\n",
    "List = list(Input.split(\",\"))           #spliting by commas and creating a List using list()\n",
    "Tuple = tuple(Input.split(\",\"))         #spliting by commas and creating a tuple using tuple()\n",
    "#Printing the list and tuple\n",
    "print(\"The List is:\", List)\n",
    "print(\"The Tuple is:\", Tuple)"
   ]
  },
  {
   "cell_type": "markdown",
   "id": "f8070929",
   "metadata": {},
   "source": [
    "2.Write a Python program to display the first and last colors from the following list.\n",
    "\n",
    "color_list = [\"Red\",\"Green\",\"White\" ,\"Black\"]"
   ]
  },
  {
   "cell_type": "code",
   "execution_count": 2,
   "id": "8040e23c",
   "metadata": {},
   "outputs": [
    {
     "name": "stdout",
     "output_type": "stream",
     "text": [
      "Red Black\n"
     ]
    }
   ],
   "source": [
    "#Defining The List\n",
    "color_list = [\"Red\",\"Green\",\"White\" ,\"Black\"]\n",
    "#Printing the Two Required Elements\n",
    "print(color_list[0],color_list[3])"
   ]
  },
  {
   "cell_type": "markdown",
   "id": "c1b16a03",
   "metadata": {},
   "source": [
    "3.Write a Python program to print the even numbers from a given list.\n",
    "\n",
    "Sample List : [1, 2, 3, 4, 5, 6, 7, 8, 9]"
   ]
  },
  {
   "cell_type": "code",
   "execution_count": 3,
   "id": "99afaade",
   "metadata": {},
   "outputs": [
    {
     "name": "stdout",
     "output_type": "stream",
     "text": [
      "[2, 4, 6, 8]\n"
     ]
    }
   ],
   "source": [
    "#Creating the List and an Empty list for Even number\n",
    "List = [1, 2, 3, 4, 5, 6, 7, 8, 9]\n",
    "Even_list = []\n",
    "#Looping Each Element of list \n",
    "for i in List:\n",
    "    if i % 2 == 0:          #Checking For Even number with a Condition\n",
    "        Even_list.append(i) #Appending the even_list with even number\n",
    "print(Even_list) "
   ]
  },
  {
   "cell_type": "markdown",
   "id": "776f3446",
   "metadata": {},
   "source": [
    "#### Assignment Question - Module"
   ]
  },
  {
   "cell_type": "markdown",
   "id": "4ef97397",
   "metadata": {},
   "source": [
    "1.Write a Python program to calculate number of days between two dates. Hint: use Datetime package/module."
   ]
  },
  {
   "cell_type": "code",
   "execution_count": 4,
   "id": "58911d85",
   "metadata": {},
   "outputs": [
    {
     "name": "stdout",
     "output_type": "stream",
     "text": [
      "The Difference Between Two Given Date is 9 days, 0:00:00\n"
     ]
    }
   ],
   "source": [
    "#Code:\n",
    "#importing Datetime module \n",
    "import datetime as dt  \n",
    "First_Date = dt.date(2014, 7, 2)\n",
    "Last_Date = dt.date(2014, 7, 11)\n",
    "diff = Last_Date - First_Date\n",
    "print(\"The Difference Between Two Given Date is\",diff)"
   ]
  },
  {
   "cell_type": "markdown",
   "id": "f9a30679",
   "metadata": {},
   "source": [
    "#### Assignment Question - Function"
   ]
  },
  {
   "cell_type": "markdown",
   "id": "e869d138",
   "metadata": {},
   "source": [
    "1.Write a Python program to get the volume of a sphere with radius 6."
   ]
  },
  {
   "cell_type": "code",
   "execution_count": 5,
   "id": "c2481e2d",
   "metadata": {},
   "outputs": [
    {
     "name": "stdout",
     "output_type": "stream",
     "text": [
      "When Radius is 6 then Volume of Sphere: 904.3199999999999\n"
     ]
    }
   ],
   "source": [
    "#Volume of Sphere = 4/3 pi* r**3\n",
    "pi = 3.14\n",
    "#Defining a Function For Volume of Sphere with one Parameter of Radius\n",
    "def vfs(r):\n",
    "    v = 4 / 3 * pi * r**3\n",
    "    print(\"When Radius is\", r,\"then Volume of Sphere:\",v)\n",
    "#Calling the Function Defined - with Argument as Radius 6\n",
    "vfs(6)"
   ]
  },
  {
   "cell_type": "markdown",
   "id": "0d9a860c",
   "metadata": {},
   "source": [
    "2.Write a Python program to calculate the sum of three given numbers, if the values are equal then return three times of their sum hint: write User defined functions"
   ]
  },
  {
   "cell_type": "code",
   "execution_count": 6,
   "id": "93ef7605",
   "metadata": {},
   "outputs": [
    {
     "name": "stdout",
     "output_type": "stream",
     "text": [
      "three times of their sum 90\n"
     ]
    }
   ],
   "source": [
    "#Code:\n",
    "#Defining the Function\n",
    "def sumequal(num1,num2,num3):\n",
    "    if num1==num2==num3:\n",
    "        snum = (num1 + num2 + num3) * 3\n",
    "        print(\"three times of their sum\",snum)\n",
    "    else:\n",
    "        print(\"Number are Not Equal\")\n",
    "\n",
    "#Calling the Function\n",
    "sumequal(10,10,10)"
   ]
  },
  {
   "cell_type": "markdown",
   "id": "7afdcd33",
   "metadata": {},
   "source": [
    "3.Write a Python program to count the number 4 in a given list.\n",
    "\n",
    "List = [1,4,6,8,4,9,4]"
   ]
  },
  {
   "cell_type": "code",
   "execution_count": 7,
   "id": "c583ce70",
   "metadata": {},
   "outputs": [
    {
     "name": "stdout",
     "output_type": "stream",
     "text": [
      "The Count of Number 4 is: 3\n"
     ]
    }
   ],
   "source": [
    "#Code\n",
    "List = [1,4,6,8,4,9,4]\n",
    "print(\"The Count of Number 4 is:\",List.count(4))"
   ]
  },
  {
   "cell_type": "markdown",
   "id": "50034919",
   "metadata": {},
   "source": [
    "4.Write a Python program to print all even numbers from a given numbers list in the same order and stop the printing if any numbers that come after 237 in the sequence.\n",
    "\n",
    "List = [ 399, 162, 758, 219, 918, 237, 412, 566, 826, 248, 866, 950, 626, 949, 687, 217,\n",
    "\n",
    "815, 67, 104, 58, 512, 24, 892, 894, 767, 553, 81, 379, 843, 831, 445, 742, 717,\n",
    "\n",
    "958,743, 527]"
   ]
  },
  {
   "cell_type": "code",
   "execution_count": 8,
   "id": "ea54f78a",
   "metadata": {},
   "outputs": [
    {
     "name": "stdout",
     "output_type": "stream",
     "text": [
      "162\n",
      "758\n",
      "918\n"
     ]
    }
   ],
   "source": [
    "#Code\n",
    "List = [399,162,758,219,918,237,412,566,826,248,866,950,626,949,687,217,\n",
    "        815,67,104,58,512,24,892,894,767,553,81,379,843,831,445,742,717,958,743,527]\n",
    "for i in List:\n",
    "    if i == 237:\n",
    "         break    #Using Break Statement to break loop when 237 comes\n",
    "    if i %2 == 0:\n",
    "      print(i)"
   ]
  },
  {
   "cell_type": "markdown",
   "id": "b8e7a157",
   "metadata": {},
   "source": [
    "5.Write a Python program to find those numbers which are divisible by 7 and multiple of 5, between 1500 and 2700 (both included)"
   ]
  },
  {
   "cell_type": "code",
   "execution_count": 9,
   "id": "f04c284c",
   "metadata": {},
   "outputs": [
    {
     "name": "stdout",
     "output_type": "stream",
     "text": [
      "[1505, 1540, 1575, 1610, 1645, 1680, 1715, 1750, 1785, 1820, 1855, 1890, 1925, 1960, 1995, 2030, 2065, 2100, 2135, 2170, 2205, 2240, 2275, 2310, 2345, 2380, 2415, 2450, 2485, 2520, 2555, 2590, 2625, 2660, 2695]\n"
     ]
    }
   ],
   "source": [
    "#Code\n",
    "nlist = []\n",
    "#Defining the Range First\n",
    "rng = range(1500,2701)\n",
    "for i in rng:\n",
    "    if i%7 == 0 and i%5 == 0:   #Checking the Condition Using if Statements\n",
    "        nlist.append(i)\n",
    "#Printing the list of Number\n",
    "print(nlist)"
   ]
  },
  {
   "cell_type": "markdown",
   "id": "6f02508b",
   "metadata": {},
   "source": [
    "6.Write a Python program that prints all the numbers from 0 to 6 except 3 and 6."
   ]
  },
  {
   "cell_type": "code",
   "execution_count": 10,
   "id": "801682f2",
   "metadata": {},
   "outputs": [
    {
     "name": "stdout",
     "output_type": "stream",
     "text": [
      "0 1 2 4 5 "
     ]
    }
   ],
   "source": [
    "#Code\n",
    "#Defining the Range First\n",
    "rng = range(7)\n",
    "for i in rng:\n",
    "    if i == 3 or i == 6:  #Checking the Condition Using if Statements\n",
    "        continue\n",
    "    print(i,end=\" \")\n"
   ]
  },
  {
   "cell_type": "markdown",
   "id": "df603ac2",
   "metadata": {},
   "source": [
    "7.Write a Python program to get the Fibonacci series between 0 to 50."
   ]
  },
  {
   "cell_type": "code",
   "execution_count": 11,
   "id": "9670b63b",
   "metadata": {},
   "outputs": [
    {
     "name": "stdout",
     "output_type": "stream",
     "text": [
      "1\n",
      "1\n",
      "2\n",
      "3\n",
      "5\n",
      "8\n",
      "13\n",
      "21\n",
      "34\n"
     ]
    }
   ],
   "source": [
    "#Code\n",
    "a = 0\n",
    "b = 1\n",
    "while b < 50:\n",
    "    print(b)\n",
    "    a, b = b, a + b"
   ]
  },
  {
   "cell_type": "markdown",
   "id": "01ae7368",
   "metadata": {},
   "source": [
    "8.Write a Python program to get the Fibonacci series between 0 to 50."
   ]
  },
  {
   "cell_type": "code",
   "execution_count": 12,
   "id": "63dba7a1",
   "metadata": {},
   "outputs": [
    {
     "name": "stdout",
     "output_type": "stream",
     "text": [
      "1\n",
      "1\n",
      "2\n",
      "3\n",
      "5\n",
      "8\n",
      "13\n",
      "21\n",
      "34\n"
     ]
    }
   ],
   "source": [
    "#Code\n",
    "a = 0\n",
    "b = 1\n",
    "while b < 50:\n",
    "    print(b)\n",
    "    a, b = b, a + b"
   ]
  },
  {
   "cell_type": "markdown",
   "id": "0b6db95f",
   "metadata": {},
   "source": [
    "9.Write a Python function that takes a list and returns a new list with unique elements of the first list."
   ]
  },
  {
   "cell_type": "code",
   "execution_count": 13,
   "id": "a3d7a531",
   "metadata": {},
   "outputs": [
    {
     "name": "stdout",
     "output_type": "stream",
     "text": [
      "The Unique List is [1, 2, 3, 4, 5]\n"
     ]
    }
   ],
   "source": [
    "#Code\n",
    "Uni = []\n",
    "def unique_list(List):\n",
    "    for i in List:\n",
    "        if i not in Uni:\n",
    "            Uni.append(i)\n",
    "    print(\"The Unique List is\",Uni)\n",
    "    \n",
    "#Calling The Function\n",
    "unique_list([1,2,3,3,3,3,4,5])"
   ]
  },
  {
   "cell_type": "markdown",
   "id": "9c53f760",
   "metadata": {},
   "source": [
    "#### Assignment Question - String"
   ]
  },
  {
   "cell_type": "markdown",
   "id": "f1316fb5",
   "metadata": {},
   "source": [
    "1.Write a Python program to concatenate all elements in a list into a string and return it."
   ]
  },
  {
   "cell_type": "code",
   "execution_count": 14,
   "id": "448d7495",
   "metadata": {},
   "outputs": [
    {
     "name": "stdout",
     "output_type": "stream",
     "text": [
      "The String is: Akaash\n"
     ]
    }
   ],
   "source": [
    "List = ['A','k','a','a','s','h']\n",
    "string =''\n",
    "for i in List:\n",
    "    string += str(i)\n",
    "print(\"The String is:\",string)"
   ]
  },
  {
   "cell_type": "markdown",
   "id": "a82263c9",
   "metadata": {},
   "source": [
    "#### Assignment Question - Dictionary"
   ]
  },
  {
   "cell_type": "markdown",
   "id": "5235db67",
   "metadata": {},
   "source": [
    "1.Write a Python script to concatenate following dictionaries to create a new one."
   ]
  },
  {
   "cell_type": "code",
   "execution_count": 15,
   "id": "f8477e06",
   "metadata": {},
   "outputs": [
    {
     "name": "stdout",
     "output_type": "stream",
     "text": [
      "{1: 10, 2: 20, 3: 30, 4: 40, 5: 50, 6: 60}\n"
     ]
    }
   ],
   "source": [
    "dic1={1:10, 2:20}\n",
    "dic2={3:30, 4:40}\n",
    "dic3={5:50,6:60}\n",
    "Dict_Final = {}\n",
    "#concatenate / Mergeing the Dictionaries\n",
    "Dict_Final.update(dic1)     #Merging First Dictionary\n",
    "Dict_Final.update(dic2)     #Merging second Dictionary with First\n",
    "Dict_Final.update(dic3)    #Merging Third Dictionary with First & Second\n",
    "#Printing the Final Dictionary\n",
    "print(Dict_Final)"
   ]
  },
  {
   "cell_type": "markdown",
   "id": "90999545",
   "metadata": {},
   "source": [
    "#### Assignment Question - Series"
   ]
  },
  {
   "cell_type": "markdown",
   "id": "3190c787",
   "metadata": {},
   "source": [
    "1.Write a Python program to add, subtract, multiple and divide two Pandas Series.\n",
    "\n",
    "Sample Series: [2, 4, 6, 8, 10], [1, 3, 5, 7, 9]"
   ]
  },
  {
   "cell_type": "code",
   "execution_count": 16,
   "id": "c9266e50",
   "metadata": {},
   "outputs": [
    {
     "name": "stdout",
     "output_type": "stream",
     "text": [
      "Adding is:\n",
      "0     3\n",
      "1     7\n",
      "2    11\n",
      "3    15\n",
      "4    19\n",
      "dtype: int64\n",
      "Substract is:\n",
      "0    1\n",
      "1    1\n",
      "2    1\n",
      "3    1\n",
      "4    1\n",
      "dtype: int64\n",
      "Multiple is:\n",
      "0     2\n",
      "1    12\n",
      "2    30\n",
      "3    56\n",
      "4    90\n",
      "dtype: int64\n",
      "Divide is:\n",
      "0     2\n",
      "1    12\n",
      "2    30\n",
      "3    56\n",
      "4    90\n",
      "dtype: int64\n"
     ]
    }
   ],
   "source": [
    "#Code\n",
    "#importing Library\n",
    "import pandas as pd\n",
    "#Creating the Two Series\n",
    "S1 = pd.Series([2, 4, 6, 8, 10])\n",
    "S2 = pd.Series([1, 3, 5, 7, 9])\n",
    "#Adding Two Series\n",
    "Add = S1 + S2\n",
    "print(\"Adding is:\")\n",
    "print(Add)\n",
    "#substract Two Series\n",
    "Sub = S1 - S2\n",
    "print(\"Substract is:\")\n",
    "print(Sub)\n",
    "#Multiply Two Series\n",
    "Mul = S1 * S2\n",
    "print(\"Multiple is:\")\n",
    "print(Mul)\n",
    "#Divide Two Series\n",
    "Div = S1 * S2\n",
    "print(\"Divide is:\")\n",
    "print(Div)"
   ]
  },
  {
   "cell_type": "markdown",
   "id": "c4a8b0f3",
   "metadata": {},
   "source": [
    "#### Assignment Question - DataFrame"
   ]
  },
  {
   "cell_type": "markdown",
   "id": "9d3b93fe",
   "metadata": {},
   "source": [
    "1.Write a Pandas program to select the specified columns and rows from a given data frame. And Select the Specific Column Given in the Problem Statement on LMS"
   ]
  },
  {
   "cell_type": "code",
   "execution_count": 17,
   "id": "ffd6f77c",
   "metadata": {},
   "outputs": [
    {
     "name": "stdout",
     "output_type": "stream",
     "text": [
      "        name  score  attempts qualify\n",
      "a  Anastasia   12.5         1     yes\n",
      "b       Dima    9.0         3      no\n",
      "c  Katherine   16.5         2     yes\n",
      "d      James    NaN         3      no\n",
      "e      Emily    9.0         2      no\n",
      "f    Michael   20.0         3     yes\n",
      "g    Matthew   14.5         1     yes\n",
      "h      Laura    NaN         1      no\n",
      "i      Kevin    8.0         2      no\n",
      "j      Jonas   19.0         1     yes\n",
      "\n",
      "\n",
      "Select specific columns and rows:\n",
      "   score qualify\n",
      "b    9.0      no\n",
      "d    NaN      no\n",
      "f   20.0     yes\n",
      "g   14.5     yes\n"
     ]
    }
   ],
   "source": [
    "import pandas as pd\n",
    "import numpy as np\n",
    "\n",
    "Data = {'name': ['Anastasia', 'Dima', 'Katherine', 'James', 'Emily', 'Michael', 'Matthew', 'Laura', 'Kevin', 'Jonas'],\n",
    "        'score': [12.5, 9, 16.5, np.nan, 9, 20, 14.5, np.nan, 8, 19],\n",
    "        'attempts': [1, 3, 2, 3, 2, 3, 1, 1, 2, 1],\n",
    "        'qualify': ['yes', 'no', 'yes', 'no', 'no', 'yes', 'yes', 'no', 'no', 'yes']}\n",
    "labels = ['a', 'b', 'c', 'd', 'e', 'f', 'g', 'h', 'i', 'j']\n",
    "\n",
    "df = pd.DataFrame(Data , index=labels)\n",
    "print(df)\n",
    "print(\"\\n\") # Line Break\n",
    "#Selecting The Expected Output\n",
    "print(\"Select specific columns and rows:\")\n",
    "print(df.iloc[[1, 3, 5, 6], [1, 3]])\n"
   ]
  },
  {
   "cell_type": "markdown",
   "id": "f5e768e3",
   "metadata": {},
   "source": [
    "2.Use Crime dataset from LMS\n",
    "\n",
    "I) find the aggregations like all moments of business decisions for all columns,value counts.\n",
    "\n",
    "II) do the plottings like plottings like histogram, boxplot, scatterplot, barplot, piechart,dot chart."
   ]
  },
  {
   "cell_type": "code",
   "execution_count": 18,
   "id": "b3a03538",
   "metadata": {},
   "outputs": [
    {
     "name": "stdout",
     "output_type": "stream",
     "text": [
      "         Murder     Assault   UrbanPop       Rape\n",
      "count  50.00000   50.000000  50.000000  50.000000\n",
      "mean    7.78800  170.760000  65.540000  21.232000\n",
      "std     4.35551   83.337661  14.474763   9.366385\n",
      "min     0.80000   45.000000  32.000000   7.300000\n",
      "25%     4.07500  109.000000  54.500000  15.075000\n",
      "50%     7.25000  159.000000  66.000000  20.100000\n",
      "75%    11.25000  249.000000  77.750000  26.175000\n",
      "max    17.40000  337.000000  91.000000  46.000000\n"
     ]
    },
    {
     "data": {
      "text/plain": [
       "Murder\n",
       "2.2     2\n",
       "2.6     2\n",
       "2.1     2\n",
       "15.4    2\n",
       "13.2    2\n",
       "9.0     2\n",
       "6.0     2\n",
       "0.8     1\n",
       "11.1    1\n",
       "8.8     1\n",
       "9.7     1\n",
       "10.0    1\n",
       "10.4    1\n",
       "12.1    1\n",
       "11.3    1\n",
       "11.4    1\n",
       "8.1     1\n",
       "12.2    1\n",
       "12.7    1\n",
       "13.0    1\n",
       "14.4    1\n",
       "16.1    1\n",
       "8.5     1\n",
       "7.3     1\n",
       "7.9     1\n",
       "4.4     1\n",
       "2.7     1\n",
       "3.2     1\n",
       "3.3     1\n",
       "3.4     1\n",
       "3.8     1\n",
       "4.0     1\n",
       "4.3     1\n",
       "4.9     1\n",
       "7.4     1\n",
       "5.3     1\n",
       "5.7     1\n",
       "5.9     1\n",
       "6.3     1\n",
       "6.6     1\n",
       "6.8     1\n",
       "7.2     1\n",
       "17.4    1\n",
       "dtype: int64"
      ]
     },
     "execution_count": 18,
     "metadata": {},
     "output_type": "execute_result"
    }
   ],
   "source": [
    "#Code - find the aggregations like all moments of business decisions for all columns,value counts.\n",
    "\n",
    "#importing The Required Library\n",
    "import pandas as pd\n",
    "Dataset = pd.read_csv(\"C:/Users/Akaash/Downloads/crime_data.csv\")\n",
    "#aggregations\n",
    "print(Dataset.describe())\n",
    "#Value_Count() - Murders\n",
    "Dataset.value_counts('Murder')"
   ]
  },
  {
   "cell_type": "code",
   "execution_count": 19,
   "id": "65d2920d",
   "metadata": {
    "scrolled": true
   },
   "outputs": [
    {
     "data": {
      "image/png": "[encoded data removed]",
      "text/plain": [
       "<Figure size 1080x288 with 3 Axes>"
      ]
     },
     "metadata": {
      "needs_background": "light"
     },
     "output_type": "display_data"
    }
   ],
   "source": [
    "#Code II)do the plottings like plottings like histogram, boxplot, scatterplot, barplot, piechart,dot chart.\n",
    "import numpy as np\n",
    "import pandas as pd\n",
    "import matplotlib.pyplot as plt\n",
    "import seaborn as sns\n",
    "%matplotlib inline\n",
    "\n",
    "import warnings\n",
    "warnings.filterwarnings(\"ignore\")  #--to ignore warnings\n",
    "\n",
    "Dataset = pd.read_csv(\"C:/Users/Akaash/Downloads/crime_data.csv\")\n",
    "\n",
    "#Histogram\n",
    "plt.subplots(figsize = (15,4))\n",
    "plt.subplot(1,3,1)\n",
    "sns.histplot(x = \"Murder\",data = Dataset)\n",
    "#Boxplot\n",
    "plt.subplot(1,3,2)\n",
    "sns.boxplot(Dataset['Rape'], orient = \"v\")\n",
    "#Scatterplot\n",
    "plt.subplot(1,3,3)\n",
    "sns.scatterplot(x = \"Assault\", y = \"Murder\", data = Dataset, color ='red')\n",
    "plt.show()"
   ]
  },
  {
   "cell_type": "code",
   "execution_count": 20,
   "id": "e1651e86",
   "metadata": {
    "scrolled": true
   },
   "outputs": [
    {
     "data": {
      "image/png": "[encoded data removed]",
      "text/plain": [
       "<Figure size 864x288 with 3 Axes>"
      ]
     },
     "metadata": {
      "needs_background": "light"
     },
     "output_type": "display_data"
    }
   ],
   "source": [
    "#piechart\n",
    "plt.subplots(figsize = (12,4))\n",
    "plt.subplot(1,3,1)\n",
    "plt.bar(\"Assault\",\"Murder\",data = Dataset)\n",
    "plt.xlabel('Assault')\n",
    "plt.subplot(1,3,2)\n",
    "plt.pie(\"Assault\", data = Dataset)\n",
    "plt.ylabel('Assault')\n",
    "plt.subplot(1,3,3)\n",
    "plt.scatter(\"UrbanPop\",\"Rape\", data = Dataset)\n",
    "plt.xlabel(\"Assault\")\n",
    "plt.ylabel(\"Rape\")\n",
    "plt.show()"
   ]
  },
  {
   "cell_type": "markdown",
   "id": "670837ff",
   "metadata": {},
   "source": [
    "3.use mtcars dataset from LMS\n",
    "\n",
    "A) delete/ drop rows-10 to 15 of all columns\n",
    "\n",
    "B)drop the VOL column\n",
    "\n",
    "C)write the forloop to get value_counts of all cloumns"
   ]
  },
  {
   "cell_type": "code",
   "execution_count": 21,
   "id": "f8f033a7",
   "metadata": {
    "scrolled": false
   },
   "outputs": [
    {
     "data": {
      "text/html": [
       "<div>\n",
       "<style scoped>\n",
       "    .dataframe tbody tr th:only-of-type {\n",
       "        vertical-align: middle;\n",
       "    }\n",
       "\n",
       "    .dataframe tbody tr th {\n",
       "        vertical-align: top;\n",
       "    }\n",
       "\n",
       "    .dataframe thead th {\n",
       "        text-align: right;\n",
       "    }\n",
       "</style>\n",
       "<table border=\"1\" class=\"dataframe\">\n",
       "  <thead>\n",
       "    <tr style=\"text-align: right;\">\n",
       "      <th></th>\n",
       "      <th>mpg</th>\n",
       "      <th>cyl</th>\n",
       "      <th>disp</th>\n",
       "      <th>hp</th>\n",
       "      <th>drat</th>\n",
       "      <th>wt</th>\n",
       "      <th>qsec</th>\n",
       "      <th>am</th>\n",
       "      <th>gear</th>\n",
       "      <th>carb</th>\n",
       "    </tr>\n",
       "  </thead>\n",
       "  <tbody>\n",
       "    <tr>\n",
       "      <th>0</th>\n",
       "      <td>21.0</td>\n",
       "      <td>6</td>\n",
       "      <td>160.0</td>\n",
       "      <td>110</td>\n",
       "      <td>3.90</td>\n",
       "      <td>2.620</td>\n",
       "      <td>16.46</td>\n",
       "      <td>1</td>\n",
       "      <td>4</td>\n",
       "      <td>4</td>\n",
       "    </tr>\n",
       "    <tr>\n",
       "      <th>1</th>\n",
       "      <td>21.0</td>\n",
       "      <td>6</td>\n",
       "      <td>160.0</td>\n",
       "      <td>110</td>\n",
       "      <td>3.90</td>\n",
       "      <td>2.875</td>\n",
       "      <td>17.02</td>\n",
       "      <td>1</td>\n",
       "      <td>4</td>\n",
       "      <td>4</td>\n",
       "    </tr>\n",
       "    <tr>\n",
       "      <th>2</th>\n",
       "      <td>22.8</td>\n",
       "      <td>4</td>\n",
       "      <td>108.0</td>\n",
       "      <td>93</td>\n",
       "      <td>3.85</td>\n",
       "      <td>2.320</td>\n",
       "      <td>18.61</td>\n",
       "      <td>1</td>\n",
       "      <td>4</td>\n",
       "      <td>1</td>\n",
       "    </tr>\n",
       "    <tr>\n",
       "      <th>3</th>\n",
       "      <td>21.4</td>\n",
       "      <td>6</td>\n",
       "      <td>258.0</td>\n",
       "      <td>110</td>\n",
       "      <td>3.08</td>\n",
       "      <td>3.215</td>\n",
       "      <td>19.44</td>\n",
       "      <td>0</td>\n",
       "      <td>3</td>\n",
       "      <td>1</td>\n",
       "    </tr>\n",
       "    <tr>\n",
       "      <th>4</th>\n",
       "      <td>18.7</td>\n",
       "      <td>8</td>\n",
       "      <td>360.0</td>\n",
       "      <td>175</td>\n",
       "      <td>3.15</td>\n",
       "      <td>3.440</td>\n",
       "      <td>17.02</td>\n",
       "      <td>0</td>\n",
       "      <td>3</td>\n",
       "      <td>2</td>\n",
       "    </tr>\n",
       "    <tr>\n",
       "      <th>5</th>\n",
       "      <td>18.1</td>\n",
       "      <td>6</td>\n",
       "      <td>225.0</td>\n",
       "      <td>105</td>\n",
       "      <td>2.76</td>\n",
       "      <td>3.460</td>\n",
       "      <td>20.22</td>\n",
       "      <td>0</td>\n",
       "      <td>3</td>\n",
       "      <td>1</td>\n",
       "    </tr>\n",
       "    <tr>\n",
       "      <th>6</th>\n",
       "      <td>14.3</td>\n",
       "      <td>8</td>\n",
       "      <td>360.0</td>\n",
       "      <td>245</td>\n",
       "      <td>3.21</td>\n",
       "      <td>3.570</td>\n",
       "      <td>15.84</td>\n",
       "      <td>0</td>\n",
       "      <td>3</td>\n",
       "      <td>4</td>\n",
       "    </tr>\n",
       "    <tr>\n",
       "      <th>7</th>\n",
       "      <td>24.4</td>\n",
       "      <td>4</td>\n",
       "      <td>146.7</td>\n",
       "      <td>62</td>\n",
       "      <td>3.69</td>\n",
       "      <td>3.190</td>\n",
       "      <td>20.00</td>\n",
       "      <td>0</td>\n",
       "      <td>4</td>\n",
       "      <td>2</td>\n",
       "    </tr>\n",
       "    <tr>\n",
       "      <th>8</th>\n",
       "      <td>22.8</td>\n",
       "      <td>4</td>\n",
       "      <td>140.8</td>\n",
       "      <td>95</td>\n",
       "      <td>3.92</td>\n",
       "      <td>3.150</td>\n",
       "      <td>22.90</td>\n",
       "      <td>0</td>\n",
       "      <td>4</td>\n",
       "      <td>2</td>\n",
       "    </tr>\n",
       "    <tr>\n",
       "      <th>9</th>\n",
       "      <td>19.2</td>\n",
       "      <td>6</td>\n",
       "      <td>167.6</td>\n",
       "      <td>123</td>\n",
       "      <td>3.92</td>\n",
       "      <td>3.440</td>\n",
       "      <td>18.30</td>\n",
       "      <td>0</td>\n",
       "      <td>4</td>\n",
       "      <td>4</td>\n",
       "    </tr>\n",
       "    <tr>\n",
       "      <th>16</th>\n",
       "      <td>14.7</td>\n",
       "      <td>8</td>\n",
       "      <td>440.0</td>\n",
       "      <td>230</td>\n",
       "      <td>3.23</td>\n",
       "      <td>5.345</td>\n",
       "      <td>17.42</td>\n",
       "      <td>0</td>\n",
       "      <td>3</td>\n",
       "      <td>4</td>\n",
       "    </tr>\n",
       "    <tr>\n",
       "      <th>17</th>\n",
       "      <td>32.4</td>\n",
       "      <td>4</td>\n",
       "      <td>78.7</td>\n",
       "      <td>66</td>\n",
       "      <td>4.08</td>\n",
       "      <td>2.200</td>\n",
       "      <td>19.47</td>\n",
       "      <td>1</td>\n",
       "      <td>4</td>\n",
       "      <td>1</td>\n",
       "    </tr>\n",
       "    <tr>\n",
       "      <th>18</th>\n",
       "      <td>30.4</td>\n",
       "      <td>4</td>\n",
       "      <td>75.7</td>\n",
       "      <td>52</td>\n",
       "      <td>4.93</td>\n",
       "      <td>1.615</td>\n",
       "      <td>18.52</td>\n",
       "      <td>1</td>\n",
       "      <td>4</td>\n",
       "      <td>2</td>\n",
       "    </tr>\n",
       "    <tr>\n",
       "      <th>19</th>\n",
       "      <td>33.9</td>\n",
       "      <td>4</td>\n",
       "      <td>71.1</td>\n",
       "      <td>65</td>\n",
       "      <td>4.22</td>\n",
       "      <td>1.835</td>\n",
       "      <td>19.90</td>\n",
       "      <td>1</td>\n",
       "      <td>4</td>\n",
       "      <td>1</td>\n",
       "    </tr>\n",
       "    <tr>\n",
       "      <th>20</th>\n",
       "      <td>21.5</td>\n",
       "      <td>4</td>\n",
       "      <td>120.1</td>\n",
       "      <td>97</td>\n",
       "      <td>3.70</td>\n",
       "      <td>2.465</td>\n",
       "      <td>20.01</td>\n",
       "      <td>0</td>\n",
       "      <td>3</td>\n",
       "      <td>1</td>\n",
       "    </tr>\n",
       "    <tr>\n",
       "      <th>21</th>\n",
       "      <td>15.5</td>\n",
       "      <td>8</td>\n",
       "      <td>318.0</td>\n",
       "      <td>150</td>\n",
       "      <td>2.76</td>\n",
       "      <td>3.520</td>\n",
       "      <td>16.87</td>\n",
       "      <td>0</td>\n",
       "      <td>3</td>\n",
       "      <td>2</td>\n",
       "    </tr>\n",
       "    <tr>\n",
       "      <th>22</th>\n",
       "      <td>15.2</td>\n",
       "      <td>8</td>\n",
       "      <td>304.0</td>\n",
       "      <td>150</td>\n",
       "      <td>3.15</td>\n",
       "      <td>3.435</td>\n",
       "      <td>17.30</td>\n",
       "      <td>0</td>\n",
       "      <td>3</td>\n",
       "      <td>2</td>\n",
       "    </tr>\n",
       "    <tr>\n",
       "      <th>23</th>\n",
       "      <td>13.3</td>\n",
       "      <td>8</td>\n",
       "      <td>350.0</td>\n",
       "      <td>245</td>\n",
       "      <td>3.73</td>\n",
       "      <td>3.840</td>\n",
       "      <td>15.41</td>\n",
       "      <td>0</td>\n",
       "      <td>3</td>\n",
       "      <td>4</td>\n",
       "    </tr>\n",
       "    <tr>\n",
       "      <th>24</th>\n",
       "      <td>19.2</td>\n",
       "      <td>8</td>\n",
       "      <td>400.0</td>\n",
       "      <td>175</td>\n",
       "      <td>3.08</td>\n",
       "      <td>3.845</td>\n",
       "      <td>17.05</td>\n",
       "      <td>0</td>\n",
       "      <td>3</td>\n",
       "      <td>2</td>\n",
       "    </tr>\n",
       "    <tr>\n",
       "      <th>25</th>\n",
       "      <td>27.3</td>\n",
       "      <td>4</td>\n",
       "      <td>79.0</td>\n",
       "      <td>66</td>\n",
       "      <td>4.08</td>\n",
       "      <td>1.935</td>\n",
       "      <td>18.90</td>\n",
       "      <td>1</td>\n",
       "      <td>4</td>\n",
       "      <td>1</td>\n",
       "    </tr>\n",
       "    <tr>\n",
       "      <th>26</th>\n",
       "      <td>26.0</td>\n",
       "      <td>4</td>\n",
       "      <td>120.3</td>\n",
       "      <td>91</td>\n",
       "      <td>4.43</td>\n",
       "      <td>2.140</td>\n",
       "      <td>16.70</td>\n",
       "      <td>1</td>\n",
       "      <td>5</td>\n",
       "      <td>2</td>\n",
       "    </tr>\n",
       "    <tr>\n",
       "      <th>27</th>\n",
       "      <td>30.4</td>\n",
       "      <td>4</td>\n",
       "      <td>95.1</td>\n",
       "      <td>113</td>\n",
       "      <td>3.77</td>\n",
       "      <td>1.513</td>\n",
       "      <td>16.90</td>\n",
       "      <td>1</td>\n",
       "      <td>5</td>\n",
       "      <td>2</td>\n",
       "    </tr>\n",
       "    <tr>\n",
       "      <th>28</th>\n",
       "      <td>15.8</td>\n",
       "      <td>8</td>\n",
       "      <td>351.0</td>\n",
       "      <td>264</td>\n",
       "      <td>4.22</td>\n",
       "      <td>3.170</td>\n",
       "      <td>14.50</td>\n",
       "      <td>1</td>\n",
       "      <td>5</td>\n",
       "      <td>4</td>\n",
       "    </tr>\n",
       "    <tr>\n",
       "      <th>29</th>\n",
       "      <td>19.7</td>\n",
       "      <td>6</td>\n",
       "      <td>145.0</td>\n",
       "      <td>175</td>\n",
       "      <td>3.62</td>\n",
       "      <td>2.770</td>\n",
       "      <td>15.50</td>\n",
       "      <td>1</td>\n",
       "      <td>5</td>\n",
       "      <td>6</td>\n",
       "    </tr>\n",
       "    <tr>\n",
       "      <th>30</th>\n",
       "      <td>15.0</td>\n",
       "      <td>8</td>\n",
       "      <td>301.0</td>\n",
       "      <td>335</td>\n",
       "      <td>3.54</td>\n",
       "      <td>3.570</td>\n",
       "      <td>14.60</td>\n",
       "      <td>1</td>\n",
       "      <td>5</td>\n",
       "      <td>8</td>\n",
       "    </tr>\n",
       "    <tr>\n",
       "      <th>31</th>\n",
       "      <td>21.4</td>\n",
       "      <td>4</td>\n",
       "      <td>121.0</td>\n",
       "      <td>109</td>\n",
       "      <td>4.11</td>\n",
       "      <td>2.780</td>\n",
       "      <td>18.60</td>\n",
       "      <td>1</td>\n",
       "      <td>4</td>\n",
       "      <td>2</td>\n",
       "    </tr>\n",
       "  </tbody>\n",
       "</table>\n",
       "</div>"
      ],
      "text/plain": [
       "     mpg  cyl   disp   hp  drat     wt   qsec  am  gear  carb\n",
       "0   21.0    6  160.0  110  3.90  2.620  16.46   1     4     4\n",
       "1   21.0    6  160.0  110  3.90  2.875  17.02   1     4     4\n",
       "2   22.8    4  108.0   93  3.85  2.320  18.61   1     4     1\n",
       "3   21.4    6  258.0  110  3.08  3.215  19.44   0     3     1\n",
       "4   18.7    8  360.0  175  3.15  3.440  17.02   0     3     2\n",
       "5   18.1    6  225.0  105  2.76  3.460  20.22   0     3     1\n",
       "6   14.3    8  360.0  245  3.21  3.570  15.84   0     3     4\n",
       "7   24.4    4  146.7   62  3.69  3.190  20.00   0     4     2\n",
       "8   22.8    4  140.8   95  3.92  3.150  22.90   0     4     2\n",
       "9   19.2    6  167.6  123  3.92  3.440  18.30   0     4     4\n",
       "16  14.7    8  440.0  230  3.23  5.345  17.42   0     3     4\n",
       "17  32.4    4   78.7   66  4.08  2.200  19.47   1     4     1\n",
       "18  30.4    4   75.7   52  4.93  1.615  18.52   1     4     2\n",
       "19  33.9    4   71.1   65  4.22  1.835  19.90   1     4     1\n",
       "20  21.5    4  120.1   97  3.70  2.465  20.01   0     3     1\n",
       "21  15.5    8  318.0  150  2.76  3.520  16.87   0     3     2\n",
       "22  15.2    8  304.0  150  3.15  3.435  17.30   0     3     2\n",
       "23  13.3    8  350.0  245  3.73  3.840  15.41   0     3     4\n",
       "24  19.2    8  400.0  175  3.08  3.845  17.05   0     3     2\n",
       "25  27.3    4   79.0   66  4.08  1.935  18.90   1     4     1\n",
       "26  26.0    4  120.3   91  4.43  2.140  16.70   1     5     2\n",
       "27  30.4    4   95.1  113  3.77  1.513  16.90   1     5     2\n",
       "28  15.8    8  351.0  264  4.22  3.170  14.50   1     5     4\n",
       "29  19.7    6  145.0  175  3.62  2.770  15.50   1     5     6\n",
       "30  15.0    8  301.0  335  3.54  3.570  14.60   1     5     8\n",
       "31  21.4    4  121.0  109  4.11  2.780  18.60   1     4     2"
      ]
     },
     "execution_count": 21,
     "metadata": {},
     "output_type": "execute_result"
    }
   ],
   "source": [
    "#importing The Required Library\n",
    "import pandas as pd\n",
    "Dataset = pd.read_csv(\"C:/Users/Akaash/Downloads/mtcars.csv\")\n",
    "#A) delete/ drop rows-10 to 15 of all columns\n",
    "Dataset.drop([10,11,12,13,14,15],axis=0,inplace=True) #axis=0 preform on rows,\n",
    "\n",
    "#B)drop the VOL column\n",
    "Dataset.drop([\"vs\"], axis = 1, inplace = True)\n",
    "\n",
    "#Dataset after Dropping and row and Column\n",
    "Dataset"
   ]
  },
  {
   "cell_type": "code",
   "execution_count": 22,
   "id": "4b6feeea",
   "metadata": {
    "scrolled": false
   },
   "outputs": [
    {
     "name": "stdout",
     "output_type": "stream",
     "text": [
      "21.0    2\n",
      "19.2    2\n",
      "30.4    2\n",
      "22.8    2\n",
      "21.4    2\n",
      "18.7    1\n",
      "21.5    1\n",
      "15.2    1\n",
      "27.3    1\n",
      "15.0    1\n",
      "15.5    1\n",
      "19.7    1\n",
      "26.0    1\n",
      "15.8    1\n",
      "24.4    1\n",
      "13.3    1\n",
      "18.1    1\n",
      "33.9    1\n",
      "14.3    1\n",
      "14.7    1\n",
      "32.4    1\n",
      "Name: mpg, dtype: int64\n",
      "4    11\n",
      "8     9\n",
      "6     6\n",
      "Name: cyl, dtype: int64\n",
      "160.0    2\n",
      "360.0    2\n",
      "78.7     1\n",
      "440.0    1\n",
      "350.0    1\n",
      "95.1     1\n",
      "140.8    1\n",
      "120.3    1\n",
      "120.1    1\n",
      "318.0    1\n",
      "351.0    1\n",
      "301.0    1\n",
      "108.0    1\n",
      "75.7     1\n",
      "225.0    1\n",
      "145.0    1\n",
      "71.1     1\n",
      "121.0    1\n",
      "304.0    1\n",
      "167.6    1\n",
      "258.0    1\n",
      "79.0     1\n",
      "146.7    1\n",
      "400.0    1\n",
      "Name: disp, dtype: int64\n",
      "110    3\n",
      "175    3\n",
      "150    2\n",
      "245    2\n",
      "66     2\n",
      "65     1\n",
      "335    1\n",
      "62     1\n",
      "93     1\n",
      "123    1\n",
      "52     1\n",
      "91     1\n",
      "113    1\n",
      "109    1\n",
      "105    1\n",
      "264    1\n",
      "97     1\n",
      "230    1\n",
      "95     1\n",
      "Name: hp, dtype: int64\n",
      "3.92    2\n",
      "3.90    2\n",
      "3.15    2\n",
      "3.08    2\n",
      "4.08    2\n",
      "4.22    2\n",
      "2.76    2\n",
      "3.70    1\n",
      "4.43    1\n",
      "3.62    1\n",
      "3.69    1\n",
      "4.93    1\n",
      "3.23    1\n",
      "4.11    1\n",
      "3.77    1\n",
      "3.85    1\n",
      "3.54    1\n",
      "3.21    1\n",
      "3.73    1\n",
      "Name: drat, dtype: int64\n",
      "3.570    2\n",
      "3.440    2\n",
      "2.200    1\n",
      "2.780    1\n",
      "3.845    1\n",
      "3.170    1\n",
      "1.835    1\n",
      "2.320    1\n",
      "2.140    1\n",
      "3.460    1\n",
      "2.770    1\n",
      "3.215    1\n",
      "2.465    1\n",
      "1.513    1\n",
      "3.840    1\n",
      "2.620    1\n",
      "3.435    1\n",
      "3.190    1\n",
      "5.345    1\n",
      "3.150    1\n",
      "2.875    1\n",
      "1.615    1\n",
      "1.935    1\n",
      "3.520    1\n",
      "Name: wt, dtype: int64\n",
      "17.02    2\n",
      "17.30    1\n",
      "18.61    1\n",
      "20.01    1\n",
      "16.90    1\n",
      "19.47    1\n",
      "16.87    1\n",
      "18.60    1\n",
      "14.50    1\n",
      "15.84    1\n",
      "19.90    1\n",
      "20.22    1\n",
      "16.70    1\n",
      "15.50    1\n",
      "19.44    1\n",
      "18.30    1\n",
      "17.42    1\n",
      "15.41    1\n",
      "16.46    1\n",
      "18.90    1\n",
      "17.05    1\n",
      "22.90    1\n",
      "14.60    1\n",
      "20.00    1\n",
      "18.52    1\n",
      "Name: qsec, dtype: int64\n",
      "0    13\n",
      "1    13\n",
      "Name: am, dtype: int64\n",
      "4    11\n",
      "3    10\n",
      "5     5\n",
      "Name: gear, dtype: int64\n",
      "2    10\n",
      "1     7\n",
      "4     7\n",
      "6     1\n",
      "8     1\n",
      "Name: carb, dtype: int64\n"
     ]
    }
   ],
   "source": [
    "#C)write the forloop to get value_counts of all cloumns\n",
    "for c in Dataset.columns:\n",
    "    print( Dataset[c].value_counts())"
   ]
  },
  {
   "cell_type": "markdown",
   "id": "efe6f227",
   "metadata": {},
   "source": [
    "4.Use Bank Dataset from LMS\n",
    "\n",
    "A)change all the categorical columns into numerical by creating Dummies and using label encoder.\n",
    "\n",
    "B) rename all the column names DF\n",
    "\n",
    "C) Rename only one specific column in DF"
   ]
  },
  {
   "cell_type": "code",
   "execution_count": 23,
   "id": "3c2d2d63",
   "metadata": {
    "scrolled": false
   },
   "outputs": [
    {
     "data": {
      "text/html": [
       "<div>\n",
       "<style scoped>\n",
       "    .dataframe tbody tr th:only-of-type {\n",
       "        vertical-align: middle;\n",
       "    }\n",
       "\n",
       "    .dataframe tbody tr th {\n",
       "        vertical-align: top;\n",
       "    }\n",
       "\n",
       "    .dataframe thead th {\n",
       "        text-align: right;\n",
       "    }\n",
       "</style>\n",
       "<table border=\"1\" class=\"dataframe\">\n",
       "  <thead>\n",
       "    <tr style=\"text-align: right;\">\n",
       "      <th></th>\n",
       "      <th>age</th>\n",
       "      <th>job</th>\n",
       "      <th>marital</th>\n",
       "      <th>education</th>\n",
       "      <th>default</th>\n",
       "      <th>balance</th>\n",
       "      <th>housing</th>\n",
       "      <th>loan</th>\n",
       "      <th>contact</th>\n",
       "      <th>day</th>\n",
       "      <th>month</th>\n",
       "      <th>duration</th>\n",
       "      <th>campaign</th>\n",
       "      <th>pdays</th>\n",
       "      <th>previous</th>\n",
       "      <th>poutcome</th>\n",
       "      <th>y</th>\n",
       "    </tr>\n",
       "  </thead>\n",
       "  <tbody>\n",
       "    <tr>\n",
       "      <th>0</th>\n",
       "      <td>58</td>\n",
       "      <td>management</td>\n",
       "      <td>married</td>\n",
       "      <td>tertiary</td>\n",
       "      <td>no</td>\n",
       "      <td>2143</td>\n",
       "      <td>yes</td>\n",
       "      <td>no</td>\n",
       "      <td>unknown</td>\n",
       "      <td>5</td>\n",
       "      <td>may</td>\n",
       "      <td>261</td>\n",
       "      <td>1</td>\n",
       "      <td>-1</td>\n",
       "      <td>0</td>\n",
       "      <td>unknown</td>\n",
       "      <td>no</td>\n",
       "    </tr>\n",
       "    <tr>\n",
       "      <th>1</th>\n",
       "      <td>44</td>\n",
       "      <td>technician</td>\n",
       "      <td>single</td>\n",
       "      <td>secondary</td>\n",
       "      <td>no</td>\n",
       "      <td>29</td>\n",
       "      <td>yes</td>\n",
       "      <td>no</td>\n",
       "      <td>unknown</td>\n",
       "      <td>5</td>\n",
       "      <td>may</td>\n",
       "      <td>151</td>\n",
       "      <td>1</td>\n",
       "      <td>-1</td>\n",
       "      <td>0</td>\n",
       "      <td>unknown</td>\n",
       "      <td>no</td>\n",
       "    </tr>\n",
       "    <tr>\n",
       "      <th>2</th>\n",
       "      <td>33</td>\n",
       "      <td>entrepreneur</td>\n",
       "      <td>married</td>\n",
       "      <td>secondary</td>\n",
       "      <td>no</td>\n",
       "      <td>2</td>\n",
       "      <td>yes</td>\n",
       "      <td>yes</td>\n",
       "      <td>unknown</td>\n",
       "      <td>5</td>\n",
       "      <td>may</td>\n",
       "      <td>76</td>\n",
       "      <td>1</td>\n",
       "      <td>-1</td>\n",
       "      <td>0</td>\n",
       "      <td>unknown</td>\n",
       "      <td>no</td>\n",
       "    </tr>\n",
       "    <tr>\n",
       "      <th>3</th>\n",
       "      <td>47</td>\n",
       "      <td>blue-collar</td>\n",
       "      <td>married</td>\n",
       "      <td>unknown</td>\n",
       "      <td>no</td>\n",
       "      <td>1506</td>\n",
       "      <td>yes</td>\n",
       "      <td>no</td>\n",
       "      <td>unknown</td>\n",
       "      <td>5</td>\n",
       "      <td>may</td>\n",
       "      <td>92</td>\n",
       "      <td>1</td>\n",
       "      <td>-1</td>\n",
       "      <td>0</td>\n",
       "      <td>unknown</td>\n",
       "      <td>no</td>\n",
       "    </tr>\n",
       "    <tr>\n",
       "      <th>4</th>\n",
       "      <td>33</td>\n",
       "      <td>unknown</td>\n",
       "      <td>single</td>\n",
       "      <td>unknown</td>\n",
       "      <td>no</td>\n",
       "      <td>1</td>\n",
       "      <td>no</td>\n",
       "      <td>no</td>\n",
       "      <td>unknown</td>\n",
       "      <td>5</td>\n",
       "      <td>may</td>\n",
       "      <td>198</td>\n",
       "      <td>1</td>\n",
       "      <td>-1</td>\n",
       "      <td>0</td>\n",
       "      <td>unknown</td>\n",
       "      <td>no</td>\n",
       "    </tr>\n",
       "  </tbody>\n",
       "</table>\n",
       "</div>"
      ],
      "text/plain": [
       "   age           job  marital  education default  balance housing loan  \\\n",
       "0   58    management  married   tertiary      no     2143     yes   no   \n",
       "1   44    technician   single  secondary      no       29     yes   no   \n",
       "2   33  entrepreneur  married  secondary      no        2     yes  yes   \n",
       "3   47   blue-collar  married    unknown      no     1506     yes   no   \n",
       "4   33       unknown   single    unknown      no        1      no   no   \n",
       "\n",
       "   contact  day month  duration  campaign  pdays  previous poutcome   y  \n",
       "0  unknown    5   may       261         1     -1         0  unknown  no  \n",
       "1  unknown    5   may       151         1     -1         0  unknown  no  \n",
       "2  unknown    5   may        76         1     -1         0  unknown  no  \n",
       "3  unknown    5   may        92         1     -1         0  unknown  no  \n",
       "4  unknown    5   may       198         1     -1         0  unknown  no  "
      ]
     },
     "execution_count": 23,
     "metadata": {},
     "output_type": "execute_result"
    }
   ],
   "source": [
    "#A)change all the categorical columns into numerical by creating Dummies and using label encoder.\n",
    "#importing The Required Library\n",
    "import pandas as pd\n",
    "Dataset = pd.read_csv(\"C:/Users/Akaash/Downloads/bank-full.csv\",delimiter = ';')\n",
    "Dataset.head()"
   ]
  },
  {
   "cell_type": "code",
   "execution_count": 24,
   "id": "bab7520f",
   "metadata": {
    "scrolled": true
   },
   "outputs": [
    {
     "data": {
      "text/html": [
       "<div>\n",
       "<style scoped>\n",
       "    .dataframe tbody tr th:only-of-type {\n",
       "        vertical-align: middle;\n",
       "    }\n",
       "\n",
       "    .dataframe tbody tr th {\n",
       "        vertical-align: top;\n",
       "    }\n",
       "\n",
       "    .dataframe thead th {\n",
       "        text-align: right;\n",
       "    }\n",
       "</style>\n",
       "<table border=\"1\" class=\"dataframe\">\n",
       "  <thead>\n",
       "    <tr style=\"text-align: right;\">\n",
       "      <th></th>\n",
       "      <th>age</th>\n",
       "      <th>balance</th>\n",
       "      <th>day</th>\n",
       "      <th>duration</th>\n",
       "      <th>campaign</th>\n",
       "      <th>pdays</th>\n",
       "      <th>previous</th>\n",
       "      <th>job_admin.</th>\n",
       "      <th>job_blue-collar</th>\n",
       "      <th>job_entrepreneur</th>\n",
       "      <th>...</th>\n",
       "      <th>month_may</th>\n",
       "      <th>month_nov</th>\n",
       "      <th>month_oct</th>\n",
       "      <th>month_sep</th>\n",
       "      <th>poutcome_failure</th>\n",
       "      <th>poutcome_other</th>\n",
       "      <th>poutcome_success</th>\n",
       "      <th>poutcome_unknown</th>\n",
       "      <th>y_no</th>\n",
       "      <th>y_yes</th>\n",
       "    </tr>\n",
       "  </thead>\n",
       "  <tbody>\n",
       "    <tr>\n",
       "      <th>0</th>\n",
       "      <td>58</td>\n",
       "      <td>2143</td>\n",
       "      <td>5</td>\n",
       "      <td>261</td>\n",
       "      <td>1</td>\n",
       "      <td>-1</td>\n",
       "      <td>0</td>\n",
       "      <td>0</td>\n",
       "      <td>0</td>\n",
       "      <td>0</td>\n",
       "      <td>...</td>\n",
       "      <td>1</td>\n",
       "      <td>0</td>\n",
       "      <td>0</td>\n",
       "      <td>0</td>\n",
       "      <td>0</td>\n",
       "      <td>0</td>\n",
       "      <td>0</td>\n",
       "      <td>1</td>\n",
       "      <td>1</td>\n",
       "      <td>0</td>\n",
       "    </tr>\n",
       "    <tr>\n",
       "      <th>1</th>\n",
       "      <td>44</td>\n",
       "      <td>29</td>\n",
       "      <td>5</td>\n",
       "      <td>151</td>\n",
       "      <td>1</td>\n",
       "      <td>-1</td>\n",
       "      <td>0</td>\n",
       "      <td>0</td>\n",
       "      <td>0</td>\n",
       "      <td>0</td>\n",
       "      <td>...</td>\n",
       "      <td>1</td>\n",
       "      <td>0</td>\n",
       "      <td>0</td>\n",
       "      <td>0</td>\n",
       "      <td>0</td>\n",
       "      <td>0</td>\n",
       "      <td>0</td>\n",
       "      <td>1</td>\n",
       "      <td>1</td>\n",
       "      <td>0</td>\n",
       "    </tr>\n",
       "    <tr>\n",
       "      <th>2</th>\n",
       "      <td>33</td>\n",
       "      <td>2</td>\n",
       "      <td>5</td>\n",
       "      <td>76</td>\n",
       "      <td>1</td>\n",
       "      <td>-1</td>\n",
       "      <td>0</td>\n",
       "      <td>0</td>\n",
       "      <td>0</td>\n",
       "      <td>1</td>\n",
       "      <td>...</td>\n",
       "      <td>1</td>\n",
       "      <td>0</td>\n",
       "      <td>0</td>\n",
       "      <td>0</td>\n",
       "      <td>0</td>\n",
       "      <td>0</td>\n",
       "      <td>0</td>\n",
       "      <td>1</td>\n",
       "      <td>1</td>\n",
       "      <td>0</td>\n",
       "    </tr>\n",
       "    <tr>\n",
       "      <th>3</th>\n",
       "      <td>47</td>\n",
       "      <td>1506</td>\n",
       "      <td>5</td>\n",
       "      <td>92</td>\n",
       "      <td>1</td>\n",
       "      <td>-1</td>\n",
       "      <td>0</td>\n",
       "      <td>0</td>\n",
       "      <td>1</td>\n",
       "      <td>0</td>\n",
       "      <td>...</td>\n",
       "      <td>1</td>\n",
       "      <td>0</td>\n",
       "      <td>0</td>\n",
       "      <td>0</td>\n",
       "      <td>0</td>\n",
       "      <td>0</td>\n",
       "      <td>0</td>\n",
       "      <td>1</td>\n",
       "      <td>1</td>\n",
       "      <td>0</td>\n",
       "    </tr>\n",
       "    <tr>\n",
       "      <th>4</th>\n",
       "      <td>33</td>\n",
       "      <td>1</td>\n",
       "      <td>5</td>\n",
       "      <td>198</td>\n",
       "      <td>1</td>\n",
       "      <td>-1</td>\n",
       "      <td>0</td>\n",
       "      <td>0</td>\n",
       "      <td>0</td>\n",
       "      <td>0</td>\n",
       "      <td>...</td>\n",
       "      <td>1</td>\n",
       "      <td>0</td>\n",
       "      <td>0</td>\n",
       "      <td>0</td>\n",
       "      <td>0</td>\n",
       "      <td>0</td>\n",
       "      <td>0</td>\n",
       "      <td>1</td>\n",
       "      <td>1</td>\n",
       "      <td>0</td>\n",
       "    </tr>\n",
       "  </tbody>\n",
       "</table>\n",
       "<p>5 rows × 53 columns</p>\n",
       "</div>"
      ],
      "text/plain": [
       "   age  balance  day  duration  campaign  pdays  previous  job_admin.  \\\n",
       "0   58     2143    5       261         1     -1         0           0   \n",
       "1   44       29    5       151         1     -1         0           0   \n",
       "2   33        2    5        76         1     -1         0           0   \n",
       "3   47     1506    5        92         1     -1         0           0   \n",
       "4   33        1    5       198         1     -1         0           0   \n",
       "\n",
       "   job_blue-collar  job_entrepreneur  ...  month_may  month_nov  month_oct  \\\n",
       "0                0                 0  ...          1          0          0   \n",
       "1                0                 0  ...          1          0          0   \n",
       "2                0                 1  ...          1          0          0   \n",
       "3                1                 0  ...          1          0          0   \n",
       "4                0                 0  ...          1          0          0   \n",
       "\n",
       "   month_sep  poutcome_failure  poutcome_other  poutcome_success  \\\n",
       "0          0                 0               0                 0   \n",
       "1          0                 0               0                 0   \n",
       "2          0                 0               0                 0   \n",
       "3          0                 0               0                 0   \n",
       "4          0                 0               0                 0   \n",
       "\n",
       "   poutcome_unknown  y_no  y_yes  \n",
       "0                 1     1      0  \n",
       "1                 1     1      0  \n",
       "2                 1     1      0  \n",
       "3                 1     1      0  \n",
       "4                 1     1      0  \n",
       "\n",
       "[5 rows x 53 columns]"
      ]
     },
     "execution_count": 24,
     "metadata": {},
     "output_type": "execute_result"
    }
   ],
   "source": [
    "#A)change all the categorical columns into numerical by creating Dummies and using label encoder.\n",
    "\n",
    "#Dummies\n",
    "#importing the Required library\n",
    "import pandas as pd\n",
    "Dataset2 = pd.get_dummies(Dataset)\n",
    "Dataset2.head()"
   ]
  },
  {
   "cell_type": "markdown",
   "id": "caca5e37",
   "metadata": {},
   "source": [
    "Inference: One Hot Encoding is Applied"
   ]
  },
  {
   "cell_type": "code",
   "execution_count": 25,
   "id": "3a6da9f1",
   "metadata": {
    "scrolled": false
   },
   "outputs": [
    {
     "data": {
      "text/html": [
       "<div>\n",
       "<style scoped>\n",
       "    .dataframe tbody tr th:only-of-type {\n",
       "        vertical-align: middle;\n",
       "    }\n",
       "\n",
       "    .dataframe tbody tr th {\n",
       "        vertical-align: top;\n",
       "    }\n",
       "\n",
       "    .dataframe thead th {\n",
       "        text-align: right;\n",
       "    }\n",
       "</style>\n",
       "<table border=\"1\" class=\"dataframe\">\n",
       "  <thead>\n",
       "    <tr style=\"text-align: right;\">\n",
       "      <th></th>\n",
       "      <th>age</th>\n",
       "      <th>job</th>\n",
       "      <th>marital</th>\n",
       "      <th>education</th>\n",
       "      <th>default</th>\n",
       "      <th>balance</th>\n",
       "      <th>housing</th>\n",
       "      <th>loan</th>\n",
       "      <th>contact</th>\n",
       "      <th>day</th>\n",
       "      <th>month</th>\n",
       "      <th>duration</th>\n",
       "      <th>campaign</th>\n",
       "      <th>pdays</th>\n",
       "      <th>previous</th>\n",
       "      <th>poutcome</th>\n",
       "      <th>y</th>\n",
       "    </tr>\n",
       "  </thead>\n",
       "  <tbody>\n",
       "    <tr>\n",
       "      <th>0</th>\n",
       "      <td>40</td>\n",
       "      <td>4</td>\n",
       "      <td>1</td>\n",
       "      <td>2</td>\n",
       "      <td>0</td>\n",
       "      <td>3036</td>\n",
       "      <td>1</td>\n",
       "      <td>0</td>\n",
       "      <td>2</td>\n",
       "      <td>4</td>\n",
       "      <td>8</td>\n",
       "      <td>261</td>\n",
       "      <td>0</td>\n",
       "      <td>0</td>\n",
       "      <td>0</td>\n",
       "      <td>3</td>\n",
       "      <td>0</td>\n",
       "    </tr>\n",
       "    <tr>\n",
       "      <th>1</th>\n",
       "      <td>26</td>\n",
       "      <td>9</td>\n",
       "      <td>2</td>\n",
       "      <td>1</td>\n",
       "      <td>0</td>\n",
       "      <td>945</td>\n",
       "      <td>1</td>\n",
       "      <td>0</td>\n",
       "      <td>2</td>\n",
       "      <td>4</td>\n",
       "      <td>8</td>\n",
       "      <td>151</td>\n",
       "      <td>0</td>\n",
       "      <td>0</td>\n",
       "      <td>0</td>\n",
       "      <td>3</td>\n",
       "      <td>0</td>\n",
       "    </tr>\n",
       "    <tr>\n",
       "      <th>2</th>\n",
       "      <td>15</td>\n",
       "      <td>2</td>\n",
       "      <td>1</td>\n",
       "      <td>1</td>\n",
       "      <td>0</td>\n",
       "      <td>918</td>\n",
       "      <td>1</td>\n",
       "      <td>1</td>\n",
       "      <td>2</td>\n",
       "      <td>4</td>\n",
       "      <td>8</td>\n",
       "      <td>76</td>\n",
       "      <td>0</td>\n",
       "      <td>0</td>\n",
       "      <td>0</td>\n",
       "      <td>3</td>\n",
       "      <td>0</td>\n",
       "    </tr>\n",
       "    <tr>\n",
       "      <th>3</th>\n",
       "      <td>29</td>\n",
       "      <td>1</td>\n",
       "      <td>1</td>\n",
       "      <td>3</td>\n",
       "      <td>0</td>\n",
       "      <td>2420</td>\n",
       "      <td>1</td>\n",
       "      <td>0</td>\n",
       "      <td>2</td>\n",
       "      <td>4</td>\n",
       "      <td>8</td>\n",
       "      <td>92</td>\n",
       "      <td>0</td>\n",
       "      <td>0</td>\n",
       "      <td>0</td>\n",
       "      <td>3</td>\n",
       "      <td>0</td>\n",
       "    </tr>\n",
       "    <tr>\n",
       "      <th>4</th>\n",
       "      <td>15</td>\n",
       "      <td>11</td>\n",
       "      <td>2</td>\n",
       "      <td>3</td>\n",
       "      <td>0</td>\n",
       "      <td>917</td>\n",
       "      <td>0</td>\n",
       "      <td>0</td>\n",
       "      <td>2</td>\n",
       "      <td>4</td>\n",
       "      <td>8</td>\n",
       "      <td>198</td>\n",
       "      <td>0</td>\n",
       "      <td>0</td>\n",
       "      <td>0</td>\n",
       "      <td>3</td>\n",
       "      <td>0</td>\n",
       "    </tr>\n",
       "  </tbody>\n",
       "</table>\n",
       "</div>"
      ],
      "text/plain": [
       "   age  job  marital  education  default  balance  housing  loan  contact  \\\n",
       "0   40    4        1          2        0     3036        1     0        2   \n",
       "1   26    9        2          1        0      945        1     0        2   \n",
       "2   15    2        1          1        0      918        1     1        2   \n",
       "3   29    1        1          3        0     2420        1     0        2   \n",
       "4   15   11        2          3        0      917        0     0        2   \n",
       "\n",
       "   day  month  duration  campaign  pdays  previous  poutcome  y  \n",
       "0    4      8       261         0      0         0         3  0  \n",
       "1    4      8       151         0      0         0         3  0  \n",
       "2    4      8        76         0      0         0         3  0  \n",
       "3    4      8        92         0      0         0         3  0  \n",
       "4    4      8       198         0      0         0         3  0  "
      ]
     },
     "execution_count": 25,
     "metadata": {},
     "output_type": "execute_result"
    }
   ],
   "source": [
    "#A)change all the categorical columns into numerical by creating Dummies and using label encoder.\n",
    "\n",
    "#Label Encoder\n",
    "#note: Label Encoder Are used only when Y variable is Categorial\n",
    "#importing the Required library\n",
    "from sklearn.preprocessing import LabelEncoder\n",
    "\n",
    "# Completing the dataset - applying lable encoder to Catergorial column\n",
    "Dataset3 = Dataset.apply(LabelEncoder().fit_transform)\n",
    "Dataset3.head()"
   ]
  },
  {
   "cell_type": "markdown",
   "id": "c23ba3b5",
   "metadata": {},
   "source": [
    "Inference: Label Encoder is Applied"
   ]
  },
  {
   "cell_type": "code",
   "execution_count": 26,
   "id": "3bb27702",
   "metadata": {},
   "outputs": [
    {
     "name": "stdout",
     "output_type": "stream",
     "text": [
      "Index(['AGE', 'JOB', 'MARITAL', 'EDUCATION', 'DEFAULT', 'BALANCE', 'HOUSING',\n",
      "       'LOAN', 'CONTACT', 'DAY', 'MONTH', 'duration', 'CAMPAIGN', 'PDAYS',\n",
      "       'PREVIOUS', 'POUTCOME', 'Y'],\n",
      "      dtype='object')\n"
     ]
    }
   ],
   "source": [
    "#B)rename all the column names DF\n",
    "#rename the Solar column axis=1 perform it based on column \n",
    "Dataset4 = Dataset3.rename({'age': 'AGE','job':'JOB','marital':'MARITAL','education':'EDUCATION','default':'DEFAULT',\n",
    "                           'balance':'BALANCE','housing':'HOUSING','loan':'LOAN','contact':'CONTACT','day':'DAY',\n",
    "                           'month':'MONTH','Duration':'DURATION','campaign':'CAMPAIGN','pdays':'PDAYS',\n",
    "                           'previous':'PREVIOUS','poutcome':'POUTCOME','y':'Y'}, axis=1)\n",
    "print(Dataset4.columns)"
   ]
  },
  {
   "cell_type": "markdown",
   "id": "3e722a32",
   "metadata": {},
   "source": [
    "Inference: Renamed Using rename()"
   ]
  },
  {
   "cell_type": "code",
   "execution_count": 27,
   "id": "7af75ce2",
   "metadata": {},
   "outputs": [
    {
     "name": "stdout",
     "output_type": "stream",
     "text": [
      "Index(['CUS_AGE', 'JOB', 'MARITAL', 'EDUCATION', 'DEFAULT', 'BALANCE',\n",
      "       'HOUSING', 'LOAN', 'CONTACT', 'DAY', 'MONTH', 'duration', 'CAMPAIGN',\n",
      "       'PDAYS', 'PREVIOUS', 'POUTCOME', 'Y'],\n",
      "      dtype='object')\n"
     ]
    }
   ],
   "source": [
    "#C) Rename only one specific column in DF\n",
    "#rename the Solar column axis=1 perform it based on column \n",
    "Dataset5 = Dataset4.rename({'AGE': 'CUS_AGE'}, axis=1)\n",
    "print(Dataset5.columns)"
   ]
  },
  {
   "cell_type": "markdown",
   "id": "efd9eea6",
   "metadata": {},
   "source": [
    "Inference: AGE Column Name renamed to CUS_AGE"
   ]
  },
  {
   "cell_type": "code",
   "execution_count": 28,
   "id": "e691caef",
   "metadata": {
    "scrolled": false
   },
   "outputs": [
    {
     "data": {
      "text/html": [
       "<div>\n",
       "<style scoped>\n",
       "    .dataframe tbody tr th:only-of-type {\n",
       "        vertical-align: middle;\n",
       "    }\n",
       "\n",
       "    .dataframe tbody tr th {\n",
       "        vertical-align: top;\n",
       "    }\n",
       "\n",
       "    .dataframe thead th {\n",
       "        text-align: right;\n",
       "    }\n",
       "</style>\n",
       "<table border=\"1\" class=\"dataframe\">\n",
       "  <thead>\n",
       "    <tr style=\"text-align: right;\">\n",
       "      <th></th>\n",
       "      <th>Unnamed: 0</th>\n",
       "      <th>CUS_AGE</th>\n",
       "      <th>JOB</th>\n",
       "      <th>MARITAL</th>\n",
       "      <th>EDUCATION</th>\n",
       "      <th>DEFAULT</th>\n",
       "      <th>BALANCE</th>\n",
       "      <th>HOUSING</th>\n",
       "      <th>LOAN</th>\n",
       "      <th>CONTACT</th>\n",
       "      <th>DAY</th>\n",
       "      <th>MONTH</th>\n",
       "      <th>duration</th>\n",
       "      <th>CAMPAIGN</th>\n",
       "      <th>PDAYS</th>\n",
       "      <th>PREVIOUS</th>\n",
       "      <th>POUTCOME</th>\n",
       "      <th>Y</th>\n",
       "    </tr>\n",
       "  </thead>\n",
       "  <tbody>\n",
       "    <tr>\n",
       "      <th>0</th>\n",
       "      <td>0</td>\n",
       "      <td>40</td>\n",
       "      <td>4</td>\n",
       "      <td>1</td>\n",
       "      <td>2</td>\n",
       "      <td>0</td>\n",
       "      <td>3036</td>\n",
       "      <td>1</td>\n",
       "      <td>0</td>\n",
       "      <td>2</td>\n",
       "      <td>4</td>\n",
       "      <td>8</td>\n",
       "      <td>261</td>\n",
       "      <td>0</td>\n",
       "      <td>0</td>\n",
       "      <td>0</td>\n",
       "      <td>3</td>\n",
       "      <td>0</td>\n",
       "    </tr>\n",
       "    <tr>\n",
       "      <th>1</th>\n",
       "      <td>1</td>\n",
       "      <td>26</td>\n",
       "      <td>9</td>\n",
       "      <td>2</td>\n",
       "      <td>1</td>\n",
       "      <td>0</td>\n",
       "      <td>945</td>\n",
       "      <td>1</td>\n",
       "      <td>0</td>\n",
       "      <td>2</td>\n",
       "      <td>4</td>\n",
       "      <td>8</td>\n",
       "      <td>151</td>\n",
       "      <td>0</td>\n",
       "      <td>0</td>\n",
       "      <td>0</td>\n",
       "      <td>3</td>\n",
       "      <td>0</td>\n",
       "    </tr>\n",
       "    <tr>\n",
       "      <th>2</th>\n",
       "      <td>2</td>\n",
       "      <td>15</td>\n",
       "      <td>2</td>\n",
       "      <td>1</td>\n",
       "      <td>1</td>\n",
       "      <td>0</td>\n",
       "      <td>918</td>\n",
       "      <td>1</td>\n",
       "      <td>1</td>\n",
       "      <td>2</td>\n",
       "      <td>4</td>\n",
       "      <td>8</td>\n",
       "      <td>76</td>\n",
       "      <td>0</td>\n",
       "      <td>0</td>\n",
       "      <td>0</td>\n",
       "      <td>3</td>\n",
       "      <td>0</td>\n",
       "    </tr>\n",
       "    <tr>\n",
       "      <th>3</th>\n",
       "      <td>3</td>\n",
       "      <td>29</td>\n",
       "      <td>1</td>\n",
       "      <td>1</td>\n",
       "      <td>3</td>\n",
       "      <td>0</td>\n",
       "      <td>2420</td>\n",
       "      <td>1</td>\n",
       "      <td>0</td>\n",
       "      <td>2</td>\n",
       "      <td>4</td>\n",
       "      <td>8</td>\n",
       "      <td>92</td>\n",
       "      <td>0</td>\n",
       "      <td>0</td>\n",
       "      <td>0</td>\n",
       "      <td>3</td>\n",
       "      <td>0</td>\n",
       "    </tr>\n",
       "    <tr>\n",
       "      <th>4</th>\n",
       "      <td>4</td>\n",
       "      <td>15</td>\n",
       "      <td>11</td>\n",
       "      <td>2</td>\n",
       "      <td>3</td>\n",
       "      <td>0</td>\n",
       "      <td>917</td>\n",
       "      <td>0</td>\n",
       "      <td>0</td>\n",
       "      <td>2</td>\n",
       "      <td>4</td>\n",
       "      <td>8</td>\n",
       "      <td>198</td>\n",
       "      <td>0</td>\n",
       "      <td>0</td>\n",
       "      <td>0</td>\n",
       "      <td>3</td>\n",
       "      <td>0</td>\n",
       "    </tr>\n",
       "  </tbody>\n",
       "</table>\n",
       "</div>"
      ],
      "text/plain": [
       "   Unnamed: 0  CUS_AGE  JOB  MARITAL  EDUCATION  DEFAULT  BALANCE  HOUSING  \\\n",
       "0           0       40    4        1          2        0     3036        1   \n",
       "1           1       26    9        2          1        0      945        1   \n",
       "2           2       15    2        1          1        0      918        1   \n",
       "3           3       29    1        1          3        0     2420        1   \n",
       "4           4       15   11        2          3        0      917        0   \n",
       "\n",
       "   LOAN  CONTACT  DAY  MONTH  duration  CAMPAIGN  PDAYS  PREVIOUS  POUTCOME  Y  \n",
       "0     0        2    4      8       261         0      0         0         3  0  \n",
       "1     0        2    4      8       151         0      0         0         3  0  \n",
       "2     1        2    4      8        76         0      0         0         3  0  \n",
       "3     0        2    4      8        92         0      0         0         3  0  \n",
       "4     0        2    4      8       198         0      0         0         3  0  "
      ]
     },
     "execution_count": 28,
     "metadata": {},
     "output_type": "execute_result"
    }
   ],
   "source": [
    "#5. After doing all the changes in bank data(Q19). save the file in your directory in Csv Format.\n",
    "\n",
    "#Saving the DataFrame into csv\n",
    "Dataset5.to_csv(\"C:/Users/Akaash/Downloads/Q5_Updated.csv\")\n",
    "\n",
    "Q5_Updated = pd.read_csv(\"C:/Users/Akaash/Downloads/Q5_Updated.csv\")\n",
    "Q5_Updated.head()"
   ]
  },
  {
   "cell_type": "markdown",
   "id": "381f1bd5",
   "metadata": {},
   "source": [
    "Inference: Changed made Dataset is saved as csv and import the same"
   ]
  },
  {
   "cell_type": "markdown",
   "id": "f4e54fef",
   "metadata": {},
   "source": [
    "#### Assignment Question - Basic Program"
   ]
  },
  {
   "cell_type": "markdown",
   "id": "cd93ab2a",
   "metadata": {},
   "source": [
    "1.Write Python Programs to use various operators in Python"
   ]
  },
  {
   "cell_type": "code",
   "execution_count": 29,
   "id": "0301a1f3",
   "metadata": {},
   "outputs": [
    {
     "name": "stdout",
     "output_type": "stream",
     "text": [
      "Examples of Arithmetic Operator\n",
      "13\n",
      "5\n",
      "36\n",
      "2.25\n",
      "2\n",
      "1\n",
      "6561\n",
      "Comparsion operator using if statement\n",
      "a is Greater\n"
     ]
    }
   ],
   "source": [
    "a = 9\n",
    "b = 4\n",
    "# Addition of numbers\n",
    "add = a + b\n",
    "# Subtraction of numbers\n",
    "sub = a - b\n",
    "# Multiplication of number\n",
    "mul = a * b\n",
    "# Division(float) of number\n",
    "div1 = a / b\n",
    "# Division(floor) of number\n",
    "div2 = a // b\n",
    "# Modulo of both number\n",
    "mod = a % b\n",
    "# Power\n",
    "p = a ** b\n",
    "# print results\n",
    "print(\"Examples of Arithmetic Operator\")\n",
    "print(add)\n",
    "print(sub)\n",
    "print(mul)\n",
    "print(div1)\n",
    "print(div2)\n",
    "print(mod)\n",
    "print(p)\n",
    "\n",
    "print(\"Comparsion operator using if statement\")\n",
    "\n",
    "if a < b:\n",
    "    print(\"b is greater\")\n",
    "elif a > b:\n",
    "    print(\"a is Greater\")\n",
    "else:\n",
    "    print(\"a & b is equal\")"
   ]
  },
  {
   "cell_type": "markdown",
   "id": "100562c8",
   "metadata": {},
   "source": [
    "2.Create list of elements and slice and dice it"
   ]
  },
  {
   "cell_type": "code",
   "execution_count": 30,
   "id": "576d4920",
   "metadata": {},
   "outputs": [
    {
     "name": "stdout",
     "output_type": "stream",
     "text": [
      "\n",
      "Original List:\n",
      " [1, 2, 3, 4, 5, 6, 7, 8, 9]\n",
      "\n",
      "Sliced Lists: \n",
      "[4, 6, 8]\n",
      "[1, 3, 5, 7, 9]\n",
      "[1, 2, 3, 4, 5, 6, 7, 8, 9]\n"
     ]
    }
   ],
   "source": [
    "# Initialize list\n",
    "List = [1, 2, 3, 4, 5, 6, 7, 8, 9]\n",
    "# Show original list\n",
    "print(\"\\nOriginal List:\\n\", List)\n",
    "print(\"\\nSliced Lists: \")\n",
    "# Display sliced list\n",
    "print(List[3:9:2])\n",
    "# Display sliced list\n",
    "print(List[::2])\n",
    "# Display sliced list\n",
    "print(List[::])"
   ]
  },
  {
   "cell_type": "markdown",
   "id": "e316b6ba",
   "metadata": {},
   "source": [
    "3.Using while loop accept numbers until sum of numbers is less than 100"
   ]
  },
  {
   "cell_type": "code",
   "execution_count": 31,
   "id": "aef1e0ca",
   "metadata": {},
   "outputs": [
    {
     "name": "stdout",
     "output_type": "stream",
     "text": [
      "1\n",
      "2\n",
      "3\n",
      "4\n",
      "5\n",
      "6\n",
      "7\n",
      "8\n",
      "9\n",
      "10\n",
      "11\n",
      "12\n",
      "13\n",
      "14\n",
      "15\n",
      "16\n",
      "17\n",
      "18\n",
      "19\n",
      "20\n",
      "21\n",
      "22\n",
      "23\n",
      "24\n",
      "25\n",
      "26\n",
      "27\n",
      "28\n",
      "29\n",
      "30\n",
      "31\n",
      "32\n",
      "33\n",
      "34\n",
      "35\n",
      "36\n",
      "37\n",
      "38\n",
      "39\n",
      "40\n",
      "41\n",
      "42\n",
      "43\n",
      "44\n",
      "45\n",
      "46\n",
      "47\n",
      "48\n",
      "49\n",
      "50\n",
      "51\n",
      "52\n",
      "53\n",
      "54\n",
      "55\n",
      "56\n",
      "57\n",
      "58\n",
      "59\n",
      "60\n",
      "61\n",
      "62\n",
      "63\n",
      "64\n",
      "65\n",
      "66\n",
      "67\n",
      "68\n",
      "69\n",
      "70\n",
      "71\n",
      "72\n",
      "73\n",
      "74\n",
      "75\n",
      "76\n",
      "77\n",
      "78\n",
      "79\n",
      "80\n",
      "81\n",
      "82\n",
      "83\n",
      "84\n",
      "85\n",
      "86\n",
      "87\n",
      "88\n",
      "89\n",
      "90\n",
      "91\n",
      "92\n",
      "93\n",
      "94\n",
      "95\n",
      "96\n",
      "97\n",
      "98\n",
      "99\n",
      "Num is now greater then 100\n"
     ]
    }
   ],
   "source": [
    "#Code\n",
    "num = 1\n",
    "while num<100: #It will run till 99 \n",
    "    print(num)\n",
    "    num = num+1 #will Add the num +1 at every iteration of the loop\n",
    "else:\n",
    "    print(\"Num is now greater then 100\")"
   ]
  },
  {
   "cell_type": "markdown",
   "id": "4cda09f6",
   "metadata": {},
   "source": [
    "4.Write a python program Read & write Excel files "
   ]
  },
  {
   "cell_type": "code",
   "execution_count": 32,
   "id": "81355cf1",
   "metadata": {},
   "outputs": [
    {
     "name": "stdout",
     "output_type": "stream",
     "text": [
      "                cars  Points  Score  Weigh\n",
      "0          Mazda RX4    3.90  2.620  16.46\n",
      "1      Mazda RX4 Wag    3.90  2.875  17.02\n",
      "2         Datsun 710    3.85  2.320  18.61\n",
      "3     Hornet 4 Drive    3.08  3.215  19.44\n",
      "4  Hornet Sportabout    3.15  3.440  17.02\n",
      "5            Valiant    2.76  3.460  20.22\n",
      "6         Duster 360    3.21  3.570  15.84\n",
      "7          Merc 240D    3.69  3.190  20.00\n",
      "8           Merc 230    3.92  3.150  22.90\n",
      "\n",
      "\n",
      "(9, 4)\n",
      "                  cars  Points  Score  Weigh\n",
      "0   Cadillac Fleetwood    2.93   5.25  17.98\n",
      "1  Lincoln Continental    3.00   5.42  17.82\n",
      "\n",
      "\n",
      "                   cars  Points  Score  Weigh\n",
      "0             Mazda RX4    3.90  2.620  16.46\n",
      "1         Mazda RX4 Wag    3.90  2.875  17.02\n",
      "2            Datsun 710    3.85  2.320  18.61\n",
      "3        Hornet 4 Drive    3.08  3.215  19.44\n",
      "4     Hornet Sportabout    3.15  3.440  17.02\n",
      "5               Valiant    2.76  3.460  20.22\n",
      "6            Duster 360    3.21  3.570  15.84\n",
      "7             Merc 240D    3.69  3.190  20.00\n",
      "8              Merc 230    3.92  3.150  22.90\n",
      "9    Cadillac Fleetwood    2.93  5.250  17.98\n",
      "10  Lincoln Continental    3.00  5.420  17.82\n"
     ]
    }
   ],
   "source": [
    "#Loading the Pandas Library\n",
    "import pandas as pd\n",
    "#Reading the Excel into Dataframe\n",
    "df = pd.read_excel('C:/Users/Akaash/Downloads/Q4.xlsx')\n",
    "#Printing the Excel Dataframe\n",
    "print(df)\n",
    "# for One Line Space\n",
    "print('\\n')\n",
    "#Printing the Shape of Excel Dataframe\n",
    "print(df.shape)\n",
    "#Creating a DataFrame to Add to Excel Dataframe\n",
    "write_df = pd.DataFrame({'cars':['Cadillac Fleetwood','Lincoln Continental'],\n",
    "                          'Points':[2.93,3],'Score':[5.25,5.42],'Weigh':[17.98,17.82]})\n",
    "#Printing the New Dataframe\n",
    "print(write_df)\n",
    "# for One Line Space\n",
    "print('\\n')\n",
    "#Concatnating the Dataframe and Resetting the Index\n",
    "written = pd.concat([df, write_df]).reset_index()\n",
    "#Dropping the Index Column which is Created by reset_index()\n",
    "written = written.drop('index',axis = 1)\n",
    "#Printing the Merge DataFrame\n",
    "print(written)\n",
    "#Saving the DataFrame into Excel\n",
    "written.to_excel(\"C:/Users/Akaash/Downloads/Q4_Updated.xlsx\")"
   ]
  },
  {
   "cell_type": "markdown",
   "id": "205ef18c",
   "metadata": {},
   "source": [
    "5.Write a python program to scrape reviews from a commercial web site"
   ]
  },
  {
   "cell_type": "code",
   "execution_count": 33,
   "id": "05019ac4",
   "metadata": {},
   "outputs": [
    {
     "name": "stdout",
     "output_type": "stream",
     "text": [
      "Vote for difficulty\n",
      "Current difficulty :\n",
      "Basic\n"
     ]
    }
   ],
   "source": [
    "# import module\n",
    "from bs4 import BeautifulSoup\n",
    "import urllib.request\n",
    "url = \"https://www.geeksforgeeks.org/how-to-automate-an-excel-sheet-in-python/?ref=feed\"\n",
    "#Use Request to open the url for Reading\n",
    "openurl = urllib.request.urlopen(url)\n",
    "#Creating Beautifulsoup Structure\n",
    "soup = BeautifulSoup(openurl, 'html.parser')\n",
    "# getting the Reviews\n",
    "data = ''\n",
    "for data in soup.find_all(\"div\",{'class':['vote-d','vote-s']}):\n",
    "    print(data.get_text())"
   ]
  },
  {
   "cell_type": "markdown",
   "id": "7edb4a7e",
   "metadata": {},
   "source": [
    "6.Create a 3x3 matrix with values ranging from 2 to 10 using numpy"
   ]
  },
  {
   "cell_type": "code",
   "execution_count": 34,
   "id": "231d1146",
   "metadata": {},
   "outputs": [
    {
     "name": "stdout",
     "output_type": "stream",
     "text": [
      "[[ 2  3  4]\n",
      " [ 5  6  7]\n",
      " [ 8  9 10]]\n"
     ]
    }
   ],
   "source": [
    "#Importing the Required library\n",
    "import numpy as np\n",
    "arr =  np.arange(2, 11).reshape(3,3)\n",
    "print(arr)"
   ]
  },
  {
   "cell_type": "markdown",
   "id": "4b092961",
   "metadata": {},
   "source": [
    "7.Write a Python program to convert a list of numeric value into a one-dimensional NumPy array"
   ]
  },
  {
   "cell_type": "code",
   "execution_count": 35,
   "id": "dd31c60a",
   "metadata": {},
   "outputs": [
    {
     "name": "stdout",
     "output_type": "stream",
     "text": [
      "Original List: [12, 13, 100, 36]\n",
      "One-dimensional NumPy array:  [ 12  13 100  36]\n",
      "<class 'numpy.ndarray'>\n"
     ]
    }
   ],
   "source": [
    "#Importing the Required library\n",
    "import numpy as np\n",
    "List = [12, 13, 100, 36]\n",
    "print(\"Original List:\",List)\n",
    "arr = np.array(List)\n",
    "print(\"One-dimensional NumPy array: \",arr)\n",
    "print(type(arr))"
   ]
  },
  {
   "cell_type": "markdown",
   "id": "797e80fb",
   "metadata": {},
   "source": [
    "8.Write a Python program to create a null vector of size 10 and update sixth value to 11."
   ]
  },
  {
   "cell_type": "code",
   "execution_count": 36,
   "id": "11da3025",
   "metadata": {},
   "outputs": [
    {
     "name": "stdout",
     "output_type": "stream",
     "text": [
      "[0. 0. 0. 0. 0. 0. 0. 0. 0. 0.]\n",
      "Update sixth value to 11\n",
      "[ 0.  0.  0.  0.  0.  0. 11.  0.  0.  0.]\n"
     ]
    }
   ],
   "source": [
    "#Importing the Required library\n",
    "import numpy as np\n",
    "arr = np.zeros(10)\n",
    "print(arr)\n",
    "print(\"Update sixth value to 11\")\n",
    "#Accessing & Updating 6th element\n",
    "arr[6] = 11\n",
    "print(arr)"
   ]
  }
 ],
 "metadata": {
  "kernelspec": {
   "display_name": "Python 3",
   "language": "python",
   "name": "python3"
  },
  "language_info": {
   "codemirror_mode": {
    "name": "ipython",
    "version": 3
   },
   "file_extension": ".py",
   "mimetype": "text/x-python",
   "name": "python",
   "nbconvert_exporter": "python",
   "pygments_lexer": "ipython3",
   "version": "3.8.8"
  }
 },
 "nbformat": 4,
 "nbformat_minor": 5
}
